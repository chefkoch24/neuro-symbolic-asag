{
 "cells": [
  {
   "cell_type": "code",
   "execution_count": null,
   "metadata": {
    "pycharm": {
     "name": "#%%\n",
     "is_executing": true
    }
   },
   "outputs": [],
   "source": [
    "import skweak.utils\n",
    "from spacy import displacy\n",
    "import os"
   ]
  },
  {
   "cell_type": "code",
   "execution_count": 2,
   "metadata": {
    "pycharm": {
     "name": "#%%\n"
    }
   },
   "outputs": [],
   "source": [
    "def visualize_text(data):\n",
    "# Implement Visualization text\n",
    "    sample_size = 10\n",
    "    color_map = {'0.1': '#FEFEF6',\n",
    "                 '0.2': '#FBFBDC',\n",
    "                 '0.3': '#FCFCAC',\n",
    "                 '0.4': '#FBFBDC',\n",
    "                 '0.5': '#FDFD84',\n",
    "                 '0.6': '#F7F766',\n",
    "                 '0.7': '#ECEC44',\n",
    "                 '0.8': '#E8E834',\n",
    "                 '0.9': '#EBEB1D',\n",
    "                 '1.0': '#F5F503',\n",
    "                 }\n",
    "\n",
    "    for i, doc in enumerate(data):\n",
    "        if i < sample_size:\n",
    "            displacy.render(doc, style='ent', options={\"colors\": color_map})\n",
    "    #displacy.render(doc, style='ent', options={\"colors\": color_map})"
   ]
  },
  {
   "cell_type": "code",
   "execution_count": 3,
   "metadata": {
    "pycharm": {
     "name": "#%%\n"
    },
    "scrolled": false
   },
   "outputs": [
    {
     "name": "stdout",
     "output_type": "stream",
     "text": [
      "train_labeled_data_sum.spacy\n"
     ]
    },
    {
     "data": {
      "text/html": [
       "<span class=\"tex2jax_ignore\"><div class=\"entities\" style=\"line-height: 2.5; direction: ltr\">The functionality of options in IPv4 headers is removed and replaced from the main header through a set of so-called extension headers. They are additional headers in the IPv6 which are used for implementing more extensions. \n",
       "<mark class=\"entity\" style=\"background: #EBEB1D; padding: 0.45em 0.6em; margin: 0 0.25em; line-height: 1; border-radius: 0.35em;\">\n",
       "    The main header has a fixed size of 40 bytes;\n",
       "    <span style=\"font-size: 0.8em; font-weight: bold; line-height: 1; border-radius: 0.35em; vertical-align: middle; margin-left: 0.5rem\">0.9</span>\n",
       "</mark>\n",
       " the extensions headers, on the other hand, are optional and are added as needed. That means you can add extensions without planning it. There are several extension headers: Routing, Fragment, Destination, etc.   The extension headers are placed between the fixed header and the payload. Every extension header points to the next header. There is also the possibility to refer to a &quot;No Next Header&quot; which is only to show that nothing else follows. It creates a chain, at the end of which is usually the TCP or UDP header.   Extension headers are a way to extend the header and put additional information between the payload and the header. They are optional, and that's why we have an absolute efficiency gain comparing to IPv4. Because in IPv4, we had at least one part for the option reserved, but in IPv6, we can say there are no extension headers, and so we have a smaller header and, therefore, much more space for the payload. Also, extension headers result in a significant improvement in router performance for packets containing options. In contrast to IPv4, the extension headers are only examined by a router when a packet arrives at its final destination and not along their delivery path.</div></span>"
      ],
      "text/plain": [
       "<IPython.core.display.HTML object>"
      ]
     },
     "metadata": {},
     "output_type": "display_data"
    },
    {
     "data": {
      "text/html": [
       "<span class=\"tex2jax_ignore\"><div class=\"entities\" style=\"line-height: 2.5; direction: ltr\">Ich \n",
       "<mark class=\"entity\" style=\"background: #ECEC44; padding: 0.45em 0.6em; margin: 0 0.25em; line-height: 1; border-radius: 0.35em;\">\n",
       "    gebe mich zu erkennen und\n",
       "    <span style=\"font-size: 0.8em; font-weight: bold; line-height: 1; border-radius: 0.35em; vertical-align: middle; margin-left: 0.5rem\">0.7</span>\n",
       "</mark>\n",
       " zeige das Schreiben vor. Dann \n",
       "<mark class=\"entity\" style=\"background: #ECEC44; padding: 0.45em 0.6em; margin: 0 0.25em; line-height: 1; border-radius: 0.35em;\">\n",
       "    führe ich\n",
       "    <span style=\"font-size: 0.8em; font-weight: bold; line-height: 1; border-radius: 0.35em; vertical-align: middle; margin-left: 0.5rem\">0.7</span>\n",
       "</mark>\n",
       " den \n",
       "<mark class=\"entity\" style=\"background: #E8E834; padding: 0.45em 0.6em; margin: 0 0.25em; line-height: 1; border-radius: 0.35em;\">\n",
       "    Job mit Zustimmung weiter aus.\n",
       "    <span style=\"font-size: 0.8em; font-weight: bold; line-height: 1; border-radius: 0.35em; vertical-align: middle; margin-left: 0.5rem\">0.8</span>\n",
       "</mark>\n",
       " Zudem vermerke ich das bei \n",
       "<mark class=\"entity\" style=\"background: #ECEC44; padding: 0.45em 0.6em; margin: 0 0.25em; line-height: 1; border-radius: 0.35em;\">\n",
       "    der\n",
       "    <span style=\"font-size: 0.8em; font-weight: bold; line-height: 1; border-radius: 0.35em; vertical-align: middle; margin-left: 0.5rem\">0.7</span>\n",
       "</mark>\n",
       " Jobausführung.</div></span>"
      ],
      "text/plain": [
       "<IPython.core.display.HTML object>"
      ]
     },
     "metadata": {},
     "output_type": "display_data"
    },
    {
     "data": {
      "text/html": [
       "<span class=\"tex2jax_ignore\"><div class=\"entities\" style=\"line-height: 2.5; direction: ltr\">Piggybacking only makes sense if there is a full-duplex or semi-\n",
       "<mark class=\"entity\" style=\"background: #F7F766; padding: 0.45em 0.6em; margin: 0 0.25em; line-height: 1; border-radius: 0.35em;\">\n",
       "    duplex connection between\n",
       "    <span style=\"font-size: 0.8em; font-weight: bold; line-height: 1; border-radius: 0.35em; vertical-align: middle; margin-left: 0.5rem\">0.6</span>\n",
       "</mark>\n",
       " sender and receiver. Therefore, the ACK for a data frame \n",
       "<mark class=\"entity\" style=\"background: #F7F766; padding: 0.45em 0.6em; margin: 0 0.25em; line-height: 1; border-radius: 0.35em;\">\n",
       "    from a\n",
       "    <span style=\"font-size: 0.8em; font-weight: bold; line-height: 1; border-radius: 0.35em; vertical-align: middle; margin-left: 0.5rem\">0.6</span>\n",
       "</mark>\n",
       " sender is sent in one frame with the \n",
       "<mark class=\"entity\" style=\"background: #ECEC44; padding: 0.45em 0.6em; margin: 0 0.25em; line-height: 1; border-radius: 0.35em;\">\n",
       "    next data frame issued\n",
       "    <span style=\"font-size: 0.8em; font-weight: bold; line-height: 1; border-radius: 0.35em; vertical-align: middle; margin-left: 0.5rem\">0.7</span>\n",
       "</mark>\n",
       " by the receiver. Thus, the requirement for piggybacking is a \n",
       "<mark class=\"entity\" style=\"background: #EBEB1D; padding: 0.45em 0.6em; margin: 0 0.25em; line-height: 1; border-radius: 0.35em;\">\n",
       "    duplex connection (\n",
       "    <span style=\"font-size: 0.8em; font-weight: bold; line-height: 1; border-radius: 0.35em; vertical-align: middle; margin-left: 0.5rem\">0.9</span>\n",
       "</mark>\n",
       "and the need of sending an ACK).</div></span>"
      ],
      "text/plain": [
       "<IPython.core.display.HTML object>"
      ]
     },
     "metadata": {},
     "output_type": "display_data"
    },
    {
     "data": {
      "text/html": [
       "<span class=\"tex2jax_ignore\"><div class=\"entities\" style=\"line-height: 2.5; direction: ltr\">The first phase, slow start, will double cwnd every round-trip time by increasing it by 1 for each received ACK. When cwnd \n",
       "<mark class=\"entity\" style=\"background: #F7F766; padding: 0.45em 0.6em; margin: 0 0.25em; line-height: 1; border-radius: 0.35em;\">\n",
       "    reaches ss_thresh\n",
       "    <span style=\"font-size: 0.8em; font-weight: bold; line-height: 1; border-radius: 0.35em; vertical-align: middle; margin-left: 0.5rem\">0.6</span>\n",
       "</mark>\n",
       ", \n",
       "<mark class=\"entity\" style=\"background: #E8E834; padding: 0.45em 0.6em; margin: 0 0.25em; line-height: 1; border-radius: 0.35em;\">\n",
       "    the congestion avoidance phase is entered. The congestion avoidance phase will additively increase cwnd by 1 every round-trip time. If congestion is encountered in any\n",
       "    <span style=\"font-size: 0.8em; font-weight: bold; line-height: 1; border-radius: 0.35em; vertical-align: middle; margin-left: 0.5rem\">0.8</span>\n",
       "</mark>\n",
       " of the phases, \n",
       "<mark class=\"entity\" style=\"background: #FDFD84; padding: 0.45em 0.6em; margin: 0 0.25em; line-height: 1; border-radius: 0.35em;\">\n",
       "    ss_thresh is\n",
       "    <span style=\"font-size: 0.8em; font-weight: bold; line-height: 1; border-radius: 0.35em; vertical-align: middle; margin-left: 0.5rem\">0.5</span>\n",
       "</mark>\n",
       " set to half the value of \n",
       "<mark class=\"entity\" style=\"background: #F7F766; padding: 0.45em 0.6em; margin: 0 0.25em; line-height: 1; border-radius: 0.35em;\">\n",
       "    cwnd, cwnd is set to 1 and\n",
       "    <span style=\"font-size: 0.8em; font-weight: bold; line-height: 1; border-radius: 0.35em; vertical-align: middle; margin-left: 0.5rem\">0.6</span>\n",
       "</mark>\n",
       " the slow start phase \n",
       "<mark class=\"entity\" style=\"background: #F7F766; padding: 0.45em 0.6em; margin: 0 0.25em; line-height: 1; border-radius: 0.35em;\">\n",
       "    is\n",
       "    <span style=\"font-size: 0.8em; font-weight: bold; line-height: 1; border-radius: 0.35em; vertical-align: middle; margin-left: 0.5rem\">0.6</span>\n",
       "</mark>\n",
       " entered.</div></span>"
      ],
      "text/plain": [
       "<IPython.core.display.HTML object>"
      ]
     },
     "metadata": {},
     "output_type": "display_data"
    },
    {
     "data": {
      "text/html": [
       "<span class=\"tex2jax_ignore\"><div class=\"entities\" style=\"line-height: 2.5; direction: ltr\">A \n",
       "<mark class=\"entity\" style=\"background: #EBEB1D; padding: 0.45em 0.6em; margin: 0 0.25em; line-height: 1; border-radius: 0.35em;\">\n",
       "    duplex operation mode is\n",
       "    <span style=\"font-size: 0.8em; font-weight: bold; line-height: 1; border-radius: 0.35em; vertical-align: middle; margin-left: 0.5rem\">0.9</span>\n",
       "</mark>\n",
       " required, so that both \n",
       "<mark class=\"entity\" style=\"background: #FDFD84; padding: 0.45em 0.6em; margin: 0 0.25em; line-height: 1; border-radius: 0.35em;\">\n",
       "    communication partners\n",
       "    <span style=\"font-size: 0.8em; font-weight: bold; line-height: 1; border-radius: 0.35em; vertical-align: middle; margin-left: 0.5rem\">0.5</span>\n",
       "</mark>\n",
       " can send data \n",
       "<mark class=\"entity\" style=\"background: #FDFD84; padding: 0.45em 0.6em; margin: 0 0.25em; line-height: 1; border-radius: 0.35em;\">\n",
       "    frames with\n",
       "    <span style=\"font-size: 0.8em; font-weight: bold; line-height: 1; border-radius: 0.35em; vertical-align: middle; margin-left: 0.5rem\">0.5</span>\n",
       "</mark>\n",
       " piggybacked acknowledgments. (Efficient if window size greater than 1 only.)</div></span>"
      ],
      "text/plain": [
       "<IPython.core.display.HTML object>"
      ]
     },
     "metadata": {},
     "output_type": "display_data"
    },
    {
     "data": {
      "text/html": [
       "<span class=\"tex2jax_ignore\"><div class=\"entities\" style=\"line-height: 2.5; direction: ltr\">Ich \n",
       "<mark class=\"entity\" style=\"background: #ECEC44; padding: 0.45em 0.6em; margin: 0 0.25em; line-height: 1; border-radius: 0.35em;\">\n",
       "    gebe mich zu erkennen und lege dem Mitarbeiter das Informationsschreiben vor\n",
       "    <span style=\"font-size: 0.8em; font-weight: bold; line-height: 1; border-radius: 0.35em; vertical-align: middle; margin-left: 0.5rem\">0.7</span>\n",
       "</mark>\n",
       ", welches ich von Ihnen erhalten habe.</div></span>"
      ],
      "text/plain": [
       "<IPython.core.display.HTML object>"
      ]
     },
     "metadata": {},
     "output_type": "display_data"
    },
    {
     "data": {
      "text/html": [
       "<span class=\"tex2jax_ignore\"><div class=\"entities\" style=\"line-height: 2.5; direction: ltr\">Reverse Path Forwarding: Used for ensuring loop-free \n",
       "<mark class=\"entity\" style=\"background: #F7F766; padding: 0.45em 0.6em; margin: 0 0.25em; line-height: 1; border-radius: 0.35em;\">\n",
       "    forwarding of multicast packets in multicast routing and to help prevent IP address spoofing in unicast routing.\n",
       "    <span style=\"font-size: 0.8em; font-weight: bold; line-height: 1; border-radius: 0.35em; vertical-align: middle; margin-left: 0.5rem\">0.6</span>\n",
       "</mark>\n",
       "  Checks if the packet arrived at the IS entry port over which the packets for this station/source are usually sent. If packet is assumed taking the best route: resend over all edges (not including the incoming one). If packet is assumed not taking the best route: discard packet.  \n",
       "<mark class=\"entity\" style=\"background: #EBEB1D; padding: 0.45em 0.6em; margin: 0 0.25em; line-height: 1; border-radius: 0.35em;\">\n",
       "    Reverse Path Broadcast: Used to check if the set of shortest paths to a node forms a tree that spans the network.\n",
       "    <span style=\"font-size: 0.8em; font-weight: bold; line-height: 1; border-radius: 0.35em; vertical-align: middle; margin-left: 0.5rem\">0.9</span>\n",
       "</mark>\n",
       "  \n",
       "<mark class=\"entity\" style=\"background: #FDFD84; padding: 0.45em 0.6em; margin: 0 0.25em; line-height: 1; border-radius: 0.35em;\">\n",
       "    If the packet arrives at the IS\n",
       "    <span style=\"font-size: 0.8em; font-weight: bold; line-height: 1; border-radius: 0.35em; vertical-align: middle; margin-left: 0.5rem\">0.5</span>\n",
       "</mark>\n",
       " entry over which the packets for this station/source are usually sent: Checks if Packet used the BEST route until now: if yes, select the edge at which the packets arrived and from which they are then rerouted to source. If no, do not send over all edges (without the incoming one). If the packet is not for this station/source: discard packet.</div></span>"
      ],
      "text/plain": [
       "<IPython.core.display.HTML object>"
      ]
     },
     "metadata": {},
     "output_type": "display_data"
    },
    {
     "data": {
      "text/html": [
       "<span class=\"tex2jax_ignore\"><div class=\"entities\" style=\"line-height: 2.5; direction: ltr\">Ob der \n",
       "<mark class=\"entity\" style=\"background: #F5F503; padding: 0.45em 0.6em; margin: 0 0.25em; line-height: 1; border-radius: 0.35em;\">\n",
       "    Gesamteindruck gepflegt\n",
       "    <span style=\"font-size: 0.8em; font-weight: bold; line-height: 1; border-radius: 0.35em; vertical-align: middle; margin-left: 0.5rem\">1.0</span>\n",
       "</mark>\n",
       " und einen sicheren \n",
       "<mark class=\"entity\" style=\"background: #E8E834; padding: 0.45em 0.6em; margin: 0 0.25em; line-height: 1; border-radius: 0.35em;\">\n",
       "    Eindruck machte\n",
       "    <span style=\"font-size: 0.8em; font-weight: bold; line-height: 1; border-radius: 0.35em; vertical-align: middle; margin-left: 0.5rem\">0.8</span>\n",
       "</mark>\n",
       ".</div></span>"
      ],
      "text/plain": [
       "<IPython.core.display.HTML object>"
      ]
     },
     "metadata": {},
     "output_type": "display_data"
    },
    {
     "data": {
      "text/html": [
       "<span class=\"tex2jax_ignore\"><div class=\"entities\" style=\"line-height: 2.5; direction: ltr\">Zu achten ist über die \n",
       "<mark class=\"entity\" style=\"background: #F7F766; padding: 0.45em 0.6em; margin: 0 0.25em; line-height: 1; border-radius: 0.35em;\">\n",
       "    Art\n",
       "    <span style=\"font-size: 0.8em; font-weight: bold; line-height: 1; border-radius: 0.35em; vertical-align: middle; margin-left: 0.5rem\">0.6</span>\n",
       "</mark>\n",
       " der \n",
       "<mark class=\"entity\" style=\"background: #E8E834; padding: 0.45em 0.6em; margin: 0 0.25em; line-height: 1; border-radius: 0.35em;\">\n",
       "    Ansprache und Verabschiedung.\n",
       "    <span style=\"font-size: 0.8em; font-weight: bold; line-height: 1; border-radius: 0.35em; vertical-align: middle; margin-left: 0.5rem\">0.8</span>\n",
       "</mark>\n",
       " Erfolgte diese ggf. mit persönlichen \n",
       "<mark class=\"entity\" style=\"background: #FDFD84; padding: 0.45em 0.6em; margin: 0 0.25em; line-height: 1; border-radius: 0.35em;\">\n",
       "    Worten.\n",
       "    <span style=\"font-size: 0.8em; font-weight: bold; line-height: 1; border-radius: 0.35em; vertical-align: middle; margin-left: 0.5rem\">0.5</span>\n",
       "</mark>\n",
       " Wurde ich freundlich bedient und wurden mir weitere Angebote unterbreitet.</div></span>"
      ],
      "text/plain": [
       "<IPython.core.display.HTML object>"
      ]
     },
     "metadata": {},
     "output_type": "display_data"
    },
    {
     "data": {
      "text/html": [
       "<span class=\"tex2jax_ignore\"><div class=\"entities\" style=\"line-height: 2.5; direction: ltr\">Network Topology and Access Points- \n",
       "<mark class=\"entity\" style=\"background: #ECEC44; padding: 0.45em 0.6em; margin: 0 0.25em; line-height: 1; border-radius: 0.35em;\">\n",
       "    Network topology and Access Points changes faster\n",
       "    <span style=\"font-size: 0.8em; font-weight: bold; line-height: 1; border-radius: 0.35em; vertical-align: middle; margin-left: 0.5rem\">0.7</span>\n",
       "</mark>\n",
       " when the devices \n",
       "<mark class=\"entity\" style=\"background: #F7F766; padding: 0.45em 0.6em; margin: 0 0.25em; line-height: 1; border-radius: 0.35em;\">\n",
       "    are moving\n",
       "    <span style=\"font-size: 0.8em; font-weight: bold; line-height: 1; border-radius: 0.35em; vertical-align: middle; margin-left: 0.5rem\">0.6</span>\n",
       "</mark>\n",
       " around which \n",
       "<mark class=\"entity\" style=\"background: #F7F766; padding: 0.45em 0.6em; margin: 0 0.25em; line-height: 1; border-radius: 0.35em;\">\n",
       "    is not the case in\n",
       "    <span style=\"font-size: 0.8em; font-weight: bold; line-height: 1; border-radius: 0.35em; vertical-align: middle; margin-left: 0.5rem\">0.6</span>\n",
       "</mark>\n",
       " fixed \n",
       "<mark class=\"entity\" style=\"background: #ECEC44; padding: 0.45em 0.6em; margin: 0 0.25em; line-height: 1; border-radius: 0.35em;\">\n",
       "    network. Security - As the network could\n",
       "    <span style=\"font-size: 0.8em; font-weight: bold; line-height: 1; border-radius: 0.35em; vertical-align: middle; margin-left: 0.5rem\">0.7</span>\n",
       "</mark>\n",
       " be \n",
       "<mark class=\"entity\" style=\"background: #F7F766; padding: 0.45em 0.6em; margin: 0 0.25em; line-height: 1; border-radius: 0.35em;\">\n",
       "    available even inside and\n",
       "    <span style=\"font-size: 0.8em; font-weight: bold; line-height: 1; border-radius: 0.35em; vertical-align: middle; margin-left: 0.5rem\">0.6</span>\n",
       "</mark>\n",
       " outside the \n",
       "<mark class=\"entity\" style=\"background: #ECEC44; padding: 0.45em 0.6em; margin: 0 0.25em; line-height: 1; border-radius: 0.35em;\">\n",
       "    building, it possesses a threat to security. User Mobility:\n",
       "    <span style=\"font-size: 0.8em; font-weight: bold; line-height: 1; border-radius: 0.35em; vertical-align: middle; margin-left: 0.5rem\">0.7</span>\n",
       "</mark>\n",
       " The users can be moving from one network to another and want to communicate anytime with anyone without losing the network.  Device \n",
       "<mark class=\"entity\" style=\"background: #F7F766; padding: 0.45em 0.6em; margin: 0 0.25em; line-height: 1; border-radius: 0.35em;\">\n",
       "    Portability:\n",
       "    <span style=\"font-size: 0.8em; font-weight: bold; line-height: 1; border-radius: 0.35em; vertical-align: middle; margin-left: 0.5rem\">0.6</span>\n",
       "</mark>\n",
       " The device \n",
       "<mark class=\"entity\" style=\"background: #FDFD84; padding: 0.45em 0.6em; margin: 0 0.25em; line-height: 1; border-radius: 0.35em;\">\n",
       "    can\n",
       "    <span style=\"font-size: 0.8em; font-weight: bold; line-height: 1; border-radius: 0.35em; vertical-align: middle; margin-left: 0.5rem\">0.5</span>\n",
       "</mark>\n",
       " change in a period \n",
       "<mark class=\"entity\" style=\"background: #FDFD84; padding: 0.45em 0.6em; margin: 0 0.25em; line-height: 1; border-radius: 0.35em;\">\n",
       "    of time\n",
       "    <span style=\"font-size: 0.8em; font-weight: bold; line-height: 1; border-radius: 0.35em; vertical-align: middle; margin-left: 0.5rem\">0.5</span>\n",
       "</mark>\n",
       " but having the portability with the other \n",
       "<mark class=\"entity\" style=\"background: #FDFD84; padding: 0.45em 0.6em; margin: 0 0.25em; line-height: 1; border-radius: 0.35em;\">\n",
       "    device\n",
       "    <span style=\"font-size: 0.8em; font-weight: bold; line-height: 1; border-radius: 0.35em; vertical-align: middle; margin-left: 0.5rem\">0.5</span>\n",
       "</mark>\n",
       " to connect anytime and anywhere to the network.</div></span>"
      ],
      "text/plain": [
       "<IPython.core.display.HTML object>"
      ]
     },
     "metadata": {},
     "output_type": "display_data"
    },
    {
     "name": "stdout",
     "output_type": "stream",
     "text": [
      "--------------------------------------------------------------------------------------------------------------------------------------------------------------------------------------------------------\n",
      "train_labeled_data_average_global_global.spacy\n"
     ]
    },
    {
     "data": {
      "text/html": [
       "<span class=\"tex2jax_ignore\"><div class=\"entities\" style=\"line-height: 2.5; direction: ltr\">The functionality of options in IPv4 headers is removed and replaced from the main header through a set of so-called extension headers. They are additional headers in the IPv6 which are used for implementing more extensions. The \n",
       "<mark class=\"entity\" style=\"background: #FDFD84; padding: 0.45em 0.6em; margin: 0 0.25em; line-height: 1; border-radius: 0.35em;\">\n",
       "    main header has a\n",
       "    <span style=\"font-size: 0.8em; font-weight: bold; line-height: 1; border-radius: 0.35em; vertical-align: middle; margin-left: 0.5rem\">0.5</span>\n",
       "</mark>\n",
       " fixed \n",
       "<mark class=\"entity\" style=\"background: #FDFD84; padding: 0.45em 0.6em; margin: 0 0.25em; line-height: 1; border-radius: 0.35em;\">\n",
       "    size of\n",
       "    <span style=\"font-size: 0.8em; font-weight: bold; line-height: 1; border-radius: 0.35em; vertical-align: middle; margin-left: 0.5rem\">0.5</span>\n",
       "</mark>\n",
       " 40 bytes; the extensions headers, on the other hand, are optional and are added as needed. That means you can add extensions without planning it. There are several extension headers: Routing, Fragment, Destination, etc.   The extension headers are placed between the fixed header and the payload. Every extension header points to the next header. There is also the possibility to refer to a &quot;No Next Header&quot; which is only to show that nothing else follows. It creates a chain, at the end of which is usually the TCP or UDP header.   Extension headers are a way to extend the header and put additional information between the payload and the header. They are optional, and that's why we have an absolute efficiency gain comparing to IPv4. Because in IPv4, we had at least one part for the option reserved, but in IPv6, we can say there are no extension headers, and so we have a smaller header and, therefore, much more space for the payload. Also, extension headers result in a significant improvement in router performance for packets containing options. In contrast to IPv4, the extension headers are only examined by a router when a packet arrives at its final destination and not along their delivery path.</div></span>"
      ],
      "text/plain": [
       "<IPython.core.display.HTML object>"
      ]
     },
     "metadata": {},
     "output_type": "display_data"
    },
    {
     "name": "stderr",
     "output_type": "stream",
     "text": [
      "/Users/felix/opt/anaconda3/envs/master-thesis/lib/python3.7/site-packages/spacy/displacy/__init__.py:205: UserWarning: [W006] No entities to visualize found in Doc object. If this is surprising to you, make sure the Doc was processed using a model that supports named entity recognition, and check the `doc.ents` property manually if necessary.\n",
      "  warnings.warn(Warnings.W006)\n"
     ]
    },
    {
     "data": {
      "text/html": [
       "<span class=\"tex2jax_ignore\"><div class=\"entities\" style=\"line-height: 2.5; direction: ltr\">Ich gebe mich zu erkennen und zeige das Schreiben vor. Dann führe ich den Job mit Zustimmung weiter aus. Zudem vermerke ich das bei der Jobausführung.</div></span>"
      ],
      "text/plain": [
       "<IPython.core.display.HTML object>"
      ]
     },
     "metadata": {},
     "output_type": "display_data"
    },
    {
     "data": {
      "text/html": [
       "<span class=\"tex2jax_ignore\"><div class=\"entities\" style=\"line-height: 2.5; direction: ltr\">Piggybacking only makes sense if there is a full-duplex or semi-duplex connection between sender and receiver. Therefore, the ACK for a data frame from a sender is sent in one frame with the next data frame issued by the receiver. Thus, the requirement for piggybacking is a duplex connection (and the need of sending an ACK).</div></span>"
      ],
      "text/plain": [
       "<IPython.core.display.HTML object>"
      ]
     },
     "metadata": {},
     "output_type": "display_data"
    },
    {
     "data": {
      "text/html": [
       "<span class=\"tex2jax_ignore\"><div class=\"entities\" style=\"line-height: 2.5; direction: ltr\">The first phase, slow start, will double cwnd every round-trip time by increasing it by 1 for each received ACK. When cwnd reaches ss_thresh, the congestion avoidance phase is entered. The congestion avoidance phase will additively increase cwnd by 1 every round-trip time. If congestion is encountered in any of the phases, ss_thresh is set to half the value of cwnd, cwnd is set to 1 and the slow start phase is entered.</div></span>"
      ],
      "text/plain": [
       "<IPython.core.display.HTML object>"
      ]
     },
     "metadata": {},
     "output_type": "display_data"
    },
    {
     "data": {
      "text/html": [
       "<span class=\"tex2jax_ignore\"><div class=\"entities\" style=\"line-height: 2.5; direction: ltr\">A duplex operation mode is required, so that both communication partners can send data frames with piggybacked acknowledgments. (Efficient if window size greater than 1 only.)</div></span>"
      ],
      "text/plain": [
       "<IPython.core.display.HTML object>"
      ]
     },
     "metadata": {},
     "output_type": "display_data"
    },
    {
     "data": {
      "text/html": [
       "<span class=\"tex2jax_ignore\"><div class=\"entities\" style=\"line-height: 2.5; direction: ltr\">Ich gebe mich zu erkennen und lege dem Mitarbeiter das Informationsschreiben vor, welches ich von Ihnen erhalten habe.</div></span>"
      ],
      "text/plain": [
       "<IPython.core.display.HTML object>"
      ]
     },
     "metadata": {},
     "output_type": "display_data"
    },
    {
     "data": {
      "text/html": [
       "<span class=\"tex2jax_ignore\"><div class=\"entities\" style=\"line-height: 2.5; direction: ltr\">Reverse Path Forwarding: Used for ensuring loop-free forwarding of multicast packets in multicast routing and to help prevent IP address spoofing in unicast routing.  Checks if the packet arrived at the IS entry port over which the packets for this station/source are usually sent. If packet is assumed taking the best route: resend over all edges (not including the incoming one). If packet is assumed not taking the best route: discard packet.  Reverse Path Broadcast: Used to check if the set of shortest paths to a node forms a tree that spans the network.  If the packet arrives at the IS entry over which the packets for this station/source are usually sent: Checks if Packet used the BEST route until now: if yes, select the edge at which the packets arrived and from which they are then rerouted to source. If no, do not send over all edges (without the incoming one). If the packet is not for this station/source: discard packet.</div></span>"
      ],
      "text/plain": [
       "<IPython.core.display.HTML object>"
      ]
     },
     "metadata": {},
     "output_type": "display_data"
    },
    {
     "data": {
      "text/html": [
       "<span class=\"tex2jax_ignore\"><div class=\"entities\" style=\"line-height: 2.5; direction: ltr\">Ob der Gesamteindruck gepflegt und einen sicheren Eindruck machte.</div></span>"
      ],
      "text/plain": [
       "<IPython.core.display.HTML object>"
      ]
     },
     "metadata": {},
     "output_type": "display_data"
    },
    {
     "data": {
      "text/html": [
       "<span class=\"tex2jax_ignore\"><div class=\"entities\" style=\"line-height: 2.5; direction: ltr\">Zu achten ist über die Art der Ansprache und Verabschiedung. Erfolgte diese ggf. mit persönlichen Worten. Wurde ich freundlich bedient und wurden mir weitere Angebote unterbreitet.</div></span>"
      ],
      "text/plain": [
       "<IPython.core.display.HTML object>"
      ]
     },
     "metadata": {},
     "output_type": "display_data"
    },
    {
     "data": {
      "text/html": [
       "<span class=\"tex2jax_ignore\"><div class=\"entities\" style=\"line-height: 2.5; direction: ltr\">Network Topology and Access Points- Network topology and Access Points changes faster when the devices are moving around which is not the case in fixed network. Security - As the network could be available even inside and outside the building, it possesses a threat to security. User Mobility: The users can be moving from one network to another and want to communicate anytime with anyone without losing the network.  Device Portability: The device can change in a period of time but having the portability with the other device to connect anytime and anywhere to the network.</div></span>"
      ],
      "text/plain": [
       "<IPython.core.display.HTML object>"
      ]
     },
     "metadata": {},
     "output_type": "display_data"
    },
    {
     "name": "stdout",
     "output_type": "stream",
     "text": [
      "--------------------------------------------------------------------------------------------------------------------------------------------------------------------------------------------------------\n",
      "train_labeled_data_sum_global_global.spacy\n"
     ]
    },
    {
     "data": {
      "text/html": [
       "<span class=\"tex2jax_ignore\"><div class=\"entities\" style=\"line-height: 2.5; direction: ltr\">The functionality of options in IPv4 headers is removed and replaced from the main header through a set of so-called extension headers. They are additional headers in the IPv6 which are used for implementing more extensions. The \n",
       "<mark class=\"entity\" style=\"background: #FDFD84; padding: 0.45em 0.6em; margin: 0 0.25em; line-height: 1; border-radius: 0.35em;\">\n",
       "    main header has a\n",
       "    <span style=\"font-size: 0.8em; font-weight: bold; line-height: 1; border-radius: 0.35em; vertical-align: middle; margin-left: 0.5rem\">0.5</span>\n",
       "</mark>\n",
       " fixed \n",
       "<mark class=\"entity\" style=\"background: #FDFD84; padding: 0.45em 0.6em; margin: 0 0.25em; line-height: 1; border-radius: 0.35em;\">\n",
       "    size of\n",
       "    <span style=\"font-size: 0.8em; font-weight: bold; line-height: 1; border-radius: 0.35em; vertical-align: middle; margin-left: 0.5rem\">0.5</span>\n",
       "</mark>\n",
       " 40 bytes; the extensions headers, on the other hand, are optional and are added as needed. That means you can add extensions without planning it. There are several extension headers: Routing, Fragment, Destination, etc.   The extension headers are placed between the fixed header and the payload. Every extension header points to the next header. There is also the possibility to refer to a &quot;No Next Header&quot; which is only to show that nothing else follows. It creates a chain, at the end of which is usually the TCP or UDP header.   Extension headers are a way to extend the header and put additional information between the payload and the header. They are optional, and that's why we have an absolute efficiency gain comparing to IPv4. Because in IPv4, we had at least one part for the option reserved, but in IPv6, we can say there are no extension headers, and so we have a smaller header and, therefore, much more space for the payload. Also, extension headers result in a significant improvement in router performance for packets containing options. In contrast to IPv4, the extension headers are only examined by a router when a packet arrives at its final destination and not along their delivery path.</div></span>"
      ],
      "text/plain": [
       "<IPython.core.display.HTML object>"
      ]
     },
     "metadata": {},
     "output_type": "display_data"
    },
    {
     "data": {
      "text/html": [
       "<span class=\"tex2jax_ignore\"><div class=\"entities\" style=\"line-height: 2.5; direction: ltr\">Ich gebe mich zu erkennen und zeige das Schreiben vor. Dann führe ich den Job mit Zustimmung weiter aus. Zudem vermerke ich das bei der Jobausführung.</div></span>"
      ],
      "text/plain": [
       "<IPython.core.display.HTML object>"
      ]
     },
     "metadata": {},
     "output_type": "display_data"
    },
    {
     "data": {
      "text/html": [
       "<span class=\"tex2jax_ignore\"><div class=\"entities\" style=\"line-height: 2.5; direction: ltr\">Piggybacking only makes sense if there is a full-duplex or semi-duplex connection between sender and receiver. Therefore, the ACK for a data frame from a sender is sent in one frame with the next data frame issued by the receiver. Thus, the requirement for piggybacking is a duplex connection (and the need of sending an ACK).</div></span>"
      ],
      "text/plain": [
       "<IPython.core.display.HTML object>"
      ]
     },
     "metadata": {},
     "output_type": "display_data"
    },
    {
     "data": {
      "text/html": [
       "<span class=\"tex2jax_ignore\"><div class=\"entities\" style=\"line-height: 2.5; direction: ltr\">The first phase, slow start, will double cwnd every round-trip time by increasing it by 1 for each received ACK. When cwnd reaches ss_thresh, the congestion avoidance phase is entered. The congestion avoidance phase will additively increase cwnd by 1 every round-trip time. If congestion is encountered in any of the phases, ss_thresh is set to half the value of cwnd, cwnd is set to 1 and the slow start phase is entered.</div></span>"
      ],
      "text/plain": [
       "<IPython.core.display.HTML object>"
      ]
     },
     "metadata": {},
     "output_type": "display_data"
    },
    {
     "data": {
      "text/html": [
       "<span class=\"tex2jax_ignore\"><div class=\"entities\" style=\"line-height: 2.5; direction: ltr\">A duplex operation mode is required, so that both communication partners can send data frames with piggybacked acknowledgments. (Efficient if window size greater than 1 only.)</div></span>"
      ],
      "text/plain": [
       "<IPython.core.display.HTML object>"
      ]
     },
     "metadata": {},
     "output_type": "display_data"
    },
    {
     "data": {
      "text/html": [
       "<span class=\"tex2jax_ignore\"><div class=\"entities\" style=\"line-height: 2.5; direction: ltr\">Ich gebe mich zu erkennen und lege dem Mitarbeiter das Informationsschreiben vor, welches ich von Ihnen erhalten habe.</div></span>"
      ],
      "text/plain": [
       "<IPython.core.display.HTML object>"
      ]
     },
     "metadata": {},
     "output_type": "display_data"
    },
    {
     "data": {
      "text/html": [
       "<span class=\"tex2jax_ignore\"><div class=\"entities\" style=\"line-height: 2.5; direction: ltr\">Reverse Path Forwarding: Used for ensuring loop-free forwarding of multicast packets in multicast routing and to help prevent IP address spoofing in unicast routing.  Checks if the packet arrived at the IS entry port over which the packets for this station/source are usually sent. If packet is assumed taking the best route: resend over all edges (not including the incoming one). If packet is assumed not taking the best route: discard packet.  Reverse Path Broadcast: Used to check if the set of shortest paths to a node forms a tree that spans the network.  If the packet arrives at the IS entry over which the packets for this station/source are usually sent: Checks if Packet used the BEST route until now: if yes, select the edge at which the packets arrived and from which they are then rerouted to source. If no, do not send over all edges (without the incoming one). If the packet is not for this station/source: discard packet.</div></span>"
      ],
      "text/plain": [
       "<IPython.core.display.HTML object>"
      ]
     },
     "metadata": {},
     "output_type": "display_data"
    },
    {
     "data": {
      "text/html": [
       "<span class=\"tex2jax_ignore\"><div class=\"entities\" style=\"line-height: 2.5; direction: ltr\">Ob der Gesamteindruck gepflegt und einen sicheren Eindruck machte.</div></span>"
      ],
      "text/plain": [
       "<IPython.core.display.HTML object>"
      ]
     },
     "metadata": {},
     "output_type": "display_data"
    },
    {
     "data": {
      "text/html": [
       "<span class=\"tex2jax_ignore\"><div class=\"entities\" style=\"line-height: 2.5; direction: ltr\">Zu achten ist über die Art der Ansprache und Verabschiedung. Erfolgte diese ggf. mit persönlichen Worten. Wurde ich freundlich bedient und wurden mir weitere Angebote unterbreitet.</div></span>"
      ],
      "text/plain": [
       "<IPython.core.display.HTML object>"
      ]
     },
     "metadata": {},
     "output_type": "display_data"
    },
    {
     "data": {
      "text/html": [
       "<span class=\"tex2jax_ignore\"><div class=\"entities\" style=\"line-height: 2.5; direction: ltr\">Network Topology and Access Points- Network topology and Access Points changes faster when the devices are moving around which is not the case in fixed network. Security - As the network could be available even inside and outside the building, it possesses a threat to security. User Mobility: The users can be moving from one network to another and want to communicate anytime with anyone without losing the network.  Device Portability: The device can change in a period of time but having the portability with the other device to connect anytime and anywhere to the network.</div></span>"
      ],
      "text/plain": [
       "<IPython.core.display.HTML object>"
      ]
     },
     "metadata": {},
     "output_type": "display_data"
    },
    {
     "name": "stdout",
     "output_type": "stream",
     "text": [
      "--------------------------------------------------------------------------------------------------------------------------------------------------------------------------------------------------------\n",
      "train_labeled_data_hmm.spacy\n"
     ]
    },
    {
     "data": {
      "text/html": [
       "<span class=\"tex2jax_ignore\"><div class=\"entities\" style=\"line-height: 2.5; direction: ltr\">\n",
       "<mark class=\"entity\" style=\"background: #EBEB1D; padding: 0.45em 0.6em; margin: 0 0.25em; line-height: 1; border-radius: 0.35em;\">\n",
       "    The functionality of options in IPv4 headers is removed and replaced from the main header through a set of so-called extension headers\n",
       "    <span style=\"font-size: 0.8em; font-weight: bold; line-height: 1; border-radius: 0.35em; vertical-align: middle; margin-left: 0.5rem\">0.9</span>\n",
       "</mark>\n",
       ". \n",
       "<mark class=\"entity\" style=\"background: #EBEB1D; padding: 0.45em 0.6em; margin: 0 0.25em; line-height: 1; border-radius: 0.35em;\">\n",
       "    They are additional headers in the IPv6 which are used for implementing more extensions\n",
       "    <span style=\"font-size: 0.8em; font-weight: bold; line-height: 1; border-radius: 0.35em; vertical-align: middle; margin-left: 0.5rem\">0.9</span>\n",
       "</mark>\n",
       ". \n",
       "<mark class=\"entity\" style=\"background: #F5F503; padding: 0.45em 0.6em; margin: 0 0.25em; line-height: 1; border-radius: 0.35em;\">\n",
       "    The main header has a fixed size of 40 bytes\n",
       "    <span style=\"font-size: 0.8em; font-weight: bold; line-height: 1; border-radius: 0.35em; vertical-align: middle; margin-left: 0.5rem\">1.0</span>\n",
       "</mark>\n",
       "; \n",
       "<mark class=\"entity\" style=\"background: #E8E834; padding: 0.45em 0.6em; margin: 0 0.25em; line-height: 1; border-radius: 0.35em;\">\n",
       "    the extensions headers\n",
       "    <span style=\"font-size: 0.8em; font-weight: bold; line-height: 1; border-radius: 0.35em; vertical-align: middle; margin-left: 0.5rem\">0.8</span>\n",
       "</mark>\n",
       ", \n",
       "<mark class=\"entity\" style=\"background: #E8E834; padding: 0.45em 0.6em; margin: 0 0.25em; line-height: 1; border-radius: 0.35em;\">\n",
       "    on the other hand\n",
       "    <span style=\"font-size: 0.8em; font-weight: bold; line-height: 1; border-radius: 0.35em; vertical-align: middle; margin-left: 0.5rem\">0.8</span>\n",
       "</mark>\n",
       ", \n",
       "<mark class=\"entity\" style=\"background: #F5F503; padding: 0.45em 0.6em; margin: 0 0.25em; line-height: 1; border-radius: 0.35em;\">\n",
       "    are optional and are added as needed\n",
       "    <span style=\"font-size: 0.8em; font-weight: bold; line-height: 1; border-radius: 0.35em; vertical-align: middle; margin-left: 0.5rem\">1.0</span>\n",
       "</mark>\n",
       ". \n",
       "<mark class=\"entity\" style=\"background: #F5F503; padding: 0.45em 0.6em; margin: 0 0.25em; line-height: 1; border-radius: 0.35em;\">\n",
       "    That means you can add extensions without planning it\n",
       "    <span style=\"font-size: 0.8em; font-weight: bold; line-height: 1; border-radius: 0.35em; vertical-align: middle; margin-left: 0.5rem\">1.0</span>\n",
       "</mark>\n",
       ". \n",
       "<mark class=\"entity\" style=\"background: #F5F503; padding: 0.45em 0.6em; margin: 0 0.25em; line-height: 1; border-radius: 0.35em;\">\n",
       "    There are several extension headers: Routing\n",
       "    <span style=\"font-size: 0.8em; font-weight: bold; line-height: 1; border-radius: 0.35em; vertical-align: middle; margin-left: 0.5rem\">1.0</span>\n",
       "</mark>\n",
       ", \n",
       "<mark class=\"entity\" style=\"background: #F7F766; padding: 0.45em 0.6em; margin: 0 0.25em; line-height: 1; border-radius: 0.35em;\">\n",
       "    Fragment\n",
       "    <span style=\"font-size: 0.8em; font-weight: bold; line-height: 1; border-radius: 0.35em; vertical-align: middle; margin-left: 0.5rem\">0.6</span>\n",
       "</mark>\n",
       ", \n",
       "<mark class=\"entity\" style=\"background: #F7F766; padding: 0.45em 0.6em; margin: 0 0.25em; line-height: 1; border-radius: 0.35em;\">\n",
       "    Destination\n",
       "    <span style=\"font-size: 0.8em; font-weight: bold; line-height: 1; border-radius: 0.35em; vertical-align: middle; margin-left: 0.5rem\">0.6</span>\n",
       "</mark>\n",
       ", \n",
       "<mark class=\"entity\" style=\"background: #FDFD84; padding: 0.45em 0.6em; margin: 0 0.25em; line-height: 1; border-radius: 0.35em;\">\n",
       "    etc\n",
       "    <span style=\"font-size: 0.8em; font-weight: bold; line-height: 1; border-radius: 0.35em; vertical-align: middle; margin-left: 0.5rem\">0.5</span>\n",
       "</mark>\n",
       ".   \n",
       "<mark class=\"entity\" style=\"background: #EBEB1D; padding: 0.45em 0.6em; margin: 0 0.25em; line-height: 1; border-radius: 0.35em;\">\n",
       "    The extension headers are placed between the fixed header and the payload\n",
       "    <span style=\"font-size: 0.8em; font-weight: bold; line-height: 1; border-radius: 0.35em; vertical-align: middle; margin-left: 0.5rem\">0.9</span>\n",
       "</mark>\n",
       ". \n",
       "<mark class=\"entity\" style=\"background: #F5F503; padding: 0.45em 0.6em; margin: 0 0.25em; line-height: 1; border-radius: 0.35em;\">\n",
       "    Every extension header points to the next header\n",
       "    <span style=\"font-size: 0.8em; font-weight: bold; line-height: 1; border-radius: 0.35em; vertical-align: middle; margin-left: 0.5rem\">1.0</span>\n",
       "</mark>\n",
       ". \n",
       "<mark class=\"entity\" style=\"background: #EBEB1D; padding: 0.45em 0.6em; margin: 0 0.25em; line-height: 1; border-radius: 0.35em;\">\n",
       "    There is also the possibility to refer to a &quot;No Next Header&quot; which is only to show that nothing else follows\n",
       "    <span style=\"font-size: 0.8em; font-weight: bold; line-height: 1; border-radius: 0.35em; vertical-align: middle; margin-left: 0.5rem\">0.9</span>\n",
       "</mark>\n",
       ". \n",
       "<mark class=\"entity\" style=\"background: #E8E834; padding: 0.45em 0.6em; margin: 0 0.25em; line-height: 1; border-radius: 0.35em;\">\n",
       "    It creates a chain\n",
       "    <span style=\"font-size: 0.8em; font-weight: bold; line-height: 1; border-radius: 0.35em; vertical-align: middle; margin-left: 0.5rem\">0.8</span>\n",
       "</mark>\n",
       ", \n",
       "<mark class=\"entity\" style=\"background: #F5F503; padding: 0.45em 0.6em; margin: 0 0.25em; line-height: 1; border-radius: 0.35em;\">\n",
       "    at the end of which is usually the TCP or UDP header\n",
       "    <span style=\"font-size: 0.8em; font-weight: bold; line-height: 1; border-radius: 0.35em; vertical-align: middle; margin-left: 0.5rem\">1.0</span>\n",
       "</mark>\n",
       ".   \n",
       "<mark class=\"entity\" style=\"background: #EBEB1D; padding: 0.45em 0.6em; margin: 0 0.25em; line-height: 1; border-radius: 0.35em;\">\n",
       "    Extension headers are a way to extend the header and put additional information between the payload and the header\n",
       "    <span style=\"font-size: 0.8em; font-weight: bold; line-height: 1; border-radius: 0.35em; vertical-align: middle; margin-left: 0.5rem\">0.9</span>\n",
       "</mark>\n",
       ". \n",
       "<mark class=\"entity\" style=\"background: #EBEB1D; padding: 0.45em 0.6em; margin: 0 0.25em; line-height: 1; border-radius: 0.35em;\">\n",
       "    They are optional\n",
       "    <span style=\"font-size: 0.8em; font-weight: bold; line-height: 1; border-radius: 0.35em; vertical-align: middle; margin-left: 0.5rem\">0.9</span>\n",
       "</mark>\n",
       ", \n",
       "<mark class=\"entity\" style=\"background: #F5F503; padding: 0.45em 0.6em; margin: 0 0.25em; line-height: 1; border-radius: 0.35em;\">\n",
       "    and that's why we have an absolute efficiency gain comparing to IPv4\n",
       "    <span style=\"font-size: 0.8em; font-weight: bold; line-height: 1; border-radius: 0.35em; vertical-align: middle; margin-left: 0.5rem\">1.0</span>\n",
       "</mark>\n",
       ". \n",
       "<mark class=\"entity\" style=\"background: #E8E834; padding: 0.45em 0.6em; margin: 0 0.25em; line-height: 1; border-radius: 0.35em;\">\n",
       "    Because in IPv4\n",
       "    <span style=\"font-size: 0.8em; font-weight: bold; line-height: 1; border-radius: 0.35em; vertical-align: middle; margin-left: 0.5rem\">0.8</span>\n",
       "</mark>\n",
       ", \n",
       "<mark class=\"entity\" style=\"background: #F5F503; padding: 0.45em 0.6em; margin: 0 0.25em; line-height: 1; border-radius: 0.35em;\">\n",
       "    we had at least one part for the option reserved\n",
       "    <span style=\"font-size: 0.8em; font-weight: bold; line-height: 1; border-radius: 0.35em; vertical-align: middle; margin-left: 0.5rem\">1.0</span>\n",
       "</mark>\n",
       ", \n",
       "<mark class=\"entity\" style=\"background: #E8E834; padding: 0.45em 0.6em; margin: 0 0.25em; line-height: 1; border-radius: 0.35em;\">\n",
       "    but in IPv6\n",
       "    <span style=\"font-size: 0.8em; font-weight: bold; line-height: 1; border-radius: 0.35em; vertical-align: middle; margin-left: 0.5rem\">0.8</span>\n",
       "</mark>\n",
       ", \n",
       "<mark class=\"entity\" style=\"background: #F5F503; padding: 0.45em 0.6em; margin: 0 0.25em; line-height: 1; border-radius: 0.35em;\">\n",
       "    we can say there are no extension headers\n",
       "    <span style=\"font-size: 0.8em; font-weight: bold; line-height: 1; border-radius: 0.35em; vertical-align: middle; margin-left: 0.5rem\">1.0</span>\n",
       "</mark>\n",
       ", \n",
       "<mark class=\"entity\" style=\"background: #F5F503; padding: 0.45em 0.6em; margin: 0 0.25em; line-height: 1; border-radius: 0.35em;\">\n",
       "    and so we have a smaller header and\n",
       "    <span style=\"font-size: 0.8em; font-weight: bold; line-height: 1; border-radius: 0.35em; vertical-align: middle; margin-left: 0.5rem\">1.0</span>\n",
       "</mark>\n",
       ", \n",
       "<mark class=\"entity\" style=\"background: #F5F503; padding: 0.45em 0.6em; margin: 0 0.25em; line-height: 1; border-radius: 0.35em;\">\n",
       "    therefore, much more space for the payload\n",
       "    <span style=\"font-size: 0.8em; font-weight: bold; line-height: 1; border-radius: 0.35em; vertical-align: middle; margin-left: 0.5rem\">1.0</span>\n",
       "</mark>\n",
       ". \n",
       "<mark class=\"entity\" style=\"background: #F7F766; padding: 0.45em 0.6em; margin: 0 0.25em; line-height: 1; border-radius: 0.35em;\">\n",
       "    Also\n",
       "    <span style=\"font-size: 0.8em; font-weight: bold; line-height: 1; border-radius: 0.35em; vertical-align: middle; margin-left: 0.5rem\">0.6</span>\n",
       "</mark>\n",
       ", \n",
       "<mark class=\"entity\" style=\"background: #EBEB1D; padding: 0.45em 0.6em; margin: 0 0.25em; line-height: 1; border-radius: 0.35em;\">\n",
       "    extension headers result in a significant improvement in router performance for packets containing options\n",
       "    <span style=\"font-size: 0.8em; font-weight: bold; line-height: 1; border-radius: 0.35em; vertical-align: middle; margin-left: 0.5rem\">0.9</span>\n",
       "</mark>\n",
       ". \n",
       "<mark class=\"entity\" style=\"background: #E8E834; padding: 0.45em 0.6em; margin: 0 0.25em; line-height: 1; border-radius: 0.35em;\">\n",
       "    In contrast to IPv4\n",
       "    <span style=\"font-size: 0.8em; font-weight: bold; line-height: 1; border-radius: 0.35em; vertical-align: middle; margin-left: 0.5rem\">0.8</span>\n",
       "</mark>\n",
       ", \n",
       "<mark class=\"entity\" style=\"background: #EBEB1D; padding: 0.45em 0.6em; margin: 0 0.25em; line-height: 1; border-radius: 0.35em;\">\n",
       "    the extension headers are only examined by a router when a packet arrives at its final destination and not along their delivery path\n",
       "    <span style=\"font-size: 0.8em; font-weight: bold; line-height: 1; border-radius: 0.35em; vertical-align: middle; margin-left: 0.5rem\">0.9</span>\n",
       "</mark>\n",
       ".</div></span>"
      ],
      "text/plain": [
       "<IPython.core.display.HTML object>"
      ]
     },
     "metadata": {},
     "output_type": "display_data"
    },
    {
     "data": {
      "text/html": [
       "<span class=\"tex2jax_ignore\"><div class=\"entities\" style=\"line-height: 2.5; direction: ltr\">\n",
       "<mark class=\"entity\" style=\"background: #F5F503; padding: 0.45em 0.6em; margin: 0 0.25em; line-height: 1; border-radius: 0.35em;\">\n",
       "    Ich gebe mich zu erkennen und zeige das Schreiben vor\n",
       "    <span style=\"font-size: 0.8em; font-weight: bold; line-height: 1; border-radius: 0.35em; vertical-align: middle; margin-left: 0.5rem\">1.0</span>\n",
       "</mark>\n",
       ". \n",
       "<mark class=\"entity\" style=\"background: #F5F503; padding: 0.45em 0.6em; margin: 0 0.25em; line-height: 1; border-radius: 0.35em;\">\n",
       "    Dann führe ich den Job mit Zustimmung weiter aus\n",
       "    <span style=\"font-size: 0.8em; font-weight: bold; line-height: 1; border-radius: 0.35em; vertical-align: middle; margin-left: 0.5rem\">1.0</span>\n",
       "</mark>\n",
       ". \n",
       "<mark class=\"entity\" style=\"background: #F5F503; padding: 0.45em 0.6em; margin: 0 0.25em; line-height: 1; border-radius: 0.35em;\">\n",
       "    Zudem vermerke ich das bei der Jobausführung\n",
       "    <span style=\"font-size: 0.8em; font-weight: bold; line-height: 1; border-radius: 0.35em; vertical-align: middle; margin-left: 0.5rem\">1.0</span>\n",
       "</mark>\n",
       ".</div></span>"
      ],
      "text/plain": [
       "<IPython.core.display.HTML object>"
      ]
     },
     "metadata": {},
     "output_type": "display_data"
    },
    {
     "data": {
      "text/html": [
       "<span class=\"tex2jax_ignore\"><div class=\"entities\" style=\"line-height: 2.5; direction: ltr\">\n",
       "<mark class=\"entity\" style=\"background: #F5F503; padding: 0.45em 0.6em; margin: 0 0.25em; line-height: 1; border-radius: 0.35em;\">\n",
       "    Piggybacking only makes sense if there is a full-duplex or semi-duplex connection between sender and receiver\n",
       "    <span style=\"font-size: 0.8em; font-weight: bold; line-height: 1; border-radius: 0.35em; vertical-align: middle; margin-left: 0.5rem\">1.0</span>\n",
       "</mark>\n",
       ". \n",
       "<mark class=\"entity\" style=\"background: #F5F503; padding: 0.45em 0.6em; margin: 0 0.25em; line-height: 1; border-radius: 0.35em;\">\n",
       "    Therefore\n",
       "    <span style=\"font-size: 0.8em; font-weight: bold; line-height: 1; border-radius: 0.35em; vertical-align: middle; margin-left: 0.5rem\">1.0</span>\n",
       "</mark>\n",
       ", \n",
       "<mark class=\"entity\" style=\"background: #F5F503; padding: 0.45em 0.6em; margin: 0 0.25em; line-height: 1; border-radius: 0.35em;\">\n",
       "    the ACK for a data frame from a sender is sent in one frame with the next data frame issued by the receiver\n",
       "    <span style=\"font-size: 0.8em; font-weight: bold; line-height: 1; border-radius: 0.35em; vertical-align: middle; margin-left: 0.5rem\">1.0</span>\n",
       "</mark>\n",
       ". \n",
       "<mark class=\"entity\" style=\"background: #F5F503; padding: 0.45em 0.6em; margin: 0 0.25em; line-height: 1; border-radius: 0.35em;\">\n",
       "    Thus\n",
       "    <span style=\"font-size: 0.8em; font-weight: bold; line-height: 1; border-radius: 0.35em; vertical-align: middle; margin-left: 0.5rem\">1.0</span>\n",
       "</mark>\n",
       ", \n",
       "<mark class=\"entity\" style=\"background: #F5F503; padding: 0.45em 0.6em; margin: 0 0.25em; line-height: 1; border-radius: 0.35em;\">\n",
       "    the requirement for piggybacking is a duplex connection (and the need of sending an ACK)\n",
       "    <span style=\"font-size: 0.8em; font-weight: bold; line-height: 1; border-radius: 0.35em; vertical-align: middle; margin-left: 0.5rem\">1.0</span>\n",
       "</mark>\n",
       ".</div></span>"
      ],
      "text/plain": [
       "<IPython.core.display.HTML object>"
      ]
     },
     "metadata": {},
     "output_type": "display_data"
    },
    {
     "data": {
      "text/html": [
       "<span class=\"tex2jax_ignore\"><div class=\"entities\" style=\"line-height: 2.5; direction: ltr\">\n",
       "<mark class=\"entity\" style=\"background: #F5F503; padding: 0.45em 0.6em; margin: 0 0.25em; line-height: 1; border-radius: 0.35em;\">\n",
       "    The first phase\n",
       "    <span style=\"font-size: 0.8em; font-weight: bold; line-height: 1; border-radius: 0.35em; vertical-align: middle; margin-left: 0.5rem\">1.0</span>\n",
       "</mark>\n",
       ", \n",
       "<mark class=\"entity\" style=\"background: #F5F503; padding: 0.45em 0.6em; margin: 0 0.25em; line-height: 1; border-radius: 0.35em;\">\n",
       "    slow start\n",
       "    <span style=\"font-size: 0.8em; font-weight: bold; line-height: 1; border-radius: 0.35em; vertical-align: middle; margin-left: 0.5rem\">1.0</span>\n",
       "</mark>\n",
       ", \n",
       "<mark class=\"entity\" style=\"background: #F5F503; padding: 0.45em 0.6em; margin: 0 0.25em; line-height: 1; border-radius: 0.35em;\">\n",
       "    will double cwnd every round-trip time by increasing it by 1 for each received ACK\n",
       "    <span style=\"font-size: 0.8em; font-weight: bold; line-height: 1; border-radius: 0.35em; vertical-align: middle; margin-left: 0.5rem\">1.0</span>\n",
       "</mark>\n",
       ". \n",
       "<mark class=\"entity\" style=\"background: #F5F503; padding: 0.45em 0.6em; margin: 0 0.25em; line-height: 1; border-radius: 0.35em;\">\n",
       "    When cwnd reaches ss_thresh\n",
       "    <span style=\"font-size: 0.8em; font-weight: bold; line-height: 1; border-radius: 0.35em; vertical-align: middle; margin-left: 0.5rem\">1.0</span>\n",
       "</mark>\n",
       ", \n",
       "<mark class=\"entity\" style=\"background: #F5F503; padding: 0.45em 0.6em; margin: 0 0.25em; line-height: 1; border-radius: 0.35em;\">\n",
       "    the congestion avoidance phase is entered\n",
       "    <span style=\"font-size: 0.8em; font-weight: bold; line-height: 1; border-radius: 0.35em; vertical-align: middle; margin-left: 0.5rem\">1.0</span>\n",
       "</mark>\n",
       ". \n",
       "<mark class=\"entity\" style=\"background: #F5F503; padding: 0.45em 0.6em; margin: 0 0.25em; line-height: 1; border-radius: 0.35em;\">\n",
       "    The congestion avoidance phase will additively increase cwnd by 1 every round-trip time\n",
       "    <span style=\"font-size: 0.8em; font-weight: bold; line-height: 1; border-radius: 0.35em; vertical-align: middle; margin-left: 0.5rem\">1.0</span>\n",
       "</mark>\n",
       ". \n",
       "<mark class=\"entity\" style=\"background: #F5F503; padding: 0.45em 0.6em; margin: 0 0.25em; line-height: 1; border-radius: 0.35em;\">\n",
       "    If congestion is encountered in any of the phases\n",
       "    <span style=\"font-size: 0.8em; font-weight: bold; line-height: 1; border-radius: 0.35em; vertical-align: middle; margin-left: 0.5rem\">1.0</span>\n",
       "</mark>\n",
       ", \n",
       "<mark class=\"entity\" style=\"background: #F5F503; padding: 0.45em 0.6em; margin: 0 0.25em; line-height: 1; border-radius: 0.35em;\">\n",
       "    ss_thresh is set to half the value of cwnd\n",
       "    <span style=\"font-size: 0.8em; font-weight: bold; line-height: 1; border-radius: 0.35em; vertical-align: middle; margin-left: 0.5rem\">1.0</span>\n",
       "</mark>\n",
       ", \n",
       "<mark class=\"entity\" style=\"background: #F5F503; padding: 0.45em 0.6em; margin: 0 0.25em; line-height: 1; border-radius: 0.35em;\">\n",
       "    cwnd is set to 1 and the slow start phase is entered\n",
       "    <span style=\"font-size: 0.8em; font-weight: bold; line-height: 1; border-radius: 0.35em; vertical-align: middle; margin-left: 0.5rem\">1.0</span>\n",
       "</mark>\n",
       ".</div></span>"
      ],
      "text/plain": [
       "<IPython.core.display.HTML object>"
      ]
     },
     "metadata": {},
     "output_type": "display_data"
    },
    {
     "data": {
      "text/html": [
       "<span class=\"tex2jax_ignore\"><div class=\"entities\" style=\"line-height: 2.5; direction: ltr\">\n",
       "<mark class=\"entity\" style=\"background: #F5F503; padding: 0.45em 0.6em; margin: 0 0.25em; line-height: 1; border-radius: 0.35em;\">\n",
       "    A duplex operation mode is required\n",
       "    <span style=\"font-size: 0.8em; font-weight: bold; line-height: 1; border-radius: 0.35em; vertical-align: middle; margin-left: 0.5rem\">1.0</span>\n",
       "</mark>\n",
       ", \n",
       "<mark class=\"entity\" style=\"background: #F5F503; padding: 0.45em 0.6em; margin: 0 0.25em; line-height: 1; border-radius: 0.35em;\">\n",
       "    so that both communication partners can send data frames with piggybacked acknowledgments\n",
       "    <span style=\"font-size: 0.8em; font-weight: bold; line-height: 1; border-radius: 0.35em; vertical-align: middle; margin-left: 0.5rem\">1.0</span>\n",
       "</mark>\n",
       ". \n",
       "<mark class=\"entity\" style=\"background: #F5F503; padding: 0.45em 0.6em; margin: 0 0.25em; line-height: 1; border-radius: 0.35em;\">\n",
       "    (Efficient if window size greater than 1 only\n",
       "    <span style=\"font-size: 0.8em; font-weight: bold; line-height: 1; border-radius: 0.35em; vertical-align: middle; margin-left: 0.5rem\">1.0</span>\n",
       "</mark>\n",
       ".\n",
       "<mark class=\"entity\" style=\"background: #F5F503; padding: 0.45em 0.6em; margin: 0 0.25em; line-height: 1; border-radius: 0.35em;\">\n",
       "    )\n",
       "    <span style=\"font-size: 0.8em; font-weight: bold; line-height: 1; border-radius: 0.35em; vertical-align: middle; margin-left: 0.5rem\">1.0</span>\n",
       "</mark>\n",
       "</div></span>"
      ],
      "text/plain": [
       "<IPython.core.display.HTML object>"
      ]
     },
     "metadata": {},
     "output_type": "display_data"
    },
    {
     "data": {
      "text/html": [
       "<span class=\"tex2jax_ignore\"><div class=\"entities\" style=\"line-height: 2.5; direction: ltr\">\n",
       "<mark class=\"entity\" style=\"background: #F5F503; padding: 0.45em 0.6em; margin: 0 0.25em; line-height: 1; border-radius: 0.35em;\">\n",
       "    Ich gebe mich zu erkennen und lege dem Mitarbeiter das Informationsschreiben vor\n",
       "    <span style=\"font-size: 0.8em; font-weight: bold; line-height: 1; border-radius: 0.35em; vertical-align: middle; margin-left: 0.5rem\">1.0</span>\n",
       "</mark>\n",
       ", \n",
       "<mark class=\"entity\" style=\"background: #F5F503; padding: 0.45em 0.6em; margin: 0 0.25em; line-height: 1; border-radius: 0.35em;\">\n",
       "    welches ich von Ihnen erhalten habe\n",
       "    <span style=\"font-size: 0.8em; font-weight: bold; line-height: 1; border-radius: 0.35em; vertical-align: middle; margin-left: 0.5rem\">1.0</span>\n",
       "</mark>\n",
       ".</div></span>"
      ],
      "text/plain": [
       "<IPython.core.display.HTML object>"
      ]
     },
     "metadata": {},
     "output_type": "display_data"
    },
    {
     "data": {
      "text/html": [
       "<span class=\"tex2jax_ignore\"><div class=\"entities\" style=\"line-height: 2.5; direction: ltr\">\n",
       "<mark class=\"entity\" style=\"background: #F5F503; padding: 0.45em 0.6em; margin: 0 0.25em; line-height: 1; border-radius: 0.35em;\">\n",
       "    Reverse Path Forwarding: Used for ensuring loop-free forwarding of multicast packets in multicast routing and to help prevent IP address spoofing in unicast routing\n",
       "    <span style=\"font-size: 0.8em; font-weight: bold; line-height: 1; border-radius: 0.35em; vertical-align: middle; margin-left: 0.5rem\">1.0</span>\n",
       "</mark>\n",
       ".  \n",
       "<mark class=\"entity\" style=\"background: #F5F503; padding: 0.45em 0.6em; margin: 0 0.25em; line-height: 1; border-radius: 0.35em;\">\n",
       "    Checks if the packet arrived at the IS entry port over which the packets for this station/source are usually sent\n",
       "    <span style=\"font-size: 0.8em; font-weight: bold; line-height: 1; border-radius: 0.35em; vertical-align: middle; margin-left: 0.5rem\">1.0</span>\n",
       "</mark>\n",
       ". \n",
       "<mark class=\"entity\" style=\"background: #F5F503; padding: 0.45em 0.6em; margin: 0 0.25em; line-height: 1; border-radius: 0.35em;\">\n",
       "    If packet is assumed taking the best route: resend over all edges (not including the incoming one)\n",
       "    <span style=\"font-size: 0.8em; font-weight: bold; line-height: 1; border-radius: 0.35em; vertical-align: middle; margin-left: 0.5rem\">1.0</span>\n",
       "</mark>\n",
       ". \n",
       "<mark class=\"entity\" style=\"background: #F5F503; padding: 0.45em 0.6em; margin: 0 0.25em; line-height: 1; border-radius: 0.35em;\">\n",
       "    If packet is assumed not taking the best route: discard packet\n",
       "    <span style=\"font-size: 0.8em; font-weight: bold; line-height: 1; border-radius: 0.35em; vertical-align: middle; margin-left: 0.5rem\">1.0</span>\n",
       "</mark>\n",
       ".  \n",
       "<mark class=\"entity\" style=\"background: #F5F503; padding: 0.45em 0.6em; margin: 0 0.25em; line-height: 1; border-radius: 0.35em;\">\n",
       "    Reverse Path Broadcast: Used to check if the set of shortest paths to a node forms a tree that spans the network\n",
       "    <span style=\"font-size: 0.8em; font-weight: bold; line-height: 1; border-radius: 0.35em; vertical-align: middle; margin-left: 0.5rem\">1.0</span>\n",
       "</mark>\n",
       ".  \n",
       "<mark class=\"entity\" style=\"background: #F5F503; padding: 0.45em 0.6em; margin: 0 0.25em; line-height: 1; border-radius: 0.35em;\">\n",
       "    If the packet arrives at the IS entry over which the packets for this station/source are usually sent: Checks if Packet used the BEST route until now: if yes\n",
       "    <span style=\"font-size: 0.8em; font-weight: bold; line-height: 1; border-radius: 0.35em; vertical-align: middle; margin-left: 0.5rem\">1.0</span>\n",
       "</mark>\n",
       ", \n",
       "<mark class=\"entity\" style=\"background: #F5F503; padding: 0.45em 0.6em; margin: 0 0.25em; line-height: 1; border-radius: 0.35em;\">\n",
       "    select the edge at which the packets arrived and from which they are then rerouted to source\n",
       "    <span style=\"font-size: 0.8em; font-weight: bold; line-height: 1; border-radius: 0.35em; vertical-align: middle; margin-left: 0.5rem\">1.0</span>\n",
       "</mark>\n",
       ". \n",
       "<mark class=\"entity\" style=\"background: #F5F503; padding: 0.45em 0.6em; margin: 0 0.25em; line-height: 1; border-radius: 0.35em;\">\n",
       "    If no\n",
       "    <span style=\"font-size: 0.8em; font-weight: bold; line-height: 1; border-radius: 0.35em; vertical-align: middle; margin-left: 0.5rem\">1.0</span>\n",
       "</mark>\n",
       ", \n",
       "<mark class=\"entity\" style=\"background: #F5F503; padding: 0.45em 0.6em; margin: 0 0.25em; line-height: 1; border-radius: 0.35em;\">\n",
       "    do not send over all edges (without the incoming one)\n",
       "    <span style=\"font-size: 0.8em; font-weight: bold; line-height: 1; border-radius: 0.35em; vertical-align: middle; margin-left: 0.5rem\">1.0</span>\n",
       "</mark>\n",
       ". \n",
       "<mark class=\"entity\" style=\"background: #F5F503; padding: 0.45em 0.6em; margin: 0 0.25em; line-height: 1; border-radius: 0.35em;\">\n",
       "    If the packet is not for this station/source: discard packet\n",
       "    <span style=\"font-size: 0.8em; font-weight: bold; line-height: 1; border-radius: 0.35em; vertical-align: middle; margin-left: 0.5rem\">1.0</span>\n",
       "</mark>\n",
       ".</div></span>"
      ],
      "text/plain": [
       "<IPython.core.display.HTML object>"
      ]
     },
     "metadata": {},
     "output_type": "display_data"
    },
    {
     "data": {
      "text/html": [
       "<span class=\"tex2jax_ignore\"><div class=\"entities\" style=\"line-height: 2.5; direction: ltr\">\n",
       "<mark class=\"entity\" style=\"background: #F5F503; padding: 0.45em 0.6em; margin: 0 0.25em; line-height: 1; border-radius: 0.35em;\">\n",
       "    Ob der Gesamteindruck gepflegt und einen sicheren Eindruck machte\n",
       "    <span style=\"font-size: 0.8em; font-weight: bold; line-height: 1; border-radius: 0.35em; vertical-align: middle; margin-left: 0.5rem\">1.0</span>\n",
       "</mark>\n",
       ".</div></span>"
      ],
      "text/plain": [
       "<IPython.core.display.HTML object>"
      ]
     },
     "metadata": {},
     "output_type": "display_data"
    },
    {
     "data": {
      "text/html": [
       "<span class=\"tex2jax_ignore\"><div class=\"entities\" style=\"line-height: 2.5; direction: ltr\">\n",
       "<mark class=\"entity\" style=\"background: #F5F503; padding: 0.45em 0.6em; margin: 0 0.25em; line-height: 1; border-radius: 0.35em;\">\n",
       "    Zu achten ist über die Art der Ansprache und Verabschiedung\n",
       "    <span style=\"font-size: 0.8em; font-weight: bold; line-height: 1; border-radius: 0.35em; vertical-align: middle; margin-left: 0.5rem\">1.0</span>\n",
       "</mark>\n",
       ". \n",
       "<mark class=\"entity\" style=\"background: #F5F503; padding: 0.45em 0.6em; margin: 0 0.25em; line-height: 1; border-radius: 0.35em;\">\n",
       "    Erfolgte diese ggf. mit persönlichen Worten\n",
       "    <span style=\"font-size: 0.8em; font-weight: bold; line-height: 1; border-radius: 0.35em; vertical-align: middle; margin-left: 0.5rem\">1.0</span>\n",
       "</mark>\n",
       ". \n",
       "<mark class=\"entity\" style=\"background: #F5F503; padding: 0.45em 0.6em; margin: 0 0.25em; line-height: 1; border-radius: 0.35em;\">\n",
       "    Wurde ich freundlich bedient und wurden mir weitere Angebote unterbreitet\n",
       "    <span style=\"font-size: 0.8em; font-weight: bold; line-height: 1; border-radius: 0.35em; vertical-align: middle; margin-left: 0.5rem\">1.0</span>\n",
       "</mark>\n",
       ".</div></span>"
      ],
      "text/plain": [
       "<IPython.core.display.HTML object>"
      ]
     },
     "metadata": {},
     "output_type": "display_data"
    },
    {
     "data": {
      "text/html": [
       "<span class=\"tex2jax_ignore\"><div class=\"entities\" style=\"line-height: 2.5; direction: ltr\">\n",
       "<mark class=\"entity\" style=\"background: #F5F503; padding: 0.45em 0.6em; margin: 0 0.25em; line-height: 1; border-radius: 0.35em;\">\n",
       "    Network Topology and Access Points- Network topology and Access Points changes faster when the devices are moving around which is not the case in fixed network\n",
       "    <span style=\"font-size: 0.8em; font-weight: bold; line-height: 1; border-radius: 0.35em; vertical-align: middle; margin-left: 0.5rem\">1.0</span>\n",
       "</mark>\n",
       ". \n",
       "<mark class=\"entity\" style=\"background: #F5F503; padding: 0.45em 0.6em; margin: 0 0.25em; line-height: 1; border-radius: 0.35em;\">\n",
       "    Security - As the network could be available even inside and outside the building\n",
       "    <span style=\"font-size: 0.8em; font-weight: bold; line-height: 1; border-radius: 0.35em; vertical-align: middle; margin-left: 0.5rem\">1.0</span>\n",
       "</mark>\n",
       ", \n",
       "<mark class=\"entity\" style=\"background: #F5F503; padding: 0.45em 0.6em; margin: 0 0.25em; line-height: 1; border-radius: 0.35em;\">\n",
       "    it possesses a threat to security\n",
       "    <span style=\"font-size: 0.8em; font-weight: bold; line-height: 1; border-radius: 0.35em; vertical-align: middle; margin-left: 0.5rem\">1.0</span>\n",
       "</mark>\n",
       ". \n",
       "<mark class=\"entity\" style=\"background: #F5F503; padding: 0.45em 0.6em; margin: 0 0.25em; line-height: 1; border-radius: 0.35em;\">\n",
       "    User Mobility: The users can be moving from one network to another and want to communicate anytime with anyone without losing the network\n",
       "    <span style=\"font-size: 0.8em; font-weight: bold; line-height: 1; border-radius: 0.35em; vertical-align: middle; margin-left: 0.5rem\">1.0</span>\n",
       "</mark>\n",
       ".  \n",
       "<mark class=\"entity\" style=\"background: #F5F503; padding: 0.45em 0.6em; margin: 0 0.25em; line-height: 1; border-radius: 0.35em;\">\n",
       "    Device Portability: The device can change in a period of time but having the portability with the other device to connect anytime and anywhere to the network\n",
       "    <span style=\"font-size: 0.8em; font-weight: bold; line-height: 1; border-radius: 0.35em; vertical-align: middle; margin-left: 0.5rem\">1.0</span>\n",
       "</mark>\n",
       ".</div></span>"
      ],
      "text/plain": [
       "<IPython.core.display.HTML object>"
      ]
     },
     "metadata": {},
     "output_type": "display_data"
    },
    {
     "name": "stdout",
     "output_type": "stream",
     "text": [
      "--------------------------------------------------------------------------------------------------------------------------------------------------------------------------------------------------------\n",
      "train_labeled_data_max_global_global.spacy\n"
     ]
    },
    {
     "data": {
      "text/html": [
       "<span class=\"tex2jax_ignore\"><div class=\"entities\" style=\"line-height: 2.5; direction: ltr\">\n",
       "<mark class=\"entity\" style=\"background: #E8E834; padding: 0.45em 0.6em; margin: 0 0.25em; line-height: 1; border-radius: 0.35em;\">\n",
       "    The functionality of options in IPv4 headers is removed and replaced from the main header through a set of so-called extension headers. They are additional headers in the IPv6 which are used for implementing more extensions. The main header has a fixed size of 40 bytes; the extensions headers, on the other hand, are optional and are added as needed. That means you can add extensions without planning it. There are several extension headers: Routing, Fragment, Destination, etc.   The extension headers are placed between the fixed header and the payload. Every extension header points to the next header. There is also the possibility to refer to a &quot;No Next Header&quot; which is only to show that nothing else follows. It creates a chain, at the end of which is usually the TCP or UDP header.   Extension headers are a way to extend the header and put additional information between the payload and the header. They are optional, and that's why we have an absolute efficiency gain comparing to IPv4. Because in IPv4, we had at least one part for the option reserved, but in IPv6, we can say there are no extension headers, and so we have a smaller header and, therefore, much more space for the payload. Also, extension headers result in a significant improvement in router performance for packets containing options. In contrast to IPv4, the extension headers are only examined by a router when a packet arrives at its final destination and not along their delivery path.\n",
       "    <span style=\"font-size: 0.8em; font-weight: bold; line-height: 1; border-radius: 0.35em; vertical-align: middle; margin-left: 0.5rem\">0.8</span>\n",
       "</mark>\n",
       "</div></span>"
      ],
      "text/plain": [
       "<IPython.core.display.HTML object>"
      ]
     },
     "metadata": {},
     "output_type": "display_data"
    },
    {
     "data": {
      "text/html": [
       "<span class=\"tex2jax_ignore\"><div class=\"entities\" style=\"line-height: 2.5; direction: ltr\">Ich \n",
       "<mark class=\"entity\" style=\"background: #E8E834; padding: 0.45em 0.6em; margin: 0 0.25em; line-height: 1; border-radius: 0.35em;\">\n",
       "    gebe mich zu erkennen und\n",
       "    <span style=\"font-size: 0.8em; font-weight: bold; line-height: 1; border-radius: 0.35em; vertical-align: middle; margin-left: 0.5rem\">0.8</span>\n",
       "</mark>\n",
       " zeige das Schreiben vor. \n",
       "<mark class=\"entity\" style=\"background: #ECEC44; padding: 0.45em 0.6em; margin: 0 0.25em; line-height: 1; border-radius: 0.35em;\">\n",
       "    Dann führe ich den Job mit Zustimmung weiter aus. Zudem vermerke ich das bei der Jobausführung\n",
       "    <span style=\"font-size: 0.8em; font-weight: bold; line-height: 1; border-radius: 0.35em; vertical-align: middle; margin-left: 0.5rem\">0.7</span>\n",
       "</mark>\n",
       ".</div></span>"
      ],
      "text/plain": [
       "<IPython.core.display.HTML object>"
      ]
     },
     "metadata": {},
     "output_type": "display_data"
    },
    {
     "data": {
      "text/html": [
       "<span class=\"tex2jax_ignore\"><div class=\"entities\" style=\"line-height: 2.5; direction: ltr\">\n",
       "<mark class=\"entity\" style=\"background: #ECEC44; padding: 0.45em 0.6em; margin: 0 0.25em; line-height: 1; border-radius: 0.35em;\">\n",
       "    Piggybacking only makes sense if there is a full-duplex or semi-duplex connection between sender and receiver. Therefore, the ACK for a data frame from a sender is sent in\n",
       "    <span style=\"font-size: 0.8em; font-weight: bold; line-height: 1; border-radius: 0.35em; vertical-align: middle; margin-left: 0.5rem\">0.7</span>\n",
       "</mark>\n",
       " one \n",
       "<mark class=\"entity\" style=\"background: #E8E834; padding: 0.45em 0.6em; margin: 0 0.25em; line-height: 1; border-radius: 0.35em;\">\n",
       "    frame with the next data frame issued by the receiver. Thus, the requirement for piggybacking is a duplex connection (and the need of sending an ACK)\n",
       "    <span style=\"font-size: 0.8em; font-weight: bold; line-height: 1; border-radius: 0.35em; vertical-align: middle; margin-left: 0.5rem\">0.8</span>\n",
       "</mark>\n",
       ".</div></span>"
      ],
      "text/plain": [
       "<IPython.core.display.HTML object>"
      ]
     },
     "metadata": {},
     "output_type": "display_data"
    },
    {
     "data": {
      "text/html": [
       "<span class=\"tex2jax_ignore\"><div class=\"entities\" style=\"line-height: 2.5; direction: ltr\">\n",
       "<mark class=\"entity\" style=\"background: #F7F766; padding: 0.45em 0.6em; margin: 0 0.25em; line-height: 1; border-radius: 0.35em;\">\n",
       "    The first phase, slow start,\n",
       "    <span style=\"font-size: 0.8em; font-weight: bold; line-height: 1; border-radius: 0.35em; vertical-align: middle; margin-left: 0.5rem\">0.6</span>\n",
       "</mark>\n",
       " will double cwnd every round-trip time by increasing it by \n",
       "<mark class=\"entity\" style=\"background: #E8E834; padding: 0.45em 0.6em; margin: 0 0.25em; line-height: 1; border-radius: 0.35em;\">\n",
       "    1 for each received ACK. When cwnd reaches ss_thresh, the congestion avoidance phase is entered. The congestion avoidance phase will additively increase cwnd by 1 every round-trip time. If congestion is encountered in any of the phases, ss_thresh is set to half the value of cwnd, cwnd is set to 1 and the slow start phase is entered.\n",
       "    <span style=\"font-size: 0.8em; font-weight: bold; line-height: 1; border-radius: 0.35em; vertical-align: middle; margin-left: 0.5rem\">0.8</span>\n",
       "</mark>\n",
       "</div></span>"
      ],
      "text/plain": [
       "<IPython.core.display.HTML object>"
      ]
     },
     "metadata": {},
     "output_type": "display_data"
    },
    {
     "data": {
      "text/html": [
       "<span class=\"tex2jax_ignore\"><div class=\"entities\" style=\"line-height: 2.5; direction: ltr\">\n",
       "<mark class=\"entity\" style=\"background: #ECEC44; padding: 0.45em 0.6em; margin: 0 0.25em; line-height: 1; border-radius: 0.35em;\">\n",
       "    A duplex operation mode is required, so that both communication partners can send data frames with piggybacked acknowledgments. (Efficient if window size greater than 1 only.)\n",
       "    <span style=\"font-size: 0.8em; font-weight: bold; line-height: 1; border-radius: 0.35em; vertical-align: middle; margin-left: 0.5rem\">0.7</span>\n",
       "</mark>\n",
       "</div></span>"
      ],
      "text/plain": [
       "<IPython.core.display.HTML object>"
      ]
     },
     "metadata": {},
     "output_type": "display_data"
    },
    {
     "data": {
      "text/html": [
       "<span class=\"tex2jax_ignore\"><div class=\"entities\" style=\"line-height: 2.5; direction: ltr\">Ich \n",
       "<mark class=\"entity\" style=\"background: #E8E834; padding: 0.45em 0.6em; margin: 0 0.25em; line-height: 1; border-radius: 0.35em;\">\n",
       "    gebe mich zu erkennen und lege dem Mitarbeiter das Informationsschreiben vor\n",
       "    <span style=\"font-size: 0.8em; font-weight: bold; line-height: 1; border-radius: 0.35em; vertical-align: middle; margin-left: 0.5rem\">0.8</span>\n",
       "</mark>\n",
       ", \n",
       "<mark class=\"entity\" style=\"background: #FDFD84; padding: 0.45em 0.6em; margin: 0 0.25em; line-height: 1; border-radius: 0.35em;\">\n",
       "    welches ich von Ihnen erhalten habe.\n",
       "    <span style=\"font-size: 0.8em; font-weight: bold; line-height: 1; border-radius: 0.35em; vertical-align: middle; margin-left: 0.5rem\">0.5</span>\n",
       "</mark>\n",
       "</div></span>"
      ],
      "text/plain": [
       "<IPython.core.display.HTML object>"
      ]
     },
     "metadata": {},
     "output_type": "display_data"
    },
    {
     "data": {
      "text/html": [
       "<span class=\"tex2jax_ignore\"><div class=\"entities\" style=\"line-height: 2.5; direction: ltr\">\n",
       "<mark class=\"entity\" style=\"background: #E8E834; padding: 0.45em 0.6em; margin: 0 0.25em; line-height: 1; border-radius: 0.35em;\">\n",
       "    Reverse Path Forwarding:\n",
       "    <span style=\"font-size: 0.8em; font-weight: bold; line-height: 1; border-radius: 0.35em; vertical-align: middle; margin-left: 0.5rem\">0.8</span>\n",
       "</mark>\n",
       " Used for ensuring loop-\n",
       "<mark class=\"entity\" style=\"background: #E8E834; padding: 0.45em 0.6em; margin: 0 0.25em; line-height: 1; border-radius: 0.35em;\">\n",
       "    free forwarding of multicast packets in multicast routing and to help prevent IP address spoofing in unicast routing.  Checks if the packet arrived at the IS entry port over which the packets for this station/source are usually sent. If packet is assumed taking the best route: resend over all edges (not including the incoming one). If packet is assumed not taking the best route: discard packet.  Reverse Path Broadcast: Used to check if the set of shortest paths to a node forms a tree that spans the network.  If the packet arrives at the IS entry over which the packets for this station/source are usually sent: Checks if Packet used the BEST route until now: if yes, select the edge at which the packets arrived and from which they are then rerouted to source. If no, do not send over all edges (without the incoming one). If the packet is not for this station/source: discard packet.\n",
       "    <span style=\"font-size: 0.8em; font-weight: bold; line-height: 1; border-radius: 0.35em; vertical-align: middle; margin-left: 0.5rem\">0.8</span>\n",
       "</mark>\n",
       "</div></span>"
      ],
      "text/plain": [
       "<IPython.core.display.HTML object>"
      ]
     },
     "metadata": {},
     "output_type": "display_data"
    },
    {
     "data": {
      "text/html": [
       "<span class=\"tex2jax_ignore\"><div class=\"entities\" style=\"line-height: 2.5; direction: ltr\">Ob der \n",
       "<mark class=\"entity\" style=\"background: #E8E834; padding: 0.45em 0.6em; margin: 0 0.25em; line-height: 1; border-radius: 0.35em;\">\n",
       "    Gesamteindruck gepflegt\n",
       "    <span style=\"font-size: 0.8em; font-weight: bold; line-height: 1; border-radius: 0.35em; vertical-align: middle; margin-left: 0.5rem\">0.8</span>\n",
       "</mark>\n",
       " und einen sicheren \n",
       "<mark class=\"entity\" style=\"background: #E8E834; padding: 0.45em 0.6em; margin: 0 0.25em; line-height: 1; border-radius: 0.35em;\">\n",
       "    Eindruck machte\n",
       "    <span style=\"font-size: 0.8em; font-weight: bold; line-height: 1; border-radius: 0.35em; vertical-align: middle; margin-left: 0.5rem\">0.8</span>\n",
       "</mark>\n",
       ".</div></span>"
      ],
      "text/plain": [
       "<IPython.core.display.HTML object>"
      ]
     },
     "metadata": {},
     "output_type": "display_data"
    },
    {
     "data": {
      "text/html": [
       "<span class=\"tex2jax_ignore\"><div class=\"entities\" style=\"line-height: 2.5; direction: ltr\">\n",
       "<mark class=\"entity\" style=\"background: #ECEC44; padding: 0.45em 0.6em; margin: 0 0.25em; line-height: 1; border-radius: 0.35em;\">\n",
       "    Zu achten ist über die Art der Ansprache und Verabschiedung. Erfolgte diese ggf. mit persönlichen Worten. Wurde ich\n",
       "    <span style=\"font-size: 0.8em; font-weight: bold; line-height: 1; border-radius: 0.35em; vertical-align: middle; margin-left: 0.5rem\">0.7</span>\n",
       "</mark>\n",
       " freundlich bedient und wurden mir weitere \n",
       "<mark class=\"entity\" style=\"background: #E8E834; padding: 0.45em 0.6em; margin: 0 0.25em; line-height: 1; border-radius: 0.35em;\">\n",
       "    Angebote unterbreitet\n",
       "    <span style=\"font-size: 0.8em; font-weight: bold; line-height: 1; border-radius: 0.35em; vertical-align: middle; margin-left: 0.5rem\">0.8</span>\n",
       "</mark>\n",
       ".</div></span>"
      ],
      "text/plain": [
       "<IPython.core.display.HTML object>"
      ]
     },
     "metadata": {},
     "output_type": "display_data"
    },
    {
     "data": {
      "text/html": [
       "<span class=\"tex2jax_ignore\"><div class=\"entities\" style=\"line-height: 2.5; direction: ltr\">\n",
       "<mark class=\"entity\" style=\"background: #E8E834; padding: 0.45em 0.6em; margin: 0 0.25em; line-height: 1; border-radius: 0.35em;\">\n",
       "    Network Topology and Access Points- Network topology and Access Points changes faster when the devices are moving around which is not the case in fixed network. Security - As the network could be available even inside and outside the building, it possesses a threat to security. User Mobility: The users can be moving from one network to another and want to communicate anytime with anyone without losing the network.  Device Portability: The device can change in a period of time but having the portability with the other device to connect anytime and anywhere to the network.\n",
       "    <span style=\"font-size: 0.8em; font-weight: bold; line-height: 1; border-radius: 0.35em; vertical-align: middle; margin-left: 0.5rem\">0.8</span>\n",
       "</mark>\n",
       "</div></span>"
      ],
      "text/plain": [
       "<IPython.core.display.HTML object>"
      ]
     },
     "metadata": {},
     "output_type": "display_data"
    },
    {
     "name": "stdout",
     "output_type": "stream",
     "text": [
      "--------------------------------------------------------------------------------------------------------------------------------------------------------------------------------------------------------\n",
      "train_labeled_data_average.spacy\n"
     ]
    },
    {
     "data": {
      "text/html": [
       "<span class=\"tex2jax_ignore\"><div class=\"entities\" style=\"line-height: 2.5; direction: ltr\">The functionality of options in IPv4 headers is removed and replaced from the main header through a set of so-called extension headers. They are additional headers in the IPv6 which are used for implementing more extensions. \n",
       "<mark class=\"entity\" style=\"background: #EBEB1D; padding: 0.45em 0.6em; margin: 0 0.25em; line-height: 1; border-radius: 0.35em;\">\n",
       "    The main header has a fixed size of 40 bytes;\n",
       "    <span style=\"font-size: 0.8em; font-weight: bold; line-height: 1; border-radius: 0.35em; vertical-align: middle; margin-left: 0.5rem\">0.9</span>\n",
       "</mark>\n",
       " the extensions headers, on the other hand, are optional and are added as needed. That means you can add extensions without planning it. There are several extension headers: Routing, Fragment, Destination, etc.   The extension headers are placed between the fixed header and the payload. Every extension header points to the next header. There is also the possibility to refer to a &quot;No Next Header&quot; which is only to show that nothing else follows. It creates a chain, at the end of which is usually the TCP or UDP header.   Extension headers are a way to extend the header and put additional information between the payload and the header. They are optional, and that's why we have an absolute efficiency gain comparing to IPv4. Because in IPv4, we had at least one part for the option reserved, but in IPv6, we can say there are no extension headers, and so we have a smaller header and, therefore, much more space for the payload. Also, extension headers result in a significant improvement in router performance for packets containing options. In contrast to IPv4, the extension headers are only examined by a router when a packet arrives at its final destination and not along their delivery path.</div></span>"
      ],
      "text/plain": [
       "<IPython.core.display.HTML object>"
      ]
     },
     "metadata": {},
     "output_type": "display_data"
    },
    {
     "data": {
      "text/html": [
       "<span class=\"tex2jax_ignore\"><div class=\"entities\" style=\"line-height: 2.5; direction: ltr\">Ich \n",
       "<mark class=\"entity\" style=\"background: #ECEC44; padding: 0.45em 0.6em; margin: 0 0.25em; line-height: 1; border-radius: 0.35em;\">\n",
       "    gebe mich zu erkennen und\n",
       "    <span style=\"font-size: 0.8em; font-weight: bold; line-height: 1; border-radius: 0.35em; vertical-align: middle; margin-left: 0.5rem\">0.7</span>\n",
       "</mark>\n",
       " zeige das Schreiben vor. Dann \n",
       "<mark class=\"entity\" style=\"background: #ECEC44; padding: 0.45em 0.6em; margin: 0 0.25em; line-height: 1; border-radius: 0.35em;\">\n",
       "    führe ich\n",
       "    <span style=\"font-size: 0.8em; font-weight: bold; line-height: 1; border-radius: 0.35em; vertical-align: middle; margin-left: 0.5rem\">0.7</span>\n",
       "</mark>\n",
       " den \n",
       "<mark class=\"entity\" style=\"background: #E8E834; padding: 0.45em 0.6em; margin: 0 0.25em; line-height: 1; border-radius: 0.35em;\">\n",
       "    Job mit Zustimmung weiter aus.\n",
       "    <span style=\"font-size: 0.8em; font-weight: bold; line-height: 1; border-radius: 0.35em; vertical-align: middle; margin-left: 0.5rem\">0.8</span>\n",
       "</mark>\n",
       " Zudem vermerke ich das bei \n",
       "<mark class=\"entity\" style=\"background: #ECEC44; padding: 0.45em 0.6em; margin: 0 0.25em; line-height: 1; border-radius: 0.35em;\">\n",
       "    der\n",
       "    <span style=\"font-size: 0.8em; font-weight: bold; line-height: 1; border-radius: 0.35em; vertical-align: middle; margin-left: 0.5rem\">0.7</span>\n",
       "</mark>\n",
       " Jobausführung.</div></span>"
      ],
      "text/plain": [
       "<IPython.core.display.HTML object>"
      ]
     },
     "metadata": {},
     "output_type": "display_data"
    },
    {
     "data": {
      "text/html": [
       "<span class=\"tex2jax_ignore\"><div class=\"entities\" style=\"line-height: 2.5; direction: ltr\">Piggybacking only makes sense if there is a full-duplex or semi-\n",
       "<mark class=\"entity\" style=\"background: #F7F766; padding: 0.45em 0.6em; margin: 0 0.25em; line-height: 1; border-radius: 0.35em;\">\n",
       "    duplex connection between\n",
       "    <span style=\"font-size: 0.8em; font-weight: bold; line-height: 1; border-radius: 0.35em; vertical-align: middle; margin-left: 0.5rem\">0.6</span>\n",
       "</mark>\n",
       " sender and receiver. Therefore, the ACK for a data frame \n",
       "<mark class=\"entity\" style=\"background: #F7F766; padding: 0.45em 0.6em; margin: 0 0.25em; line-height: 1; border-radius: 0.35em;\">\n",
       "    from a\n",
       "    <span style=\"font-size: 0.8em; font-weight: bold; line-height: 1; border-radius: 0.35em; vertical-align: middle; margin-left: 0.5rem\">0.6</span>\n",
       "</mark>\n",
       " sender is sent in one frame with the \n",
       "<mark class=\"entity\" style=\"background: #ECEC44; padding: 0.45em 0.6em; margin: 0 0.25em; line-height: 1; border-radius: 0.35em;\">\n",
       "    next data frame issued\n",
       "    <span style=\"font-size: 0.8em; font-weight: bold; line-height: 1; border-radius: 0.35em; vertical-align: middle; margin-left: 0.5rem\">0.7</span>\n",
       "</mark>\n",
       " by the receiver. Thus, the requirement for piggybacking is a \n",
       "<mark class=\"entity\" style=\"background: #EBEB1D; padding: 0.45em 0.6em; margin: 0 0.25em; line-height: 1; border-radius: 0.35em;\">\n",
       "    duplex connection (\n",
       "    <span style=\"font-size: 0.8em; font-weight: bold; line-height: 1; border-radius: 0.35em; vertical-align: middle; margin-left: 0.5rem\">0.9</span>\n",
       "</mark>\n",
       "and the need of sending an ACK).</div></span>"
      ],
      "text/plain": [
       "<IPython.core.display.HTML object>"
      ]
     },
     "metadata": {},
     "output_type": "display_data"
    },
    {
     "data": {
      "text/html": [
       "<span class=\"tex2jax_ignore\"><div class=\"entities\" style=\"line-height: 2.5; direction: ltr\">The first phase, slow start, will double cwnd every round-trip time by increasing it by 1 for each received ACK. When cwnd \n",
       "<mark class=\"entity\" style=\"background: #F7F766; padding: 0.45em 0.6em; margin: 0 0.25em; line-height: 1; border-radius: 0.35em;\">\n",
       "    reaches ss_thresh\n",
       "    <span style=\"font-size: 0.8em; font-weight: bold; line-height: 1; border-radius: 0.35em; vertical-align: middle; margin-left: 0.5rem\">0.6</span>\n",
       "</mark>\n",
       ", \n",
       "<mark class=\"entity\" style=\"background: #E8E834; padding: 0.45em 0.6em; margin: 0 0.25em; line-height: 1; border-radius: 0.35em;\">\n",
       "    the congestion avoidance phase is entered. The congestion avoidance phase will additively increase cwnd by 1 every round-trip time. If congestion is encountered in any\n",
       "    <span style=\"font-size: 0.8em; font-weight: bold; line-height: 1; border-radius: 0.35em; vertical-align: middle; margin-left: 0.5rem\">0.8</span>\n",
       "</mark>\n",
       " of the phases, \n",
       "<mark class=\"entity\" style=\"background: #FDFD84; padding: 0.45em 0.6em; margin: 0 0.25em; line-height: 1; border-radius: 0.35em;\">\n",
       "    ss_thresh is\n",
       "    <span style=\"font-size: 0.8em; font-weight: bold; line-height: 1; border-radius: 0.35em; vertical-align: middle; margin-left: 0.5rem\">0.5</span>\n",
       "</mark>\n",
       " set to half the value of \n",
       "<mark class=\"entity\" style=\"background: #F7F766; padding: 0.45em 0.6em; margin: 0 0.25em; line-height: 1; border-radius: 0.35em;\">\n",
       "    cwnd, cwnd is set to 1 and\n",
       "    <span style=\"font-size: 0.8em; font-weight: bold; line-height: 1; border-radius: 0.35em; vertical-align: middle; margin-left: 0.5rem\">0.6</span>\n",
       "</mark>\n",
       " the slow start phase \n",
       "<mark class=\"entity\" style=\"background: #F7F766; padding: 0.45em 0.6em; margin: 0 0.25em; line-height: 1; border-radius: 0.35em;\">\n",
       "    is\n",
       "    <span style=\"font-size: 0.8em; font-weight: bold; line-height: 1; border-radius: 0.35em; vertical-align: middle; margin-left: 0.5rem\">0.6</span>\n",
       "</mark>\n",
       " entered.</div></span>"
      ],
      "text/plain": [
       "<IPython.core.display.HTML object>"
      ]
     },
     "metadata": {},
     "output_type": "display_data"
    },
    {
     "data": {
      "text/html": [
       "<span class=\"tex2jax_ignore\"><div class=\"entities\" style=\"line-height: 2.5; direction: ltr\">A \n",
       "<mark class=\"entity\" style=\"background: #EBEB1D; padding: 0.45em 0.6em; margin: 0 0.25em; line-height: 1; border-radius: 0.35em;\">\n",
       "    duplex operation mode is\n",
       "    <span style=\"font-size: 0.8em; font-weight: bold; line-height: 1; border-radius: 0.35em; vertical-align: middle; margin-left: 0.5rem\">0.9</span>\n",
       "</mark>\n",
       " required, so that both \n",
       "<mark class=\"entity\" style=\"background: #FDFD84; padding: 0.45em 0.6em; margin: 0 0.25em; line-height: 1; border-radius: 0.35em;\">\n",
       "    communication partners\n",
       "    <span style=\"font-size: 0.8em; font-weight: bold; line-height: 1; border-radius: 0.35em; vertical-align: middle; margin-left: 0.5rem\">0.5</span>\n",
       "</mark>\n",
       " can send data \n",
       "<mark class=\"entity\" style=\"background: #FDFD84; padding: 0.45em 0.6em; margin: 0 0.25em; line-height: 1; border-radius: 0.35em;\">\n",
       "    frames with\n",
       "    <span style=\"font-size: 0.8em; font-weight: bold; line-height: 1; border-radius: 0.35em; vertical-align: middle; margin-left: 0.5rem\">0.5</span>\n",
       "</mark>\n",
       " piggybacked acknowledgments. (Efficient if window size greater than 1 only.)</div></span>"
      ],
      "text/plain": [
       "<IPython.core.display.HTML object>"
      ]
     },
     "metadata": {},
     "output_type": "display_data"
    },
    {
     "data": {
      "text/html": [
       "<span class=\"tex2jax_ignore\"><div class=\"entities\" style=\"line-height: 2.5; direction: ltr\">Ich \n",
       "<mark class=\"entity\" style=\"background: #ECEC44; padding: 0.45em 0.6em; margin: 0 0.25em; line-height: 1; border-radius: 0.35em;\">\n",
       "    gebe mich zu erkennen und lege dem Mitarbeiter das Informationsschreiben vor\n",
       "    <span style=\"font-size: 0.8em; font-weight: bold; line-height: 1; border-radius: 0.35em; vertical-align: middle; margin-left: 0.5rem\">0.7</span>\n",
       "</mark>\n",
       ", welches ich von Ihnen erhalten habe.</div></span>"
      ],
      "text/plain": [
       "<IPython.core.display.HTML object>"
      ]
     },
     "metadata": {},
     "output_type": "display_data"
    },
    {
     "data": {
      "text/html": [
       "<span class=\"tex2jax_ignore\"><div class=\"entities\" style=\"line-height: 2.5; direction: ltr\">Reverse Path Forwarding: Used for ensuring loop-free \n",
       "<mark class=\"entity\" style=\"background: #F7F766; padding: 0.45em 0.6em; margin: 0 0.25em; line-height: 1; border-radius: 0.35em;\">\n",
       "    forwarding of multicast packets in multicast routing and to help prevent IP address spoofing in unicast routing.\n",
       "    <span style=\"font-size: 0.8em; font-weight: bold; line-height: 1; border-radius: 0.35em; vertical-align: middle; margin-left: 0.5rem\">0.6</span>\n",
       "</mark>\n",
       "  Checks if the packet arrived at the IS entry port over which the packets for this station/source are usually sent. If packet is assumed taking the best route: resend over all edges (not including the incoming one). If packet is assumed not taking the best route: discard packet.  \n",
       "<mark class=\"entity\" style=\"background: #EBEB1D; padding: 0.45em 0.6em; margin: 0 0.25em; line-height: 1; border-radius: 0.35em;\">\n",
       "    Reverse Path Broadcast: Used to check if the set of shortest paths to a node forms a tree that spans the network.\n",
       "    <span style=\"font-size: 0.8em; font-weight: bold; line-height: 1; border-radius: 0.35em; vertical-align: middle; margin-left: 0.5rem\">0.9</span>\n",
       "</mark>\n",
       "  \n",
       "<mark class=\"entity\" style=\"background: #FDFD84; padding: 0.45em 0.6em; margin: 0 0.25em; line-height: 1; border-radius: 0.35em;\">\n",
       "    If the packet arrives at the IS\n",
       "    <span style=\"font-size: 0.8em; font-weight: bold; line-height: 1; border-radius: 0.35em; vertical-align: middle; margin-left: 0.5rem\">0.5</span>\n",
       "</mark>\n",
       " entry over which the packets for this station/source are usually sent: Checks if Packet used the BEST route until now: if yes, select the edge at which the packets arrived and from which they are then rerouted to source. If no, do not send over all edges (without the incoming one). If the packet is not for this station/source: discard packet.</div></span>"
      ],
      "text/plain": [
       "<IPython.core.display.HTML object>"
      ]
     },
     "metadata": {},
     "output_type": "display_data"
    },
    {
     "data": {
      "text/html": [
       "<span class=\"tex2jax_ignore\"><div class=\"entities\" style=\"line-height: 2.5; direction: ltr\">Ob der \n",
       "<mark class=\"entity\" style=\"background: #F5F503; padding: 0.45em 0.6em; margin: 0 0.25em; line-height: 1; border-radius: 0.35em;\">\n",
       "    Gesamteindruck gepflegt\n",
       "    <span style=\"font-size: 0.8em; font-weight: bold; line-height: 1; border-radius: 0.35em; vertical-align: middle; margin-left: 0.5rem\">1.0</span>\n",
       "</mark>\n",
       " und einen sicheren \n",
       "<mark class=\"entity\" style=\"background: #E8E834; padding: 0.45em 0.6em; margin: 0 0.25em; line-height: 1; border-radius: 0.35em;\">\n",
       "    Eindruck machte\n",
       "    <span style=\"font-size: 0.8em; font-weight: bold; line-height: 1; border-radius: 0.35em; vertical-align: middle; margin-left: 0.5rem\">0.8</span>\n",
       "</mark>\n",
       ".</div></span>"
      ],
      "text/plain": [
       "<IPython.core.display.HTML object>"
      ]
     },
     "metadata": {},
     "output_type": "display_data"
    },
    {
     "data": {
      "text/html": [
       "<span class=\"tex2jax_ignore\"><div class=\"entities\" style=\"line-height: 2.5; direction: ltr\">Zu achten ist über die \n",
       "<mark class=\"entity\" style=\"background: #F7F766; padding: 0.45em 0.6em; margin: 0 0.25em; line-height: 1; border-radius: 0.35em;\">\n",
       "    Art\n",
       "    <span style=\"font-size: 0.8em; font-weight: bold; line-height: 1; border-radius: 0.35em; vertical-align: middle; margin-left: 0.5rem\">0.6</span>\n",
       "</mark>\n",
       " der \n",
       "<mark class=\"entity\" style=\"background: #E8E834; padding: 0.45em 0.6em; margin: 0 0.25em; line-height: 1; border-radius: 0.35em;\">\n",
       "    Ansprache und Verabschiedung.\n",
       "    <span style=\"font-size: 0.8em; font-weight: bold; line-height: 1; border-radius: 0.35em; vertical-align: middle; margin-left: 0.5rem\">0.8</span>\n",
       "</mark>\n",
       " Erfolgte diese ggf. mit persönlichen \n",
       "<mark class=\"entity\" style=\"background: #FDFD84; padding: 0.45em 0.6em; margin: 0 0.25em; line-height: 1; border-radius: 0.35em;\">\n",
       "    Worten.\n",
       "    <span style=\"font-size: 0.8em; font-weight: bold; line-height: 1; border-radius: 0.35em; vertical-align: middle; margin-left: 0.5rem\">0.5</span>\n",
       "</mark>\n",
       " Wurde ich freundlich bedient und wurden mir weitere Angebote unterbreitet.</div></span>"
      ],
      "text/plain": [
       "<IPython.core.display.HTML object>"
      ]
     },
     "metadata": {},
     "output_type": "display_data"
    },
    {
     "data": {
      "text/html": [
       "<span class=\"tex2jax_ignore\"><div class=\"entities\" style=\"line-height: 2.5; direction: ltr\">Network Topology and Access Points- \n",
       "<mark class=\"entity\" style=\"background: #ECEC44; padding: 0.45em 0.6em; margin: 0 0.25em; line-height: 1; border-radius: 0.35em;\">\n",
       "    Network topology and Access Points changes faster\n",
       "    <span style=\"font-size: 0.8em; font-weight: bold; line-height: 1; border-radius: 0.35em; vertical-align: middle; margin-left: 0.5rem\">0.7</span>\n",
       "</mark>\n",
       " when the devices \n",
       "<mark class=\"entity\" style=\"background: #F7F766; padding: 0.45em 0.6em; margin: 0 0.25em; line-height: 1; border-radius: 0.35em;\">\n",
       "    are moving\n",
       "    <span style=\"font-size: 0.8em; font-weight: bold; line-height: 1; border-radius: 0.35em; vertical-align: middle; margin-left: 0.5rem\">0.6</span>\n",
       "</mark>\n",
       " around which \n",
       "<mark class=\"entity\" style=\"background: #F7F766; padding: 0.45em 0.6em; margin: 0 0.25em; line-height: 1; border-radius: 0.35em;\">\n",
       "    is not the case in\n",
       "    <span style=\"font-size: 0.8em; font-weight: bold; line-height: 1; border-radius: 0.35em; vertical-align: middle; margin-left: 0.5rem\">0.6</span>\n",
       "</mark>\n",
       " fixed \n",
       "<mark class=\"entity\" style=\"background: #ECEC44; padding: 0.45em 0.6em; margin: 0 0.25em; line-height: 1; border-radius: 0.35em;\">\n",
       "    network. Security - As the network could\n",
       "    <span style=\"font-size: 0.8em; font-weight: bold; line-height: 1; border-radius: 0.35em; vertical-align: middle; margin-left: 0.5rem\">0.7</span>\n",
       "</mark>\n",
       " be \n",
       "<mark class=\"entity\" style=\"background: #F7F766; padding: 0.45em 0.6em; margin: 0 0.25em; line-height: 1; border-radius: 0.35em;\">\n",
       "    available even inside and\n",
       "    <span style=\"font-size: 0.8em; font-weight: bold; line-height: 1; border-radius: 0.35em; vertical-align: middle; margin-left: 0.5rem\">0.6</span>\n",
       "</mark>\n",
       " outside the \n",
       "<mark class=\"entity\" style=\"background: #ECEC44; padding: 0.45em 0.6em; margin: 0 0.25em; line-height: 1; border-radius: 0.35em;\">\n",
       "    building, it possesses a threat to security. User Mobility:\n",
       "    <span style=\"font-size: 0.8em; font-weight: bold; line-height: 1; border-radius: 0.35em; vertical-align: middle; margin-left: 0.5rem\">0.7</span>\n",
       "</mark>\n",
       " The users can be moving from one network to another and want to communicate anytime with anyone without losing the network.  Device \n",
       "<mark class=\"entity\" style=\"background: #F7F766; padding: 0.45em 0.6em; margin: 0 0.25em; line-height: 1; border-radius: 0.35em;\">\n",
       "    Portability:\n",
       "    <span style=\"font-size: 0.8em; font-weight: bold; line-height: 1; border-radius: 0.35em; vertical-align: middle; margin-left: 0.5rem\">0.6</span>\n",
       "</mark>\n",
       " The device \n",
       "<mark class=\"entity\" style=\"background: #FDFD84; padding: 0.45em 0.6em; margin: 0 0.25em; line-height: 1; border-radius: 0.35em;\">\n",
       "    can\n",
       "    <span style=\"font-size: 0.8em; font-weight: bold; line-height: 1; border-radius: 0.35em; vertical-align: middle; margin-left: 0.5rem\">0.5</span>\n",
       "</mark>\n",
       " change in a period \n",
       "<mark class=\"entity\" style=\"background: #FDFD84; padding: 0.45em 0.6em; margin: 0 0.25em; line-height: 1; border-radius: 0.35em;\">\n",
       "    of time\n",
       "    <span style=\"font-size: 0.8em; font-weight: bold; line-height: 1; border-radius: 0.35em; vertical-align: middle; margin-left: 0.5rem\">0.5</span>\n",
       "</mark>\n",
       " but having the portability with the other \n",
       "<mark class=\"entity\" style=\"background: #FDFD84; padding: 0.45em 0.6em; margin: 0 0.25em; line-height: 1; border-radius: 0.35em;\">\n",
       "    device\n",
       "    <span style=\"font-size: 0.8em; font-weight: bold; line-height: 1; border-radius: 0.35em; vertical-align: middle; margin-left: 0.5rem\">0.5</span>\n",
       "</mark>\n",
       " to connect anytime and anywhere to the network.</div></span>"
      ],
      "text/plain": [
       "<IPython.core.display.HTML object>"
      ]
     },
     "metadata": {},
     "output_type": "display_data"
    },
    {
     "name": "stdout",
     "output_type": "stream",
     "text": [
      "--------------------------------------------------------------------------------------------------------------------------------------------------------------------------------------------------------\n",
      "train_labeled_data_max.spacy\n"
     ]
    },
    {
     "data": {
      "text/html": [
       "<span class=\"tex2jax_ignore\"><div class=\"entities\" style=\"line-height: 2.5; direction: ltr\">The functionality of options in IPv4 headers is removed and replaced from the main header through a set of so-called extension headers. They are additional headers in the IPv6 which are used for implementing more extensions. \n",
       "<mark class=\"entity\" style=\"background: #E8E834; padding: 0.45em 0.6em; margin: 0 0.25em; line-height: 1; border-radius: 0.35em;\">\n",
       "    The main header has a fixed size of 40 bytes;\n",
       "    <span style=\"font-size: 0.8em; font-weight: bold; line-height: 1; border-radius: 0.35em; vertical-align: middle; margin-left: 0.5rem\">0.8</span>\n",
       "</mark>\n",
       " the extensions headers, on the other hand, are optional and are added as needed. That means you can add extensions without planning it. There are several extension headers: Routing, Fragment, Destination, etc.   The extension headers are placed between the fixed header and the payload. Every extension header points to the next header. There is also the possibility to refer to a &quot;No Next Header&quot; which is only to show that nothing else follows. It creates a chain, at the end of which is usually the TCP or UDP header.   Extension headers are a way to extend the header and put additional information between the payload and the header. They are optional, and that's why we have an absolute efficiency gain comparing to IPv4. Because in IPv4, we had at least one part for the option reserved, but in IPv6, \n",
       "<mark class=\"entity\" style=\"background: #F5F503; padding: 0.45em 0.6em; margin: 0 0.25em; line-height: 1; border-radius: 0.35em;\">\n",
       "    we can say there are no extension headers,\n",
       "    <span style=\"font-size: 0.8em; font-weight: bold; line-height: 1; border-radius: 0.35em; vertical-align: middle; margin-left: 0.5rem\">1.0</span>\n",
       "</mark>\n",
       " and so we have a smaller header and, therefore, much more space for the payload. Also, extension headers result in a significant improvement in router performance for packets containing options. In contrast to IPv4, the extension headers are only examined by a router when a packet arrives at its final destination and not along their delivery path.</div></span>"
      ],
      "text/plain": [
       "<IPython.core.display.HTML object>"
      ]
     },
     "metadata": {},
     "output_type": "display_data"
    },
    {
     "data": {
      "text/html": [
       "<span class=\"tex2jax_ignore\"><div class=\"entities\" style=\"line-height: 2.5; direction: ltr\">Ich \n",
       "<mark class=\"entity\" style=\"background: #F5F503; padding: 0.45em 0.6em; margin: 0 0.25em; line-height: 1; border-radius: 0.35em;\">\n",
       "    gebe mich zu erkennen und\n",
       "    <span style=\"font-size: 0.8em; font-weight: bold; line-height: 1; border-radius: 0.35em; vertical-align: middle; margin-left: 0.5rem\">1.0</span>\n",
       "</mark>\n",
       " zeige das Schreiben vor. \n",
       "<mark class=\"entity\" style=\"background: #F5F503; padding: 0.45em 0.6em; margin: 0 0.25em; line-height: 1; border-radius: 0.35em;\">\n",
       "    Dann führe ich den Job mit Zustimmung weiter aus. Zudem vermerke ich das bei der Jobausführung\n",
       "    <span style=\"font-size: 0.8em; font-weight: bold; line-height: 1; border-radius: 0.35em; vertical-align: middle; margin-left: 0.5rem\">1.0</span>\n",
       "</mark>\n",
       ".</div></span>"
      ],
      "text/plain": [
       "<IPython.core.display.HTML object>"
      ]
     },
     "metadata": {},
     "output_type": "display_data"
    },
    {
     "data": {
      "text/html": [
       "<span class=\"tex2jax_ignore\"><div class=\"entities\" style=\"line-height: 2.5; direction: ltr\">\n",
       "<mark class=\"entity\" style=\"background: #EBEB1D; padding: 0.45em 0.6em; margin: 0 0.25em; line-height: 1; border-radius: 0.35em;\">\n",
       "    Piggybacking only makes sense if there is a full-duplex or semi-duplex connection between sender and receiver. Therefore, the ACK for a data frame from a sender is sent in\n",
       "    <span style=\"font-size: 0.8em; font-weight: bold; line-height: 1; border-radius: 0.35em; vertical-align: middle; margin-left: 0.5rem\">0.9</span>\n",
       "</mark>\n",
       " one \n",
       "<mark class=\"entity\" style=\"background: #F5F503; padding: 0.45em 0.6em; margin: 0 0.25em; line-height: 1; border-radius: 0.35em;\">\n",
       "    frame with the next data frame issued by the receiver. Thus, the requirement for piggybacking is a duplex connection (and the need of sending an ACK)\n",
       "    <span style=\"font-size: 0.8em; font-weight: bold; line-height: 1; border-radius: 0.35em; vertical-align: middle; margin-left: 0.5rem\">1.0</span>\n",
       "</mark>\n",
       ".</div></span>"
      ],
      "text/plain": [
       "<IPython.core.display.HTML object>"
      ]
     },
     "metadata": {},
     "output_type": "display_data"
    },
    {
     "data": {
      "text/html": [
       "<span class=\"tex2jax_ignore\"><div class=\"entities\" style=\"line-height: 2.5; direction: ltr\">\n",
       "<mark class=\"entity\" style=\"background: #F7F766; padding: 0.45em 0.6em; margin: 0 0.25em; line-height: 1; border-radius: 0.35em;\">\n",
       "    The first phase, slow start,\n",
       "    <span style=\"font-size: 0.8em; font-weight: bold; line-height: 1; border-radius: 0.35em; vertical-align: middle; margin-left: 0.5rem\">0.6</span>\n",
       "</mark>\n",
       " will double cwnd every round-trip time by increasing it by \n",
       "<mark class=\"entity\" style=\"background: #F5F503; padding: 0.45em 0.6em; margin: 0 0.25em; line-height: 1; border-radius: 0.35em;\">\n",
       "    1 for each received ACK. When cwnd reaches ss_thresh, the congestion avoidance phase is entered. The congestion avoidance phase will additively increase cwnd by 1 every round-trip time. If congestion is encountered in any of the phases, ss_thresh is set to half the value of cwnd, cwnd is set to 1 and the slow start phase is entered\n",
       "    <span style=\"font-size: 0.8em; font-weight: bold; line-height: 1; border-radius: 0.35em; vertical-align: middle; margin-left: 0.5rem\">1.0</span>\n",
       "</mark>\n",
       ".</div></span>"
      ],
      "text/plain": [
       "<IPython.core.display.HTML object>"
      ]
     },
     "metadata": {},
     "output_type": "display_data"
    },
    {
     "data": {
      "text/html": [
       "<span class=\"tex2jax_ignore\"><div class=\"entities\" style=\"line-height: 2.5; direction: ltr\">A \n",
       "<mark class=\"entity\" style=\"background: #F5F503; padding: 0.45em 0.6em; margin: 0 0.25em; line-height: 1; border-radius: 0.35em;\">\n",
       "    duplex operation mode is required, so that both communication partners can send data frames with piggybacked acknowledgments.\n",
       "    <span style=\"font-size: 0.8em; font-weight: bold; line-height: 1; border-radius: 0.35em; vertical-align: middle; margin-left: 0.5rem\">1.0</span>\n",
       "</mark>\n",
       " (Efficient if \n",
       "<mark class=\"entity\" style=\"background: #F5F503; padding: 0.45em 0.6em; margin: 0 0.25em; line-height: 1; border-radius: 0.35em;\">\n",
       "    window size greater than 1\n",
       "    <span style=\"font-size: 0.8em; font-weight: bold; line-height: 1; border-radius: 0.35em; vertical-align: middle; margin-left: 0.5rem\">1.0</span>\n",
       "</mark>\n",
       " only.\n",
       "<mark class=\"entity\" style=\"background: #E8E834; padding: 0.45em 0.6em; margin: 0 0.25em; line-height: 1; border-radius: 0.35em;\">\n",
       "    )\n",
       "    <span style=\"font-size: 0.8em; font-weight: bold; line-height: 1; border-radius: 0.35em; vertical-align: middle; margin-left: 0.5rem\">0.8</span>\n",
       "</mark>\n",
       "</div></span>"
      ],
      "text/plain": [
       "<IPython.core.display.HTML object>"
      ]
     },
     "metadata": {},
     "output_type": "display_data"
    },
    {
     "data": {
      "text/html": [
       "<span class=\"tex2jax_ignore\"><div class=\"entities\" style=\"line-height: 2.5; direction: ltr\">Ich \n",
       "<mark class=\"entity\" style=\"background: #F5F503; padding: 0.45em 0.6em; margin: 0 0.25em; line-height: 1; border-radius: 0.35em;\">\n",
       "    gebe mich zu erkennen und lege dem Mitarbeiter das Informationsschreiben vor\n",
       "    <span style=\"font-size: 0.8em; font-weight: bold; line-height: 1; border-radius: 0.35em; vertical-align: middle; margin-left: 0.5rem\">1.0</span>\n",
       "</mark>\n",
       ", welches ich von Ihnen erhalten habe.</div></span>"
      ],
      "text/plain": [
       "<IPython.core.display.HTML object>"
      ]
     },
     "metadata": {},
     "output_type": "display_data"
    },
    {
     "data": {
      "text/html": [
       "<span class=\"tex2jax_ignore\"><div class=\"entities\" style=\"line-height: 2.5; direction: ltr\">\n",
       "<mark class=\"entity\" style=\"background: #F5F503; padding: 0.45em 0.6em; margin: 0 0.25em; line-height: 1; border-radius: 0.35em;\">\n",
       "    Reverse Path Forwarding:\n",
       "    <span style=\"font-size: 0.8em; font-weight: bold; line-height: 1; border-radius: 0.35em; vertical-align: middle; margin-left: 0.5rem\">1.0</span>\n",
       "</mark>\n",
       " Used for ensuring loop-\n",
       "<mark class=\"entity\" style=\"background: #F5F503; padding: 0.45em 0.6em; margin: 0 0.25em; line-height: 1; border-radius: 0.35em;\">\n",
       "    free forwarding of multicast packets in multicast routing and to help prevent IP address spoofing in unicast routing.  Checks if the packet arrived at the IS entry port over which the packets for this station/source are usually sent. If packet is assumed taking the best route: resend over all edges (not including the incoming one). If packet is assumed not taking the best route: discard packet.  Reverse Path Broadcast: Used to check if the set of shortest paths to a node forms a tree that spans the network.  If the packet arrives at the IS entry over which the packets for this station/source are usually sent: Checks if Packet used the BEST route until now: if yes, select the edge at which the packets arrived and from which they are then rerouted to source. If no, do not send over all edges (without the incoming one). If the packet is not for this station/source: discard packet\n",
       "    <span style=\"font-size: 0.8em; font-weight: bold; line-height: 1; border-radius: 0.35em; vertical-align: middle; margin-left: 0.5rem\">1.0</span>\n",
       "</mark>\n",
       ".</div></span>"
      ],
      "text/plain": [
       "<IPython.core.display.HTML object>"
      ]
     },
     "metadata": {},
     "output_type": "display_data"
    },
    {
     "data": {
      "text/html": [
       "<span class=\"tex2jax_ignore\"><div class=\"entities\" style=\"line-height: 2.5; direction: ltr\">Ob der \n",
       "<mark class=\"entity\" style=\"background: #F5F503; padding: 0.45em 0.6em; margin: 0 0.25em; line-height: 1; border-radius: 0.35em;\">\n",
       "    Gesamteindruck gepflegt\n",
       "    <span style=\"font-size: 0.8em; font-weight: bold; line-height: 1; border-radius: 0.35em; vertical-align: middle; margin-left: 0.5rem\">1.0</span>\n",
       "</mark>\n",
       " und einen sicheren \n",
       "<mark class=\"entity\" style=\"background: #F5F503; padding: 0.45em 0.6em; margin: 0 0.25em; line-height: 1; border-radius: 0.35em;\">\n",
       "    Eindruck machte\n",
       "    <span style=\"font-size: 0.8em; font-weight: bold; line-height: 1; border-radius: 0.35em; vertical-align: middle; margin-left: 0.5rem\">1.0</span>\n",
       "</mark>\n",
       ".</div></span>"
      ],
      "text/plain": [
       "<IPython.core.display.HTML object>"
      ]
     },
     "metadata": {},
     "output_type": "display_data"
    },
    {
     "data": {
      "text/html": [
       "<span class=\"tex2jax_ignore\"><div class=\"entities\" style=\"line-height: 2.5; direction: ltr\">Zu achten \n",
       "<mark class=\"entity\" style=\"background: #F5F503; padding: 0.45em 0.6em; margin: 0 0.25em; line-height: 1; border-radius: 0.35em;\">\n",
       "    ist über die Art der Ansprache und Verabschiedung. Erfolgte diese ggf. mit persönlichen Worten. Wurde ich\n",
       "    <span style=\"font-size: 0.8em; font-weight: bold; line-height: 1; border-radius: 0.35em; vertical-align: middle; margin-left: 0.5rem\">1.0</span>\n",
       "</mark>\n",
       " freundlich bedient und wurden mir weitere \n",
       "<mark class=\"entity\" style=\"background: #F5F503; padding: 0.45em 0.6em; margin: 0 0.25em; line-height: 1; border-radius: 0.35em;\">\n",
       "    Angebote unterbreitet\n",
       "    <span style=\"font-size: 0.8em; font-weight: bold; line-height: 1; border-radius: 0.35em; vertical-align: middle; margin-left: 0.5rem\">1.0</span>\n",
       "</mark>\n",
       ".</div></span>"
      ],
      "text/plain": [
       "<IPython.core.display.HTML object>"
      ]
     },
     "metadata": {},
     "output_type": "display_data"
    },
    {
     "data": {
      "text/html": [
       "<span class=\"tex2jax_ignore\"><div class=\"entities\" style=\"line-height: 2.5; direction: ltr\">Network Topology and Access Points- Network topology and Access Points changes faster when the devices are moving around which is not the case in fixed network. \n",
       "<mark class=\"entity\" style=\"background: #E8E834; padding: 0.45em 0.6em; margin: 0 0.25em; line-height: 1; border-radius: 0.35em;\">\n",
       "    Security - As the network could be available even inside and outside the building, it possesses a threat to security. User Mobility: The users can be moving from one network to another and want to communicate anytime with anyone without losing the network.\n",
       "    <span style=\"font-size: 0.8em; font-weight: bold; line-height: 1; border-radius: 0.35em; vertical-align: middle; margin-left: 0.5rem\">0.8</span>\n",
       "</mark>\n",
       "  Device Portability: The device can change in a period of time but having the portability with the other device to connect anytime and anywhere to the network.</div></span>"
      ],
      "text/plain": [
       "<IPython.core.display.HTML object>"
      ]
     },
     "metadata": {},
     "output_type": "display_data"
    },
    {
     "name": "stdout",
     "output_type": "stream",
     "text": [
      "--------------------------------------------------------------------------------------------------------------------------------------------------------------------------------------------------------\n",
      "train_labeled_data_average_nonzero_global_global.spacy\n"
     ]
    },
    {
     "data": {
      "text/html": [
       "<span class=\"tex2jax_ignore\"><div class=\"entities\" style=\"line-height: 2.5; direction: ltr\">The functionality of options in IPv4 headers is removed and replaced from the main header through a set of so-called extension headers. They are additional headers in the IPv6 which are used for implementing more extensions. \n",
       "<mark class=\"entity\" style=\"background: #F7F766; padding: 0.45em 0.6em; margin: 0 0.25em; line-height: 1; border-radius: 0.35em;\">\n",
       "    The main header has a fixed size of 40 bytes;\n",
       "    <span style=\"font-size: 0.8em; font-weight: bold; line-height: 1; border-radius: 0.35em; vertical-align: middle; margin-left: 0.5rem\">0.6</span>\n",
       "</mark>\n",
       " the extensions headers, on the other hand, are optional and are added as needed. That means you can add extensions without planning it. There are several extension headers\n",
       "<mark class=\"entity\" style=\"background: #FDFD84; padding: 0.45em 0.6em; margin: 0 0.25em; line-height: 1; border-radius: 0.35em;\">\n",
       "    : Routing\n",
       "    <span style=\"font-size: 0.8em; font-weight: bold; line-height: 1; border-radius: 0.35em; vertical-align: middle; margin-left: 0.5rem\">0.5</span>\n",
       "</mark>\n",
       ", Fragment, Destination, etc. \n",
       "<mark class=\"entity\" style=\"background: #EBEB1D; padding: 0.45em 0.6em; margin: 0 0.25em; line-height: 1; border-radius: 0.35em;\">\n",
       "      \n",
       "    <span style=\"font-size: 0.8em; font-weight: bold; line-height: 1; border-radius: 0.35em; vertical-align: middle; margin-left: 0.5rem\">0.9</span>\n",
       "</mark>\n",
       "The extension headers are placed between the fixed header and the payload. Every extension header points to the next header. There is also the possibility to refer to a &quot;No Next Header&quot; which is only to show that nothing else follows. It creates a chain, at the end of which is usually the TCP or UDP header. \n",
       "<mark class=\"entity\" style=\"background: #FDFD84; padding: 0.45em 0.6em; margin: 0 0.25em; line-height: 1; border-radius: 0.35em;\">\n",
       "      \n",
       "    <span style=\"font-size: 0.8em; font-weight: bold; line-height: 1; border-radius: 0.35em; vertical-align: middle; margin-left: 0.5rem\">0.5</span>\n",
       "</mark>\n",
       "Extension headers are a way to extend the header and put additional information between the payload and the header. They are optional, and that's why we have an absolute efficiency gain comparing to IPv4. Because in IPv4, we had at least one part for the option reserved, but in IPv6, we can say there are no extension headers, and so we have a smaller header and, therefore, much more space for the payload. Also, extension headers result in a significant improvement in router performance for packets containing options. In contrast to IPv4, the extension headers are only examined by a router when a packet arrives at its final destination and not along their delivery path.</div></span>"
      ],
      "text/plain": [
       "<IPython.core.display.HTML object>"
      ]
     },
     "metadata": {},
     "output_type": "display_data"
    },
    {
     "data": {
      "text/html": [
       "<span class=\"tex2jax_ignore\"><div class=\"entities\" style=\"line-height: 2.5; direction: ltr\">Ich gebe mich zu erkennen und zeige das Schreiben vor. Dann führe ich den Job mit Zustimmung weiter aus. Zudem vermerke ich das bei der Jobausführung.</div></span>"
      ],
      "text/plain": [
       "<IPython.core.display.HTML object>"
      ]
     },
     "metadata": {},
     "output_type": "display_data"
    },
    {
     "data": {
      "text/html": [
       "<span class=\"tex2jax_ignore\"><div class=\"entities\" style=\"line-height: 2.5; direction: ltr\">Piggybacking only makes sense if there is a full-duplex or semi-duplex connection between sender and receiver. Therefore, the ACK for a data frame from a sender is sent in one frame with the next data frame issued by the receiver. Thus, the requirement for piggybacking is a duplex connection (and the need of sending an ACK).</div></span>"
      ],
      "text/plain": [
       "<IPython.core.display.HTML object>"
      ]
     },
     "metadata": {},
     "output_type": "display_data"
    },
    {
     "data": {
      "text/html": [
       "<span class=\"tex2jax_ignore\"><div class=\"entities\" style=\"line-height: 2.5; direction: ltr\">The first phase, slow start, will double cwnd every round-trip time by increasing it by 1 for each received ACK. When cwnd reaches ss_thresh, the congestion avoidance phase is entered. The congestion avoidance phase will additively increase cwnd by 1 every round-trip time. If congestion is encountered in any of the phases, ss_thresh is set to half the value of cwnd, cwnd is set to 1 and the slow start phase is entered.</div></span>"
      ],
      "text/plain": [
       "<IPython.core.display.HTML object>"
      ]
     },
     "metadata": {},
     "output_type": "display_data"
    },
    {
     "data": {
      "text/html": [
       "<span class=\"tex2jax_ignore\"><div class=\"entities\" style=\"line-height: 2.5; direction: ltr\">A duplex operation mode is required, so that both communication partners can send data frames with piggybacked acknowledgments. \n",
       "<mark class=\"entity\" style=\"background: #F7F766; padding: 0.45em 0.6em; margin: 0 0.25em; line-height: 1; border-radius: 0.35em;\">\n",
       "    (Efficient if window size greater than 1 only.)\n",
       "    <span style=\"font-size: 0.8em; font-weight: bold; line-height: 1; border-radius: 0.35em; vertical-align: middle; margin-left: 0.5rem\">0.6</span>\n",
       "</mark>\n",
       "</div></span>"
      ],
      "text/plain": [
       "<IPython.core.display.HTML object>"
      ]
     },
     "metadata": {},
     "output_type": "display_data"
    },
    {
     "data": {
      "text/html": [
       "<span class=\"tex2jax_ignore\"><div class=\"entities\" style=\"line-height: 2.5; direction: ltr\">Ich gebe mich zu erkennen und lege dem Mitarbeiter das Informationsschreiben vor, welches ich von Ihnen erhalten habe.</div></span>"
      ],
      "text/plain": [
       "<IPython.core.display.HTML object>"
      ]
     },
     "metadata": {},
     "output_type": "display_data"
    },
    {
     "data": {
      "text/html": [
       "<span class=\"tex2jax_ignore\"><div class=\"entities\" style=\"line-height: 2.5; direction: ltr\">Reverse Path Forwarding: Used for ensuring loop-free forwarding of multicast packets in multicast routing and to help prevent IP address spoofing in unicast routing.  Checks if the packet arrived at the IS entry port over which the packets for this station/source are usually sent. If packet is assumed taking the best route: resend over all edges (not including the incoming one). If packet is assumed not taking the best route: discard packet. \n",
       "<mark class=\"entity\" style=\"background: #F7F766; padding: 0.45em 0.6em; margin: 0 0.25em; line-height: 1; border-radius: 0.35em;\">\n",
       "     \n",
       "    <span style=\"font-size: 0.8em; font-weight: bold; line-height: 1; border-radius: 0.35em; vertical-align: middle; margin-left: 0.5rem\">0.6</span>\n",
       "</mark>\n",
       "Reverse Path Broadcast: Used to check if the set of shortest paths to a node forms a tree that spans the network. \n",
       "<mark class=\"entity\" style=\"background: #FDFD84; padding: 0.45em 0.6em; margin: 0 0.25em; line-height: 1; border-radius: 0.35em;\">\n",
       "     \n",
       "    <span style=\"font-size: 0.8em; font-weight: bold; line-height: 1; border-radius: 0.35em; vertical-align: middle; margin-left: 0.5rem\">0.5</span>\n",
       "</mark>\n",
       "If the packet arrives at the IS entry over which the packets for this station/source are usually sent: Checks if Packet used the BEST route until now: if yes, select the edge at which the packets arrived and from which they are then rerouted to source. If no, do not send over all edges (without the incoming one). If the packet is not for this station/source: discard packet.</div></span>"
      ],
      "text/plain": [
       "<IPython.core.display.HTML object>"
      ]
     },
     "metadata": {},
     "output_type": "display_data"
    },
    {
     "data": {
      "text/html": [
       "<span class=\"tex2jax_ignore\"><div class=\"entities\" style=\"line-height: 2.5; direction: ltr\">Ob der \n",
       "<mark class=\"entity\" style=\"background: #F7F766; padding: 0.45em 0.6em; margin: 0 0.25em; line-height: 1; border-radius: 0.35em;\">\n",
       "    Gesamteindruck gepflegt\n",
       "    <span style=\"font-size: 0.8em; font-weight: bold; line-height: 1; border-radius: 0.35em; vertical-align: middle; margin-left: 0.5rem\">0.6</span>\n",
       "</mark>\n",
       " und einen sicheren \n",
       "<mark class=\"entity\" style=\"background: #FDFD84; padding: 0.45em 0.6em; margin: 0 0.25em; line-height: 1; border-radius: 0.35em;\">\n",
       "    Eindruck machte\n",
       "    <span style=\"font-size: 0.8em; font-weight: bold; line-height: 1; border-radius: 0.35em; vertical-align: middle; margin-left: 0.5rem\">0.5</span>\n",
       "</mark>\n",
       ".</div></span>"
      ],
      "text/plain": [
       "<IPython.core.display.HTML object>"
      ]
     },
     "metadata": {},
     "output_type": "display_data"
    },
    {
     "data": {
      "text/html": [
       "<span class=\"tex2jax_ignore\"><div class=\"entities\" style=\"line-height: 2.5; direction: ltr\">Zu achten ist über die Art der Ansprache und Verabschiedung. \n",
       "<mark class=\"entity\" style=\"background: #F7F766; padding: 0.45em 0.6em; margin: 0 0.25em; line-height: 1; border-radius: 0.35em;\">\n",
       "    Erfolgte diese ggf. mit persönlichen Worten. Wurde ich\n",
       "    <span style=\"font-size: 0.8em; font-weight: bold; line-height: 1; border-radius: 0.35em; vertical-align: middle; margin-left: 0.5rem\">0.6</span>\n",
       "</mark>\n",
       " freundlich bedient und wurden mir weitere \n",
       "<mark class=\"entity\" style=\"background: #F7F766; padding: 0.45em 0.6em; margin: 0 0.25em; line-height: 1; border-radius: 0.35em;\">\n",
       "    Angebote unterbreitet\n",
       "    <span style=\"font-size: 0.8em; font-weight: bold; line-height: 1; border-radius: 0.35em; vertical-align: middle; margin-left: 0.5rem\">0.6</span>\n",
       "</mark>\n",
       ".</div></span>"
      ],
      "text/plain": [
       "<IPython.core.display.HTML object>"
      ]
     },
     "metadata": {},
     "output_type": "display_data"
    },
    {
     "data": {
      "text/html": [
       "<span class=\"tex2jax_ignore\"><div class=\"entities\" style=\"line-height: 2.5; direction: ltr\">Network Topology and Access Points- Network topology and Access Points changes faster when the devices are moving around which is not the case in fixed network. \n",
       "<mark class=\"entity\" style=\"background: #FDFD84; padding: 0.45em 0.6em; margin: 0 0.25em; line-height: 1; border-radius: 0.35em;\">\n",
       "    Security -\n",
       "    <span style=\"font-size: 0.8em; font-weight: bold; line-height: 1; border-radius: 0.35em; vertical-align: middle; margin-left: 0.5rem\">0.5</span>\n",
       "</mark>\n",
       " As the network could be available even inside and outside the building\n",
       "<mark class=\"entity\" style=\"background: #FDFD84; padding: 0.45em 0.6em; margin: 0 0.25em; line-height: 1; border-radius: 0.35em;\">\n",
       "    ,\n",
       "    <span style=\"font-size: 0.8em; font-weight: bold; line-height: 1; border-radius: 0.35em; vertical-align: middle; margin-left: 0.5rem\">0.5</span>\n",
       "</mark>\n",
       " it possesses a threat to \n",
       "<mark class=\"entity\" style=\"background: #FDFD84; padding: 0.45em 0.6em; margin: 0 0.25em; line-height: 1; border-radius: 0.35em;\">\n",
       "    security.\n",
       "    <span style=\"font-size: 0.8em; font-weight: bold; line-height: 1; border-radius: 0.35em; vertical-align: middle; margin-left: 0.5rem\">0.5</span>\n",
       "</mark>\n",
       " User Mobility: The users can be moving from one network to another and want to communicate anytime with anyone without losing the network.  Device Portability: The device can change in a period of time but having the portability with the other device to connect anytime and anywhere to the network.</div></span>"
      ],
      "text/plain": [
       "<IPython.core.display.HTML object>"
      ]
     },
     "metadata": {},
     "output_type": "display_data"
    },
    {
     "name": "stdout",
     "output_type": "stream",
     "text": [
      "--------------------------------------------------------------------------------------------------------------------------------------------------------------------------------------------------------\n",
      "train_labeled_data_hmm_global.spacy\n"
     ]
    },
    {
     "data": {
      "text/html": [
       "<span class=\"tex2jax_ignore\"><div class=\"entities\" style=\"line-height: 2.5; direction: ltr\">\n",
       "<mark class=\"entity\" style=\"background: #EBEB1D; padding: 0.45em 0.6em; margin: 0 0.25em; line-height: 1; border-radius: 0.35em;\">\n",
       "    The functionality of options in IPv4 headers is removed and replaced from the main header through a set of so-called extension headers\n",
       "    <span style=\"font-size: 0.8em; font-weight: bold; line-height: 1; border-radius: 0.35em; vertical-align: middle; margin-left: 0.5rem\">0.9</span>\n",
       "</mark>\n",
       ". \n",
       "<mark class=\"entity\" style=\"background: #EBEB1D; padding: 0.45em 0.6em; margin: 0 0.25em; line-height: 1; border-radius: 0.35em;\">\n",
       "    They are additional headers in the IPv6 which are used for implementing more extensions\n",
       "    <span style=\"font-size: 0.8em; font-weight: bold; line-height: 1; border-radius: 0.35em; vertical-align: middle; margin-left: 0.5rem\">0.9</span>\n",
       "</mark>\n",
       ". \n",
       "<mark class=\"entity\" style=\"background: #F5F503; padding: 0.45em 0.6em; margin: 0 0.25em; line-height: 1; border-radius: 0.35em;\">\n",
       "    The main header has a fixed size of 40 bytes\n",
       "    <span style=\"font-size: 0.8em; font-weight: bold; line-height: 1; border-radius: 0.35em; vertical-align: middle; margin-left: 0.5rem\">1.0</span>\n",
       "</mark>\n",
       "; \n",
       "<mark class=\"entity\" style=\"background: #E8E834; padding: 0.45em 0.6em; margin: 0 0.25em; line-height: 1; border-radius: 0.35em;\">\n",
       "    the extensions headers\n",
       "    <span style=\"font-size: 0.8em; font-weight: bold; line-height: 1; border-radius: 0.35em; vertical-align: middle; margin-left: 0.5rem\">0.8</span>\n",
       "</mark>\n",
       ", \n",
       "<mark class=\"entity\" style=\"background: #E8E834; padding: 0.45em 0.6em; margin: 0 0.25em; line-height: 1; border-radius: 0.35em;\">\n",
       "    on the other hand\n",
       "    <span style=\"font-size: 0.8em; font-weight: bold; line-height: 1; border-radius: 0.35em; vertical-align: middle; margin-left: 0.5rem\">0.8</span>\n",
       "</mark>\n",
       ", \n",
       "<mark class=\"entity\" style=\"background: #F5F503; padding: 0.45em 0.6em; margin: 0 0.25em; line-height: 1; border-radius: 0.35em;\">\n",
       "    are optional and are added as needed\n",
       "    <span style=\"font-size: 0.8em; font-weight: bold; line-height: 1; border-radius: 0.35em; vertical-align: middle; margin-left: 0.5rem\">1.0</span>\n",
       "</mark>\n",
       ". \n",
       "<mark class=\"entity\" style=\"background: #F5F503; padding: 0.45em 0.6em; margin: 0 0.25em; line-height: 1; border-radius: 0.35em;\">\n",
       "    That means you can add extensions without planning it\n",
       "    <span style=\"font-size: 0.8em; font-weight: bold; line-height: 1; border-radius: 0.35em; vertical-align: middle; margin-left: 0.5rem\">1.0</span>\n",
       "</mark>\n",
       ". \n",
       "<mark class=\"entity\" style=\"background: #F5F503; padding: 0.45em 0.6em; margin: 0 0.25em; line-height: 1; border-radius: 0.35em;\">\n",
       "    There are several extension headers: Routing\n",
       "    <span style=\"font-size: 0.8em; font-weight: bold; line-height: 1; border-radius: 0.35em; vertical-align: middle; margin-left: 0.5rem\">1.0</span>\n",
       "</mark>\n",
       ", \n",
       "<mark class=\"entity\" style=\"background: #F7F766; padding: 0.45em 0.6em; margin: 0 0.25em; line-height: 1; border-radius: 0.35em;\">\n",
       "    Fragment\n",
       "    <span style=\"font-size: 0.8em; font-weight: bold; line-height: 1; border-radius: 0.35em; vertical-align: middle; margin-left: 0.5rem\">0.6</span>\n",
       "</mark>\n",
       ", \n",
       "<mark class=\"entity\" style=\"background: #F7F766; padding: 0.45em 0.6em; margin: 0 0.25em; line-height: 1; border-radius: 0.35em;\">\n",
       "    Destination\n",
       "    <span style=\"font-size: 0.8em; font-weight: bold; line-height: 1; border-radius: 0.35em; vertical-align: middle; margin-left: 0.5rem\">0.6</span>\n",
       "</mark>\n",
       ", \n",
       "<mark class=\"entity\" style=\"background: #FDFD84; padding: 0.45em 0.6em; margin: 0 0.25em; line-height: 1; border-radius: 0.35em;\">\n",
       "    etc\n",
       "    <span style=\"font-size: 0.8em; font-weight: bold; line-height: 1; border-radius: 0.35em; vertical-align: middle; margin-left: 0.5rem\">0.5</span>\n",
       "</mark>\n",
       ".   \n",
       "<mark class=\"entity\" style=\"background: #EBEB1D; padding: 0.45em 0.6em; margin: 0 0.25em; line-height: 1; border-radius: 0.35em;\">\n",
       "    The extension headers are placed between the fixed header and the payload\n",
       "    <span style=\"font-size: 0.8em; font-weight: bold; line-height: 1; border-radius: 0.35em; vertical-align: middle; margin-left: 0.5rem\">0.9</span>\n",
       "</mark>\n",
       ". \n",
       "<mark class=\"entity\" style=\"background: #F5F503; padding: 0.45em 0.6em; margin: 0 0.25em; line-height: 1; border-radius: 0.35em;\">\n",
       "    Every extension header points to the next header\n",
       "    <span style=\"font-size: 0.8em; font-weight: bold; line-height: 1; border-radius: 0.35em; vertical-align: middle; margin-left: 0.5rem\">1.0</span>\n",
       "</mark>\n",
       ". \n",
       "<mark class=\"entity\" style=\"background: #EBEB1D; padding: 0.45em 0.6em; margin: 0 0.25em; line-height: 1; border-radius: 0.35em;\">\n",
       "    There is also the possibility to refer to a &quot;No Next Header&quot; which is only to show that nothing else follows\n",
       "    <span style=\"font-size: 0.8em; font-weight: bold; line-height: 1; border-radius: 0.35em; vertical-align: middle; margin-left: 0.5rem\">0.9</span>\n",
       "</mark>\n",
       ". \n",
       "<mark class=\"entity\" style=\"background: #E8E834; padding: 0.45em 0.6em; margin: 0 0.25em; line-height: 1; border-radius: 0.35em;\">\n",
       "    It creates a chain\n",
       "    <span style=\"font-size: 0.8em; font-weight: bold; line-height: 1; border-radius: 0.35em; vertical-align: middle; margin-left: 0.5rem\">0.8</span>\n",
       "</mark>\n",
       ", \n",
       "<mark class=\"entity\" style=\"background: #F5F503; padding: 0.45em 0.6em; margin: 0 0.25em; line-height: 1; border-radius: 0.35em;\">\n",
       "    at the end of which is usually the TCP or UDP header\n",
       "    <span style=\"font-size: 0.8em; font-weight: bold; line-height: 1; border-radius: 0.35em; vertical-align: middle; margin-left: 0.5rem\">1.0</span>\n",
       "</mark>\n",
       ".   \n",
       "<mark class=\"entity\" style=\"background: #EBEB1D; padding: 0.45em 0.6em; margin: 0 0.25em; line-height: 1; border-radius: 0.35em;\">\n",
       "    Extension headers are a way to extend the header and put additional information between the payload and the header\n",
       "    <span style=\"font-size: 0.8em; font-weight: bold; line-height: 1; border-radius: 0.35em; vertical-align: middle; margin-left: 0.5rem\">0.9</span>\n",
       "</mark>\n",
       ". \n",
       "<mark class=\"entity\" style=\"background: #EBEB1D; padding: 0.45em 0.6em; margin: 0 0.25em; line-height: 1; border-radius: 0.35em;\">\n",
       "    They are optional\n",
       "    <span style=\"font-size: 0.8em; font-weight: bold; line-height: 1; border-radius: 0.35em; vertical-align: middle; margin-left: 0.5rem\">0.9</span>\n",
       "</mark>\n",
       ", \n",
       "<mark class=\"entity\" style=\"background: #F5F503; padding: 0.45em 0.6em; margin: 0 0.25em; line-height: 1; border-radius: 0.35em;\">\n",
       "    and that's why we have an absolute efficiency gain comparing to IPv4\n",
       "    <span style=\"font-size: 0.8em; font-weight: bold; line-height: 1; border-radius: 0.35em; vertical-align: middle; margin-left: 0.5rem\">1.0</span>\n",
       "</mark>\n",
       ". \n",
       "<mark class=\"entity\" style=\"background: #E8E834; padding: 0.45em 0.6em; margin: 0 0.25em; line-height: 1; border-radius: 0.35em;\">\n",
       "    Because in IPv4\n",
       "    <span style=\"font-size: 0.8em; font-weight: bold; line-height: 1; border-radius: 0.35em; vertical-align: middle; margin-left: 0.5rem\">0.8</span>\n",
       "</mark>\n",
       ", \n",
       "<mark class=\"entity\" style=\"background: #F5F503; padding: 0.45em 0.6em; margin: 0 0.25em; line-height: 1; border-radius: 0.35em;\">\n",
       "    we had at least one part for the option reserved\n",
       "    <span style=\"font-size: 0.8em; font-weight: bold; line-height: 1; border-radius: 0.35em; vertical-align: middle; margin-left: 0.5rem\">1.0</span>\n",
       "</mark>\n",
       ", \n",
       "<mark class=\"entity\" style=\"background: #E8E834; padding: 0.45em 0.6em; margin: 0 0.25em; line-height: 1; border-radius: 0.35em;\">\n",
       "    but in IPv6\n",
       "    <span style=\"font-size: 0.8em; font-weight: bold; line-height: 1; border-radius: 0.35em; vertical-align: middle; margin-left: 0.5rem\">0.8</span>\n",
       "</mark>\n",
       ", \n",
       "<mark class=\"entity\" style=\"background: #F5F503; padding: 0.45em 0.6em; margin: 0 0.25em; line-height: 1; border-radius: 0.35em;\">\n",
       "    we can say there are no extension headers\n",
       "    <span style=\"font-size: 0.8em; font-weight: bold; line-height: 1; border-radius: 0.35em; vertical-align: middle; margin-left: 0.5rem\">1.0</span>\n",
       "</mark>\n",
       ", \n",
       "<mark class=\"entity\" style=\"background: #F5F503; padding: 0.45em 0.6em; margin: 0 0.25em; line-height: 1; border-radius: 0.35em;\">\n",
       "    and so we have a smaller header and\n",
       "    <span style=\"font-size: 0.8em; font-weight: bold; line-height: 1; border-radius: 0.35em; vertical-align: middle; margin-left: 0.5rem\">1.0</span>\n",
       "</mark>\n",
       ", \n",
       "<mark class=\"entity\" style=\"background: #F5F503; padding: 0.45em 0.6em; margin: 0 0.25em; line-height: 1; border-radius: 0.35em;\">\n",
       "    therefore, much more space for the payload\n",
       "    <span style=\"font-size: 0.8em; font-weight: bold; line-height: 1; border-radius: 0.35em; vertical-align: middle; margin-left: 0.5rem\">1.0</span>\n",
       "</mark>\n",
       ". \n",
       "<mark class=\"entity\" style=\"background: #F7F766; padding: 0.45em 0.6em; margin: 0 0.25em; line-height: 1; border-radius: 0.35em;\">\n",
       "    Also\n",
       "    <span style=\"font-size: 0.8em; font-weight: bold; line-height: 1; border-radius: 0.35em; vertical-align: middle; margin-left: 0.5rem\">0.6</span>\n",
       "</mark>\n",
       ", \n",
       "<mark class=\"entity\" style=\"background: #EBEB1D; padding: 0.45em 0.6em; margin: 0 0.25em; line-height: 1; border-radius: 0.35em;\">\n",
       "    extension headers result in a significant improvement in router performance for packets containing options\n",
       "    <span style=\"font-size: 0.8em; font-weight: bold; line-height: 1; border-radius: 0.35em; vertical-align: middle; margin-left: 0.5rem\">0.9</span>\n",
       "</mark>\n",
       ". \n",
       "<mark class=\"entity\" style=\"background: #E8E834; padding: 0.45em 0.6em; margin: 0 0.25em; line-height: 1; border-radius: 0.35em;\">\n",
       "    In contrast to IPv4\n",
       "    <span style=\"font-size: 0.8em; font-weight: bold; line-height: 1; border-radius: 0.35em; vertical-align: middle; margin-left: 0.5rem\">0.8</span>\n",
       "</mark>\n",
       ", \n",
       "<mark class=\"entity\" style=\"background: #EBEB1D; padding: 0.45em 0.6em; margin: 0 0.25em; line-height: 1; border-radius: 0.35em;\">\n",
       "    the extension headers are only examined by a router when a packet arrives at its final destination and not along their delivery path\n",
       "    <span style=\"font-size: 0.8em; font-weight: bold; line-height: 1; border-radius: 0.35em; vertical-align: middle; margin-left: 0.5rem\">0.9</span>\n",
       "</mark>\n",
       ".</div></span>"
      ],
      "text/plain": [
       "<IPython.core.display.HTML object>"
      ]
     },
     "metadata": {},
     "output_type": "display_data"
    },
    {
     "data": {
      "text/html": [
       "<span class=\"tex2jax_ignore\"><div class=\"entities\" style=\"line-height: 2.5; direction: ltr\">\n",
       "<mark class=\"entity\" style=\"background: #F5F503; padding: 0.45em 0.6em; margin: 0 0.25em; line-height: 1; border-radius: 0.35em;\">\n",
       "    Ich gebe mich zu erkennen und zeige das Schreiben vor\n",
       "    <span style=\"font-size: 0.8em; font-weight: bold; line-height: 1; border-radius: 0.35em; vertical-align: middle; margin-left: 0.5rem\">1.0</span>\n",
       "</mark>\n",
       ". \n",
       "<mark class=\"entity\" style=\"background: #F5F503; padding: 0.45em 0.6em; margin: 0 0.25em; line-height: 1; border-radius: 0.35em;\">\n",
       "    Dann führe ich den Job mit Zustimmung weiter aus\n",
       "    <span style=\"font-size: 0.8em; font-weight: bold; line-height: 1; border-radius: 0.35em; vertical-align: middle; margin-left: 0.5rem\">1.0</span>\n",
       "</mark>\n",
       ". \n",
       "<mark class=\"entity\" style=\"background: #F5F503; padding: 0.45em 0.6em; margin: 0 0.25em; line-height: 1; border-radius: 0.35em;\">\n",
       "    Zudem vermerke ich das bei der Jobausführung\n",
       "    <span style=\"font-size: 0.8em; font-weight: bold; line-height: 1; border-radius: 0.35em; vertical-align: middle; margin-left: 0.5rem\">1.0</span>\n",
       "</mark>\n",
       ".</div></span>"
      ],
      "text/plain": [
       "<IPython.core.display.HTML object>"
      ]
     },
     "metadata": {},
     "output_type": "display_data"
    },
    {
     "data": {
      "text/html": [
       "<span class=\"tex2jax_ignore\"><div class=\"entities\" style=\"line-height: 2.5; direction: ltr\">\n",
       "<mark class=\"entity\" style=\"background: #F5F503; padding: 0.45em 0.6em; margin: 0 0.25em; line-height: 1; border-radius: 0.35em;\">\n",
       "    Piggybacking only makes sense if there is a full-duplex or semi-duplex connection between sender and receiver\n",
       "    <span style=\"font-size: 0.8em; font-weight: bold; line-height: 1; border-radius: 0.35em; vertical-align: middle; margin-left: 0.5rem\">1.0</span>\n",
       "</mark>\n",
       ". \n",
       "<mark class=\"entity\" style=\"background: #F5F503; padding: 0.45em 0.6em; margin: 0 0.25em; line-height: 1; border-radius: 0.35em;\">\n",
       "    Therefore\n",
       "    <span style=\"font-size: 0.8em; font-weight: bold; line-height: 1; border-radius: 0.35em; vertical-align: middle; margin-left: 0.5rem\">1.0</span>\n",
       "</mark>\n",
       ", \n",
       "<mark class=\"entity\" style=\"background: #F5F503; padding: 0.45em 0.6em; margin: 0 0.25em; line-height: 1; border-radius: 0.35em;\">\n",
       "    the ACK for a data frame from a sender is sent in one frame with the next data frame issued by the receiver\n",
       "    <span style=\"font-size: 0.8em; font-weight: bold; line-height: 1; border-radius: 0.35em; vertical-align: middle; margin-left: 0.5rem\">1.0</span>\n",
       "</mark>\n",
       ". \n",
       "<mark class=\"entity\" style=\"background: #F5F503; padding: 0.45em 0.6em; margin: 0 0.25em; line-height: 1; border-radius: 0.35em;\">\n",
       "    Thus\n",
       "    <span style=\"font-size: 0.8em; font-weight: bold; line-height: 1; border-radius: 0.35em; vertical-align: middle; margin-left: 0.5rem\">1.0</span>\n",
       "</mark>\n",
       ", \n",
       "<mark class=\"entity\" style=\"background: #F5F503; padding: 0.45em 0.6em; margin: 0 0.25em; line-height: 1; border-radius: 0.35em;\">\n",
       "    the requirement for piggybacking is a duplex connection (and the need of sending an ACK)\n",
       "    <span style=\"font-size: 0.8em; font-weight: bold; line-height: 1; border-radius: 0.35em; vertical-align: middle; margin-left: 0.5rem\">1.0</span>\n",
       "</mark>\n",
       ".</div></span>"
      ],
      "text/plain": [
       "<IPython.core.display.HTML object>"
      ]
     },
     "metadata": {},
     "output_type": "display_data"
    },
    {
     "data": {
      "text/html": [
       "<span class=\"tex2jax_ignore\"><div class=\"entities\" style=\"line-height: 2.5; direction: ltr\">\n",
       "<mark class=\"entity\" style=\"background: #F5F503; padding: 0.45em 0.6em; margin: 0 0.25em; line-height: 1; border-radius: 0.35em;\">\n",
       "    The first phase\n",
       "    <span style=\"font-size: 0.8em; font-weight: bold; line-height: 1; border-radius: 0.35em; vertical-align: middle; margin-left: 0.5rem\">1.0</span>\n",
       "</mark>\n",
       ", \n",
       "<mark class=\"entity\" style=\"background: #F5F503; padding: 0.45em 0.6em; margin: 0 0.25em; line-height: 1; border-radius: 0.35em;\">\n",
       "    slow start\n",
       "    <span style=\"font-size: 0.8em; font-weight: bold; line-height: 1; border-radius: 0.35em; vertical-align: middle; margin-left: 0.5rem\">1.0</span>\n",
       "</mark>\n",
       ", \n",
       "<mark class=\"entity\" style=\"background: #F5F503; padding: 0.45em 0.6em; margin: 0 0.25em; line-height: 1; border-radius: 0.35em;\">\n",
       "    will double cwnd every round-trip time by increasing it by 1 for each received ACK\n",
       "    <span style=\"font-size: 0.8em; font-weight: bold; line-height: 1; border-radius: 0.35em; vertical-align: middle; margin-left: 0.5rem\">1.0</span>\n",
       "</mark>\n",
       ". \n",
       "<mark class=\"entity\" style=\"background: #F5F503; padding: 0.45em 0.6em; margin: 0 0.25em; line-height: 1; border-radius: 0.35em;\">\n",
       "    When cwnd reaches ss_thresh\n",
       "    <span style=\"font-size: 0.8em; font-weight: bold; line-height: 1; border-radius: 0.35em; vertical-align: middle; margin-left: 0.5rem\">1.0</span>\n",
       "</mark>\n",
       ", \n",
       "<mark class=\"entity\" style=\"background: #F5F503; padding: 0.45em 0.6em; margin: 0 0.25em; line-height: 1; border-radius: 0.35em;\">\n",
       "    the congestion avoidance phase is entered\n",
       "    <span style=\"font-size: 0.8em; font-weight: bold; line-height: 1; border-radius: 0.35em; vertical-align: middle; margin-left: 0.5rem\">1.0</span>\n",
       "</mark>\n",
       ". \n",
       "<mark class=\"entity\" style=\"background: #F5F503; padding: 0.45em 0.6em; margin: 0 0.25em; line-height: 1; border-radius: 0.35em;\">\n",
       "    The congestion avoidance phase will additively increase cwnd by 1 every round-trip time\n",
       "    <span style=\"font-size: 0.8em; font-weight: bold; line-height: 1; border-radius: 0.35em; vertical-align: middle; margin-left: 0.5rem\">1.0</span>\n",
       "</mark>\n",
       ". \n",
       "<mark class=\"entity\" style=\"background: #F5F503; padding: 0.45em 0.6em; margin: 0 0.25em; line-height: 1; border-radius: 0.35em;\">\n",
       "    If congestion is encountered in any of the phases\n",
       "    <span style=\"font-size: 0.8em; font-weight: bold; line-height: 1; border-radius: 0.35em; vertical-align: middle; margin-left: 0.5rem\">1.0</span>\n",
       "</mark>\n",
       ", \n",
       "<mark class=\"entity\" style=\"background: #F5F503; padding: 0.45em 0.6em; margin: 0 0.25em; line-height: 1; border-radius: 0.35em;\">\n",
       "    ss_thresh is set to half the value of cwnd\n",
       "    <span style=\"font-size: 0.8em; font-weight: bold; line-height: 1; border-radius: 0.35em; vertical-align: middle; margin-left: 0.5rem\">1.0</span>\n",
       "</mark>\n",
       ", \n",
       "<mark class=\"entity\" style=\"background: #F5F503; padding: 0.45em 0.6em; margin: 0 0.25em; line-height: 1; border-radius: 0.35em;\">\n",
       "    cwnd is set to 1 and the slow start phase is entered\n",
       "    <span style=\"font-size: 0.8em; font-weight: bold; line-height: 1; border-radius: 0.35em; vertical-align: middle; margin-left: 0.5rem\">1.0</span>\n",
       "</mark>\n",
       ".</div></span>"
      ],
      "text/plain": [
       "<IPython.core.display.HTML object>"
      ]
     },
     "metadata": {},
     "output_type": "display_data"
    },
    {
     "data": {
      "text/html": [
       "<span class=\"tex2jax_ignore\"><div class=\"entities\" style=\"line-height: 2.5; direction: ltr\">\n",
       "<mark class=\"entity\" style=\"background: #F5F503; padding: 0.45em 0.6em; margin: 0 0.25em; line-height: 1; border-radius: 0.35em;\">\n",
       "    A duplex operation mode is required\n",
       "    <span style=\"font-size: 0.8em; font-weight: bold; line-height: 1; border-radius: 0.35em; vertical-align: middle; margin-left: 0.5rem\">1.0</span>\n",
       "</mark>\n",
       ", \n",
       "<mark class=\"entity\" style=\"background: #F5F503; padding: 0.45em 0.6em; margin: 0 0.25em; line-height: 1; border-radius: 0.35em;\">\n",
       "    so that both communication partners can send data frames with piggybacked acknowledgments\n",
       "    <span style=\"font-size: 0.8em; font-weight: bold; line-height: 1; border-radius: 0.35em; vertical-align: middle; margin-left: 0.5rem\">1.0</span>\n",
       "</mark>\n",
       ". \n",
       "<mark class=\"entity\" style=\"background: #F5F503; padding: 0.45em 0.6em; margin: 0 0.25em; line-height: 1; border-radius: 0.35em;\">\n",
       "    (Efficient if window size greater than 1 only\n",
       "    <span style=\"font-size: 0.8em; font-weight: bold; line-height: 1; border-radius: 0.35em; vertical-align: middle; margin-left: 0.5rem\">1.0</span>\n",
       "</mark>\n",
       ".\n",
       "<mark class=\"entity\" style=\"background: #F5F503; padding: 0.45em 0.6em; margin: 0 0.25em; line-height: 1; border-radius: 0.35em;\">\n",
       "    )\n",
       "    <span style=\"font-size: 0.8em; font-weight: bold; line-height: 1; border-radius: 0.35em; vertical-align: middle; margin-left: 0.5rem\">1.0</span>\n",
       "</mark>\n",
       "</div></span>"
      ],
      "text/plain": [
       "<IPython.core.display.HTML object>"
      ]
     },
     "metadata": {},
     "output_type": "display_data"
    },
    {
     "data": {
      "text/html": [
       "<span class=\"tex2jax_ignore\"><div class=\"entities\" style=\"line-height: 2.5; direction: ltr\">\n",
       "<mark class=\"entity\" style=\"background: #F5F503; padding: 0.45em 0.6em; margin: 0 0.25em; line-height: 1; border-radius: 0.35em;\">\n",
       "    Ich gebe mich zu erkennen und lege dem Mitarbeiter das Informationsschreiben vor\n",
       "    <span style=\"font-size: 0.8em; font-weight: bold; line-height: 1; border-radius: 0.35em; vertical-align: middle; margin-left: 0.5rem\">1.0</span>\n",
       "</mark>\n",
       ", \n",
       "<mark class=\"entity\" style=\"background: #F5F503; padding: 0.45em 0.6em; margin: 0 0.25em; line-height: 1; border-radius: 0.35em;\">\n",
       "    welches ich von Ihnen erhalten habe\n",
       "    <span style=\"font-size: 0.8em; font-weight: bold; line-height: 1; border-radius: 0.35em; vertical-align: middle; margin-left: 0.5rem\">1.0</span>\n",
       "</mark>\n",
       ".</div></span>"
      ],
      "text/plain": [
       "<IPython.core.display.HTML object>"
      ]
     },
     "metadata": {},
     "output_type": "display_data"
    },
    {
     "data": {
      "text/html": [
       "<span class=\"tex2jax_ignore\"><div class=\"entities\" style=\"line-height: 2.5; direction: ltr\">\n",
       "<mark class=\"entity\" style=\"background: #F5F503; padding: 0.45em 0.6em; margin: 0 0.25em; line-height: 1; border-radius: 0.35em;\">\n",
       "    Reverse Path Forwarding: Used for ensuring loop-free forwarding of multicast packets in multicast routing and to help prevent IP address spoofing in unicast routing\n",
       "    <span style=\"font-size: 0.8em; font-weight: bold; line-height: 1; border-radius: 0.35em; vertical-align: middle; margin-left: 0.5rem\">1.0</span>\n",
       "</mark>\n",
       ".  \n",
       "<mark class=\"entity\" style=\"background: #F5F503; padding: 0.45em 0.6em; margin: 0 0.25em; line-height: 1; border-radius: 0.35em;\">\n",
       "    Checks if the packet arrived at the IS entry port over which the packets for this station/source are usually sent\n",
       "    <span style=\"font-size: 0.8em; font-weight: bold; line-height: 1; border-radius: 0.35em; vertical-align: middle; margin-left: 0.5rem\">1.0</span>\n",
       "</mark>\n",
       ". \n",
       "<mark class=\"entity\" style=\"background: #F5F503; padding: 0.45em 0.6em; margin: 0 0.25em; line-height: 1; border-radius: 0.35em;\">\n",
       "    If packet is assumed taking the best route: resend over all edges (not including the incoming one)\n",
       "    <span style=\"font-size: 0.8em; font-weight: bold; line-height: 1; border-radius: 0.35em; vertical-align: middle; margin-left: 0.5rem\">1.0</span>\n",
       "</mark>\n",
       ". \n",
       "<mark class=\"entity\" style=\"background: #F5F503; padding: 0.45em 0.6em; margin: 0 0.25em; line-height: 1; border-radius: 0.35em;\">\n",
       "    If packet is assumed not taking the best route: discard packet\n",
       "    <span style=\"font-size: 0.8em; font-weight: bold; line-height: 1; border-radius: 0.35em; vertical-align: middle; margin-left: 0.5rem\">1.0</span>\n",
       "</mark>\n",
       ".  \n",
       "<mark class=\"entity\" style=\"background: #F5F503; padding: 0.45em 0.6em; margin: 0 0.25em; line-height: 1; border-radius: 0.35em;\">\n",
       "    Reverse Path Broadcast: Used to check if the set of shortest paths to a node forms a tree that spans the network\n",
       "    <span style=\"font-size: 0.8em; font-weight: bold; line-height: 1; border-radius: 0.35em; vertical-align: middle; margin-left: 0.5rem\">1.0</span>\n",
       "</mark>\n",
       ".  \n",
       "<mark class=\"entity\" style=\"background: #F5F503; padding: 0.45em 0.6em; margin: 0 0.25em; line-height: 1; border-radius: 0.35em;\">\n",
       "    If the packet arrives at the IS entry over which the packets for this station/source are usually sent: Checks if Packet used the BEST route until now: if yes\n",
       "    <span style=\"font-size: 0.8em; font-weight: bold; line-height: 1; border-radius: 0.35em; vertical-align: middle; margin-left: 0.5rem\">1.0</span>\n",
       "</mark>\n",
       ", \n",
       "<mark class=\"entity\" style=\"background: #F5F503; padding: 0.45em 0.6em; margin: 0 0.25em; line-height: 1; border-radius: 0.35em;\">\n",
       "    select the edge at which the packets arrived and from which they are then rerouted to source\n",
       "    <span style=\"font-size: 0.8em; font-weight: bold; line-height: 1; border-radius: 0.35em; vertical-align: middle; margin-left: 0.5rem\">1.0</span>\n",
       "</mark>\n",
       ". \n",
       "<mark class=\"entity\" style=\"background: #F5F503; padding: 0.45em 0.6em; margin: 0 0.25em; line-height: 1; border-radius: 0.35em;\">\n",
       "    If no\n",
       "    <span style=\"font-size: 0.8em; font-weight: bold; line-height: 1; border-radius: 0.35em; vertical-align: middle; margin-left: 0.5rem\">1.0</span>\n",
       "</mark>\n",
       ", \n",
       "<mark class=\"entity\" style=\"background: #F5F503; padding: 0.45em 0.6em; margin: 0 0.25em; line-height: 1; border-radius: 0.35em;\">\n",
       "    do not send over all edges (without the incoming one)\n",
       "    <span style=\"font-size: 0.8em; font-weight: bold; line-height: 1; border-radius: 0.35em; vertical-align: middle; margin-left: 0.5rem\">1.0</span>\n",
       "</mark>\n",
       ". \n",
       "<mark class=\"entity\" style=\"background: #F5F503; padding: 0.45em 0.6em; margin: 0 0.25em; line-height: 1; border-radius: 0.35em;\">\n",
       "    If the packet is not for this station/source: discard packet\n",
       "    <span style=\"font-size: 0.8em; font-weight: bold; line-height: 1; border-radius: 0.35em; vertical-align: middle; margin-left: 0.5rem\">1.0</span>\n",
       "</mark>\n",
       ".</div></span>"
      ],
      "text/plain": [
       "<IPython.core.display.HTML object>"
      ]
     },
     "metadata": {},
     "output_type": "display_data"
    },
    {
     "data": {
      "text/html": [
       "<span class=\"tex2jax_ignore\"><div class=\"entities\" style=\"line-height: 2.5; direction: ltr\">\n",
       "<mark class=\"entity\" style=\"background: #F5F503; padding: 0.45em 0.6em; margin: 0 0.25em; line-height: 1; border-radius: 0.35em;\">\n",
       "    Ob der Gesamteindruck gepflegt und einen sicheren Eindruck machte\n",
       "    <span style=\"font-size: 0.8em; font-weight: bold; line-height: 1; border-radius: 0.35em; vertical-align: middle; margin-left: 0.5rem\">1.0</span>\n",
       "</mark>\n",
       ".</div></span>"
      ],
      "text/plain": [
       "<IPython.core.display.HTML object>"
      ]
     },
     "metadata": {},
     "output_type": "display_data"
    },
    {
     "data": {
      "text/html": [
       "<span class=\"tex2jax_ignore\"><div class=\"entities\" style=\"line-height: 2.5; direction: ltr\">\n",
       "<mark class=\"entity\" style=\"background: #F5F503; padding: 0.45em 0.6em; margin: 0 0.25em; line-height: 1; border-radius: 0.35em;\">\n",
       "    Zu achten ist über die Art der Ansprache und Verabschiedung\n",
       "    <span style=\"font-size: 0.8em; font-weight: bold; line-height: 1; border-radius: 0.35em; vertical-align: middle; margin-left: 0.5rem\">1.0</span>\n",
       "</mark>\n",
       ". \n",
       "<mark class=\"entity\" style=\"background: #F5F503; padding: 0.45em 0.6em; margin: 0 0.25em; line-height: 1; border-radius: 0.35em;\">\n",
       "    Erfolgte diese ggf. mit persönlichen Worten\n",
       "    <span style=\"font-size: 0.8em; font-weight: bold; line-height: 1; border-radius: 0.35em; vertical-align: middle; margin-left: 0.5rem\">1.0</span>\n",
       "</mark>\n",
       ". \n",
       "<mark class=\"entity\" style=\"background: #F5F503; padding: 0.45em 0.6em; margin: 0 0.25em; line-height: 1; border-radius: 0.35em;\">\n",
       "    Wurde ich freundlich bedient und wurden mir weitere Angebote unterbreitet\n",
       "    <span style=\"font-size: 0.8em; font-weight: bold; line-height: 1; border-radius: 0.35em; vertical-align: middle; margin-left: 0.5rem\">1.0</span>\n",
       "</mark>\n",
       ".</div></span>"
      ],
      "text/plain": [
       "<IPython.core.display.HTML object>"
      ]
     },
     "metadata": {},
     "output_type": "display_data"
    },
    {
     "data": {
      "text/html": [
       "<span class=\"tex2jax_ignore\"><div class=\"entities\" style=\"line-height: 2.5; direction: ltr\">\n",
       "<mark class=\"entity\" style=\"background: #F5F503; padding: 0.45em 0.6em; margin: 0 0.25em; line-height: 1; border-radius: 0.35em;\">\n",
       "    Network Topology and Access Points- Network topology and Access Points changes faster when the devices are moving around which is not the case in fixed network\n",
       "    <span style=\"font-size: 0.8em; font-weight: bold; line-height: 1; border-radius: 0.35em; vertical-align: middle; margin-left: 0.5rem\">1.0</span>\n",
       "</mark>\n",
       ". \n",
       "<mark class=\"entity\" style=\"background: #F5F503; padding: 0.45em 0.6em; margin: 0 0.25em; line-height: 1; border-radius: 0.35em;\">\n",
       "    Security - As the network could be available even inside and outside the building\n",
       "    <span style=\"font-size: 0.8em; font-weight: bold; line-height: 1; border-radius: 0.35em; vertical-align: middle; margin-left: 0.5rem\">1.0</span>\n",
       "</mark>\n",
       ", \n",
       "<mark class=\"entity\" style=\"background: #F5F503; padding: 0.45em 0.6em; margin: 0 0.25em; line-height: 1; border-radius: 0.35em;\">\n",
       "    it possesses a threat to security\n",
       "    <span style=\"font-size: 0.8em; font-weight: bold; line-height: 1; border-radius: 0.35em; vertical-align: middle; margin-left: 0.5rem\">1.0</span>\n",
       "</mark>\n",
       ". \n",
       "<mark class=\"entity\" style=\"background: #F5F503; padding: 0.45em 0.6em; margin: 0 0.25em; line-height: 1; border-radius: 0.35em;\">\n",
       "    User Mobility: The users can be moving from one network to another and want to communicate anytime with anyone without losing the network\n",
       "    <span style=\"font-size: 0.8em; font-weight: bold; line-height: 1; border-radius: 0.35em; vertical-align: middle; margin-left: 0.5rem\">1.0</span>\n",
       "</mark>\n",
       ".  \n",
       "<mark class=\"entity\" style=\"background: #F5F503; padding: 0.45em 0.6em; margin: 0 0.25em; line-height: 1; border-radius: 0.35em;\">\n",
       "    Device Portability: The device can change in a period of time but having the portability with the other device to connect anytime and anywhere to the network\n",
       "    <span style=\"font-size: 0.8em; font-weight: bold; line-height: 1; border-radius: 0.35em; vertical-align: middle; margin-left: 0.5rem\">1.0</span>\n",
       "</mark>\n",
       ".</div></span>"
      ],
      "text/plain": [
       "<IPython.core.display.HTML object>"
      ]
     },
     "metadata": {},
     "output_type": "display_data"
    },
    {
     "name": "stdout",
     "output_type": "stream",
     "text": [
      "--------------------------------------------------------------------------------------------------------------------------------------------------------------------------------------------------------\n",
      "train_labeled_data_average_nonzero.spacy\n"
     ]
    },
    {
     "data": {
      "text/html": [
       "<span class=\"tex2jax_ignore\"><div class=\"entities\" style=\"line-height: 2.5; direction: ltr\">The functionality of options in IPv4 headers is removed and replaced from the main header through a set of so-called extension headers. They are additional headers in the IPv6 which are used for implementing more extensions. \n",
       "<mark class=\"entity\" style=\"background: #F7F766; padding: 0.45em 0.6em; margin: 0 0.25em; line-height: 1; border-radius: 0.35em;\">\n",
       "    The main header has a fixed size of 40 bytes;\n",
       "    <span style=\"font-size: 0.8em; font-weight: bold; line-height: 1; border-radius: 0.35em; vertical-align: middle; margin-left: 0.5rem\">0.6</span>\n",
       "</mark>\n",
       " the extensions headers, on the other hand, are optional and are added as needed. That means you can add extensions without planning it. There are several extension headers\n",
       "<mark class=\"entity\" style=\"background: #FDFD84; padding: 0.45em 0.6em; margin: 0 0.25em; line-height: 1; border-radius: 0.35em;\">\n",
       "    : Routing\n",
       "    <span style=\"font-size: 0.8em; font-weight: bold; line-height: 1; border-radius: 0.35em; vertical-align: middle; margin-left: 0.5rem\">0.5</span>\n",
       "</mark>\n",
       ", Fragment, Destination, etc. \n",
       "<mark class=\"entity\" style=\"background: #F5F503; padding: 0.45em 0.6em; margin: 0 0.25em; line-height: 1; border-radius: 0.35em;\">\n",
       "      \n",
       "    <span style=\"font-size: 0.8em; font-weight: bold; line-height: 1; border-radius: 0.35em; vertical-align: middle; margin-left: 0.5rem\">1.0</span>\n",
       "</mark>\n",
       "The extension headers are placed between the fixed header and the payload. Every extension header points to the next header. There is also the possibility to refer to a &quot;No Next Header&quot; which is only to show that nothing else follows. It creates a chain, at the end of which is usually the TCP or UDP header. \n",
       "<mark class=\"entity\" style=\"background: #FDFD84; padding: 0.45em 0.6em; margin: 0 0.25em; line-height: 1; border-radius: 0.35em;\">\n",
       "      \n",
       "    <span style=\"font-size: 0.8em; font-weight: bold; line-height: 1; border-radius: 0.35em; vertical-align: middle; margin-left: 0.5rem\">0.5</span>\n",
       "</mark>\n",
       "Extension headers are a way to extend the header and put additional information between the payload and the header. They are optional, and that's why we have an absolute efficiency gain comparing to IPv4. Because in IPv4, we had at least one part for the option reserved, but in IPv6, we can say there are no extension headers, and so we have a smaller header and, therefore, much more space for the payload. Also, extension headers result in a significant improvement in router performance for packets containing options. In contrast to IPv4, the extension headers are only examined by a router when a packet arrives at its final destination and not along their delivery path.</div></span>"
      ],
      "text/plain": [
       "<IPython.core.display.HTML object>"
      ]
     },
     "metadata": {},
     "output_type": "display_data"
    },
    {
     "data": {
      "text/html": [
       "<span class=\"tex2jax_ignore\"><div class=\"entities\" style=\"line-height: 2.5; direction: ltr\">Ich \n",
       "<mark class=\"entity\" style=\"background: #ECEC44; padding: 0.45em 0.6em; margin: 0 0.25em; line-height: 1; border-radius: 0.35em;\">\n",
       "    gebe mich zu erkennen und\n",
       "    <span style=\"font-size: 0.8em; font-weight: bold; line-height: 1; border-radius: 0.35em; vertical-align: middle; margin-left: 0.5rem\">0.7</span>\n",
       "</mark>\n",
       " zeige das Schreiben vor. Dann \n",
       "<mark class=\"entity\" style=\"background: #ECEC44; padding: 0.45em 0.6em; margin: 0 0.25em; line-height: 1; border-radius: 0.35em;\">\n",
       "    führe ich\n",
       "    <span style=\"font-size: 0.8em; font-weight: bold; line-height: 1; border-radius: 0.35em; vertical-align: middle; margin-left: 0.5rem\">0.7</span>\n",
       "</mark>\n",
       " den \n",
       "<mark class=\"entity\" style=\"background: #ECEC44; padding: 0.45em 0.6em; margin: 0 0.25em; line-height: 1; border-radius: 0.35em;\">\n",
       "    Job mit Zustimmung weiter aus. Zudem vermerke ich das bei der Jobausführung\n",
       "    <span style=\"font-size: 0.8em; font-weight: bold; line-height: 1; border-radius: 0.35em; vertical-align: middle; margin-left: 0.5rem\">0.7</span>\n",
       "</mark>\n",
       ".</div></span>"
      ],
      "text/plain": [
       "<IPython.core.display.HTML object>"
      ]
     },
     "metadata": {},
     "output_type": "display_data"
    },
    {
     "data": {
      "text/html": [
       "<span class=\"tex2jax_ignore\"><div class=\"entities\" style=\"line-height: 2.5; direction: ltr\">Piggybacking only makes sense if there is a full-duplex or semi-\n",
       "<mark class=\"entity\" style=\"background: #E8E834; padding: 0.45em 0.6em; margin: 0 0.25em; line-height: 1; border-radius: 0.35em;\">\n",
       "    duplex connection between\n",
       "    <span style=\"font-size: 0.8em; font-weight: bold; line-height: 1; border-radius: 0.35em; vertical-align: middle; margin-left: 0.5rem\">0.8</span>\n",
       "</mark>\n",
       " sender and receiver. \n",
       "<mark class=\"entity\" style=\"background: #F7F766; padding: 0.45em 0.6em; margin: 0 0.25em; line-height: 1; border-radius: 0.35em;\">\n",
       "    Therefore,\n",
       "    <span style=\"font-size: 0.8em; font-weight: bold; line-height: 1; border-radius: 0.35em; vertical-align: middle; margin-left: 0.5rem\">0.6</span>\n",
       "</mark>\n",
       " the ACK for a \n",
       "<mark class=\"entity\" style=\"background: #F7F766; padding: 0.45em 0.6em; margin: 0 0.25em; line-height: 1; border-radius: 0.35em;\">\n",
       "    data frame from a sender is sent in\n",
       "    <span style=\"font-size: 0.8em; font-weight: bold; line-height: 1; border-radius: 0.35em; vertical-align: middle; margin-left: 0.5rem\">0.6</span>\n",
       "</mark>\n",
       " one frame with the \n",
       "<mark class=\"entity\" style=\"background: #ECEC44; padding: 0.45em 0.6em; margin: 0 0.25em; line-height: 1; border-radius: 0.35em;\">\n",
       "    next data frame issued by\n",
       "    <span style=\"font-size: 0.8em; font-weight: bold; line-height: 1; border-radius: 0.35em; vertical-align: middle; margin-left: 0.5rem\">0.7</span>\n",
       "</mark>\n",
       " the receiver. \n",
       "<mark class=\"entity\" style=\"background: #F7F766; padding: 0.45em 0.6em; margin: 0 0.25em; line-height: 1; border-radius: 0.35em;\">\n",
       "    Thus,\n",
       "    <span style=\"font-size: 0.8em; font-weight: bold; line-height: 1; border-radius: 0.35em; vertical-align: middle; margin-left: 0.5rem\">0.6</span>\n",
       "</mark>\n",
       " the requirement for piggybacking is a \n",
       "<mark class=\"entity\" style=\"background: #EBEB1D; padding: 0.45em 0.6em; margin: 0 0.25em; line-height: 1; border-radius: 0.35em;\">\n",
       "    duplex connection (\n",
       "    <span style=\"font-size: 0.8em; font-weight: bold; line-height: 1; border-radius: 0.35em; vertical-align: middle; margin-left: 0.5rem\">0.9</span>\n",
       "</mark>\n",
       "and the need of sending an ACK).</div></span>"
      ],
      "text/plain": [
       "<IPython.core.display.HTML object>"
      ]
     },
     "metadata": {},
     "output_type": "display_data"
    },
    {
     "data": {
      "text/html": [
       "<span class=\"tex2jax_ignore\"><div class=\"entities\" style=\"line-height: 2.5; direction: ltr\">The first phase, slow start, will double cwnd every round-trip time by increasing it by 1 for each received ACK. When cwnd \n",
       "<mark class=\"entity\" style=\"background: #ECEC44; padding: 0.45em 0.6em; margin: 0 0.25em; line-height: 1; border-radius: 0.35em;\">\n",
       "    reaches ss_thresh\n",
       "    <span style=\"font-size: 0.8em; font-weight: bold; line-height: 1; border-radius: 0.35em; vertical-align: middle; margin-left: 0.5rem\">0.7</span>\n",
       "</mark>\n",
       ", \n",
       "<mark class=\"entity\" style=\"background: #E8E834; padding: 0.45em 0.6em; margin: 0 0.25em; line-height: 1; border-radius: 0.35em;\">\n",
       "    the congestion avoidance phase is entered. The congestion avoidance phase will additively increase cwnd by 1 every round-trip time. If congestion is encountered in any\n",
       "    <span style=\"font-size: 0.8em; font-weight: bold; line-height: 1; border-radius: 0.35em; vertical-align: middle; margin-left: 0.5rem\">0.8</span>\n",
       "</mark>\n",
       " of the phases, ss_thresh is set to half the value of cwnd, cwnd is set to 1 and the slow start phase is entered.</div></span>"
      ],
      "text/plain": [
       "<IPython.core.display.HTML object>"
      ]
     },
     "metadata": {},
     "output_type": "display_data"
    },
    {
     "data": {
      "text/html": [
       "<span class=\"tex2jax_ignore\"><div class=\"entities\" style=\"line-height: 2.5; direction: ltr\">A \n",
       "<mark class=\"entity\" style=\"background: #ECEC44; padding: 0.45em 0.6em; margin: 0 0.25em; line-height: 1; border-radius: 0.35em;\">\n",
       "    duplex operation mode\n",
       "    <span style=\"font-size: 0.8em; font-weight: bold; line-height: 1; border-radius: 0.35em; vertical-align: middle; margin-left: 0.5rem\">0.7</span>\n",
       "</mark>\n",
       " is required, so that both communication partners can send data frames with piggybacked acknowledgments. \n",
       "<mark class=\"entity\" style=\"background: #EBEB1D; padding: 0.45em 0.6em; margin: 0 0.25em; line-height: 1; border-radius: 0.35em;\">\n",
       "    (Efficient if window size greater than 1 only.)\n",
       "    <span style=\"font-size: 0.8em; font-weight: bold; line-height: 1; border-radius: 0.35em; vertical-align: middle; margin-left: 0.5rem\">0.9</span>\n",
       "</mark>\n",
       "</div></span>"
      ],
      "text/plain": [
       "<IPython.core.display.HTML object>"
      ]
     },
     "metadata": {},
     "output_type": "display_data"
    },
    {
     "data": {
      "text/html": [
       "<span class=\"tex2jax_ignore\"><div class=\"entities\" style=\"line-height: 2.5; direction: ltr\">Ich gebe mich \n",
       "<mark class=\"entity\" style=\"background: #E8E834; padding: 0.45em 0.6em; margin: 0 0.25em; line-height: 1; border-radius: 0.35em;\">\n",
       "    zu erkennen und lege dem Mitarbeiter\n",
       "    <span style=\"font-size: 0.8em; font-weight: bold; line-height: 1; border-radius: 0.35em; vertical-align: middle; margin-left: 0.5rem\">0.8</span>\n",
       "</mark>\n",
       " das Informationsschreiben vor, \n",
       "<mark class=\"entity\" style=\"background: #E8E834; padding: 0.45em 0.6em; margin: 0 0.25em; line-height: 1; border-radius: 0.35em;\">\n",
       "    welches ich von Ihnen erhalten habe.\n",
       "    <span style=\"font-size: 0.8em; font-weight: bold; line-height: 1; border-radius: 0.35em; vertical-align: middle; margin-left: 0.5rem\">0.8</span>\n",
       "</mark>\n",
       "</div></span>"
      ],
      "text/plain": [
       "<IPython.core.display.HTML object>"
      ]
     },
     "metadata": {},
     "output_type": "display_data"
    },
    {
     "data": {
      "text/html": [
       "<span class=\"tex2jax_ignore\"><div class=\"entities\" style=\"line-height: 2.5; direction: ltr\">Reverse Path Forwarding: Used for ensuring loop-free forwarding of multicast packets in multicast routing and to help prevent IP address spoofing in unicast routing. \n",
       "<mark class=\"entity\" style=\"background: #ECEC44; padding: 0.45em 0.6em; margin: 0 0.25em; line-height: 1; border-radius: 0.35em;\">\n",
       "     \n",
       "    <span style=\"font-size: 0.8em; font-weight: bold; line-height: 1; border-radius: 0.35em; vertical-align: middle; margin-left: 0.5rem\">0.7</span>\n",
       "</mark>\n",
       "Checks if the packet arrived at the IS entry port over which the packets for this station/source are usually sent. If packet is assumed taking the best route: resend over all edges (not including the incoming one). \n",
       "<mark class=\"entity\" style=\"background: #ECEC44; padding: 0.45em 0.6em; margin: 0 0.25em; line-height: 1; border-radius: 0.35em;\">\n",
       "    If packet is assumed not taking the best route: discard packet.  \n",
       "    <span style=\"font-size: 0.8em; font-weight: bold; line-height: 1; border-radius: 0.35em; vertical-align: middle; margin-left: 0.5rem\">0.7</span>\n",
       "</mark>\n",
       "Reverse Path Broadcast: Used to check if the set of shortest paths to a node forms a tree that spans the network. \n",
       "<mark class=\"entity\" style=\"background: #E8E834; padding: 0.45em 0.6em; margin: 0 0.25em; line-height: 1; border-radius: 0.35em;\">\n",
       "     \n",
       "    <span style=\"font-size: 0.8em; font-weight: bold; line-height: 1; border-radius: 0.35em; vertical-align: middle; margin-left: 0.5rem\">0.8</span>\n",
       "</mark>\n",
       "If the packet arrives at the IS entry over which the packets for this station/source are usually sent: Checks if Packet used the BEST route until now: if yes, select the edge at which the packets arrived and from which they are then rerouted to source. If no, do not send over all edges (without the incoming one). If the packet is not for this station/source\n",
       "<mark class=\"entity\" style=\"background: #F7F766; padding: 0.45em 0.6em; margin: 0 0.25em; line-height: 1; border-radius: 0.35em;\">\n",
       "    : discard\n",
       "    <span style=\"font-size: 0.8em; font-weight: bold; line-height: 1; border-radius: 0.35em; vertical-align: middle; margin-left: 0.5rem\">0.6</span>\n",
       "</mark>\n",
       " packet.</div></span>"
      ],
      "text/plain": [
       "<IPython.core.display.HTML object>"
      ]
     },
     "metadata": {},
     "output_type": "display_data"
    },
    {
     "data": {
      "text/html": [
       "<span class=\"tex2jax_ignore\"><div class=\"entities\" style=\"line-height: 2.5; direction: ltr\">Ob der \n",
       "<mark class=\"entity\" style=\"background: #F5F503; padding: 0.45em 0.6em; margin: 0 0.25em; line-height: 1; border-radius: 0.35em;\">\n",
       "    Gesamteindruck gepflegt\n",
       "    <span style=\"font-size: 0.8em; font-weight: bold; line-height: 1; border-radius: 0.35em; vertical-align: middle; margin-left: 0.5rem\">1.0</span>\n",
       "</mark>\n",
       " und einen sicheren \n",
       "<mark class=\"entity\" style=\"background: #EBEB1D; padding: 0.45em 0.6em; margin: 0 0.25em; line-height: 1; border-radius: 0.35em;\">\n",
       "    Eindruck machte\n",
       "    <span style=\"font-size: 0.8em; font-weight: bold; line-height: 1; border-radius: 0.35em; vertical-align: middle; margin-left: 0.5rem\">0.9</span>\n",
       "</mark>\n",
       ".</div></span>"
      ],
      "text/plain": [
       "<IPython.core.display.HTML object>"
      ]
     },
     "metadata": {},
     "output_type": "display_data"
    },
    {
     "data": {
      "text/html": [
       "<span class=\"tex2jax_ignore\"><div class=\"entities\" style=\"line-height: 2.5; direction: ltr\">Zu achten ist über die Art der Ansprache und \n",
       "<mark class=\"entity\" style=\"background: #E8E834; padding: 0.45em 0.6em; margin: 0 0.25em; line-height: 1; border-radius: 0.35em;\">\n",
       "    Verabschiedung. Erfolgte diese ggf. mit persönlichen Worten. Wurde ich\n",
       "    <span style=\"font-size: 0.8em; font-weight: bold; line-height: 1; border-radius: 0.35em; vertical-align: middle; margin-left: 0.5rem\">0.8</span>\n",
       "</mark>\n",
       " freundlich bedient und wurden mir weitere \n",
       "<mark class=\"entity\" style=\"background: #E8E834; padding: 0.45em 0.6em; margin: 0 0.25em; line-height: 1; border-radius: 0.35em;\">\n",
       "    Angebote unterbreitet\n",
       "    <span style=\"font-size: 0.8em; font-weight: bold; line-height: 1; border-radius: 0.35em; vertical-align: middle; margin-left: 0.5rem\">0.8</span>\n",
       "</mark>\n",
       ".</div></span>"
      ],
      "text/plain": [
       "<IPython.core.display.HTML object>"
      ]
     },
     "metadata": {},
     "output_type": "display_data"
    },
    {
     "data": {
      "text/html": [
       "<span class=\"tex2jax_ignore\"><div class=\"entities\" style=\"line-height: 2.5; direction: ltr\">Network Topology and Access Points- Network \n",
       "<mark class=\"entity\" style=\"background: #F7F766; padding: 0.45em 0.6em; margin: 0 0.25em; line-height: 1; border-radius: 0.35em;\">\n",
       "    topology\n",
       "    <span style=\"font-size: 0.8em; font-weight: bold; line-height: 1; border-radius: 0.35em; vertical-align: middle; margin-left: 0.5rem\">0.6</span>\n",
       "</mark>\n",
       " and Access Points \n",
       "<mark class=\"entity\" style=\"background: #F7F766; padding: 0.45em 0.6em; margin: 0 0.25em; line-height: 1; border-radius: 0.35em;\">\n",
       "    changes\n",
       "    <span style=\"font-size: 0.8em; font-weight: bold; line-height: 1; border-radius: 0.35em; vertical-align: middle; margin-left: 0.5rem\">0.6</span>\n",
       "</mark>\n",
       " faster when the devices are moving around which is not the case in fixed network. \n",
       "<mark class=\"entity\" style=\"background: #E8E834; padding: 0.45em 0.6em; margin: 0 0.25em; line-height: 1; border-radius: 0.35em;\">\n",
       "    Security - As the network could\n",
       "    <span style=\"font-size: 0.8em; font-weight: bold; line-height: 1; border-radius: 0.35em; vertical-align: middle; margin-left: 0.5rem\">0.8</span>\n",
       "</mark>\n",
       " be \n",
       "<mark class=\"entity\" style=\"background: #ECEC44; padding: 0.45em 0.6em; margin: 0 0.25em; line-height: 1; border-radius: 0.35em;\">\n",
       "    available even inside and\n",
       "    <span style=\"font-size: 0.8em; font-weight: bold; line-height: 1; border-radius: 0.35em; vertical-align: middle; margin-left: 0.5rem\">0.7</span>\n",
       "</mark>\n",
       " outside the \n",
       "<mark class=\"entity\" style=\"background: #ECEC44; padding: 0.45em 0.6em; margin: 0 0.25em; line-height: 1; border-radius: 0.35em;\">\n",
       "    building, it possesses a threat to security. User Mobility:\n",
       "    <span style=\"font-size: 0.8em; font-weight: bold; line-height: 1; border-radius: 0.35em; vertical-align: middle; margin-left: 0.5rem\">0.7</span>\n",
       "</mark>\n",
       " The users can be moving from one network to another and want to communicate anytime with anyone without losing the network. \n",
       "<mark class=\"entity\" style=\"background: #FDFD84; padding: 0.45em 0.6em; margin: 0 0.25em; line-height: 1; border-radius: 0.35em;\">\n",
       "     \n",
       "    <span style=\"font-size: 0.8em; font-weight: bold; line-height: 1; border-radius: 0.35em; vertical-align: middle; margin-left: 0.5rem\">0.5</span>\n",
       "</mark>\n",
       "Device \n",
       "<mark class=\"entity\" style=\"background: #F7F766; padding: 0.45em 0.6em; margin: 0 0.25em; line-height: 1; border-radius: 0.35em;\">\n",
       "    Portability:\n",
       "    <span style=\"font-size: 0.8em; font-weight: bold; line-height: 1; border-radius: 0.35em; vertical-align: middle; margin-left: 0.5rem\">0.6</span>\n",
       "</mark>\n",
       " The device \n",
       "<mark class=\"entity\" style=\"background: #FDFD84; padding: 0.45em 0.6em; margin: 0 0.25em; line-height: 1; border-radius: 0.35em;\">\n",
       "    can\n",
       "    <span style=\"font-size: 0.8em; font-weight: bold; line-height: 1; border-radius: 0.35em; vertical-align: middle; margin-left: 0.5rem\">0.5</span>\n",
       "</mark>\n",
       " change in a period \n",
       "<mark class=\"entity\" style=\"background: #FDFD84; padding: 0.45em 0.6em; margin: 0 0.25em; line-height: 1; border-radius: 0.35em;\">\n",
       "    of time\n",
       "    <span style=\"font-size: 0.8em; font-weight: bold; line-height: 1; border-radius: 0.35em; vertical-align: middle; margin-left: 0.5rem\">0.5</span>\n",
       "</mark>\n",
       " but having the portability with the other \n",
       "<mark class=\"entity\" style=\"background: #FDFD84; padding: 0.45em 0.6em; margin: 0 0.25em; line-height: 1; border-radius: 0.35em;\">\n",
       "    device\n",
       "    <span style=\"font-size: 0.8em; font-weight: bold; line-height: 1; border-radius: 0.35em; vertical-align: middle; margin-left: 0.5rem\">0.5</span>\n",
       "</mark>\n",
       " to connect anytime and anywhere to the network.</div></span>"
      ],
      "text/plain": [
       "<IPython.core.display.HTML object>"
      ]
     },
     "metadata": {},
     "output_type": "display_data"
    },
    {
     "name": "stdout",
     "output_type": "stream",
     "text": [
      "--------------------------------------------------------------------------------------------------------------------------------------------------------------------------------------------------------\n"
     ]
    }
   ],
   "source": [
    "files = os.listdir('corpora')\n",
    "files = [file for file in files if file.endswith('.spacy') and file not in ['dev_corpus_IO.spacy', 'train_corpus_IO.spacy']]\n",
    "\n",
    "for file in files:\n",
    "    print(file)\n",
    "    data_path = 'corpora/' + file\n",
    "    doc = skweak.utils.docbin_reader(data_path, spacy_model_name='en_core_web_lg')\n",
    "    visualize_text(doc)\n",
    "    print('--'*100)"
   ]
  },
  {
   "cell_type": "code",
   "execution_count": null,
   "metadata": {
    "pycharm": {
     "name": "#%%\n"
    }
   },
   "outputs": [],
   "source": []
  }
 ],
 "metadata": {
  "kernelspec": {
   "display_name": "Python 3 (ipykernel)",
   "language": "python",
   "name": "python3"
  },
  "language_info": {
   "codemirror_mode": {
    "name": "ipython",
    "version": 3
   },
   "file_extension": ".py",
   "mimetype": "text/x-python",
   "name": "python",
   "nbconvert_exporter": "python",
   "pygments_lexer": "ipython3",
   "version": "3.7.16"
  }
 },
 "nbformat": 4,
 "nbformat_minor": 1
}