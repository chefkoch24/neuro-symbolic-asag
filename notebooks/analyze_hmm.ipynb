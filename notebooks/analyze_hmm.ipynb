{
 "cells": [
  {
   "cell_type": "code",
   "execution_count": 1,
   "metadata": {
    "pycharm": {
     "name": "#%%\n"
    }
   },
   "outputs": [],
   "source": [
    "import skweak.utils\n",
    "from spacy import displacy\n",
    "import os\n",
    "import myutils as utils\n",
    "import numpy as np"
   ]
  },
  {
   "cell_type": "code",
   "execution_count": 11,
   "metadata": {
    "pycharm": {
     "name": "#%%\n"
    }
   },
   "outputs": [],
   "source": [
    "data_path = 'corpora/train_corpus_IO.spacy'\n",
    "docs = skweak.utils.docbin_reader(data_path, spacy_model_name='en_core_web_lg')\n",
    "data = utils.load_json('data/training_ws_lfs.json')"
   ]
  },
  {
   "cell_type": "code",
   "execution_count": 12,
   "metadata": {
    "pycharm": {
     "name": "#%%\n"
    }
   },
   "outputs": [],
   "source": [
    "docs = list(docs)"
   ]
  },
  {
   "cell_type": "code",
   "execution_count": 13,
   "metadata": {
    "pycharm": {
     "name": "#%%\n"
    }
   },
   "outputs": [
    {
     "data": {
      "text/plain": "2407"
     },
     "execution_count": 13,
     "metadata": {},
     "output_type": "execute_result"
    }
   ],
   "source": [
    "len(docs)"
   ]
  },
  {
   "cell_type": "code",
   "execution_count": 23,
   "outputs": [
    {
     "data": {
      "text/plain": "[additional information between the payload and the header. They are optional, and that's why we have an absolute efficiency gain comparing to IPv4. Because in IPv4, we had at least one part for the option reserved, but in IPv6, we can say there are no extension headers, and so we have a smaller header and, therefore, much more space for the payload. Also, extension headers result in a significant improvement in router performance for packets containing options. In contrast to IPv4, : Routing, Fragment, Destination, etc.   The extension headers are placed between the fixed header and the payload. Every extension header points to the next header. There is also the possibility to refer to a \"No Next Header\" which is only to show that nothing else follows. It creates a chain, at the end of which is usually the TCP or UDP header.   Extension headers are a way to extend the header and put additional information between the payload and the header. They are optional, and that's why we have an absolute efficiency gain comparing to IPv4. Because in IPv4, we had at least one part for the option reserved, but in IPv6, we can say there are no extension headers, and so we have a smaller header and, therefore, much more space for the payload. Also, extension headers result in a significant improvement in router performance for packets containing options. In contrast to IPv4, the extension, without planning it. There are several extension headers: Routing, Fragment, Destination, etc.   The extension headers are placed between the fixed header and the payload. Every extension header points to the next header. There is also the possibility to refer to a \"No Next Header\" which is only to show that nothing else follows. It creates a chain, at the end of which is usually the TCP or UDP header.   Extension headers are a way to extend the header and put additional information between the payload and the header. They are optional, and that's why we have an absolute efficiency gain comparing to IPv4. Because in IPv4, we had at least one part for the option reserved, but in IPv6, we can say there are no extension headers, and so we have a smaller header and, therefore, much more space for the payload. Also, extension headers result in a significant improvement in router performance for packets containing options. In contrast to IPv4, the extension, main header has a fixed size of 40 bytes; the extensions headers, on the other hand, are optional and are added as needed. That means you can add extensions without planning it. There are several extension headers: Routing, Fragment, Destination, etc.   The extension headers are placed between the fixed header and the payload. Every extension header points to the next header. There is also the possibility to refer to a \"No Next Header\" which is only to show that nothing else follows. It creates a chain, at the end of which is usually the TCP or UDP header.   Extension headers are a way to extend the header and put additional information between the payload and the header. They are optional, and that's why we have an absolute efficiency gain comparing to IPv4. Because in IPv4, we had at least one part for the option reserved, but in IPv6, we can say there are no extension headers, and so we have a smaller header and, therefore, much more space for the payload. Also, extension headers result in a significant improvement in router performance for packets containing options. In contrast to IPv4, the extension headers are only examined by a router when, without planning it. There are several extension headers]"
     },
     "execution_count": 23,
     "metadata": {},
     "output_type": "execute_result"
    }
   ],
   "source": [
    "docs[0].spans['LF_stem_match']\n",
    "#skweak.utils.get_spans(docs[0], [\"hmm\"])"
   ],
   "metadata": {
    "collapsed": false,
    "pycharm": {
     "name": "#%%\n"
    }
   }
  },
  {
   "cell_type": "code",
   "execution_count": 38,
   "metadata": {
    "pycharm": {
     "name": "#%%\n"
    }
   },
   "outputs": [
    {
     "data": {
      "text/plain": "<IPython.core.display.HTML object>",
      "text/html": "<span class=\"tex2jax_ignore\"><div class=\"entities\" style=\"line-height: 2.5; direction: ltr\">\n<mark class=\"entity\" style=\"background: #ddd; padding: 0.45em 0.6em; margin: 0 0.25em; line-height: 1; border-radius: 0.35em;\">\n    The functionality of options in\n    <span style=\"font-size: 0.8em; font-weight: bold; line-height: 1; border-radius: 0.35em; vertical-align: middle; margin-left: 0.5rem\">CUE</span>\n</mark>\n IPv4 headers is removed and replaced from the main header through a set of so-called extension headers. They are additional headers in the IPv6 which are used for implementing more extensions. \n<mark class=\"entity\" style=\"background: #ddd; padding: 0.45em 0.6em; margin: 0 0.25em; line-height: 1; border-radius: 0.35em;\">\n    The main header has a fixed size of 40 bytes; the extensions headers\n    <span style=\"font-size: 0.8em; font-weight: bold; line-height: 1; border-radius: 0.35em; vertical-align: middle; margin-left: 0.5rem\">CUE</span>\n</mark>\n, on the other hand, \n<mark class=\"entity\" style=\"background: #ddd; padding: 0.45em 0.6em; margin: 0 0.25em; line-height: 1; border-radius: 0.35em;\">\n    are optional and are added as needed\n    <span style=\"font-size: 0.8em; font-weight: bold; line-height: 1; border-radius: 0.35em; vertical-align: middle; margin-left: 0.5rem\">CUE</span>\n</mark>\n. That means you can add extensions without planning it. \n<mark class=\"entity\" style=\"background: #ddd; padding: 0.45em 0.6em; margin: 0 0.25em; line-height: 1; border-radius: 0.35em;\">\n    There are several extension headers: Routing\n    <span style=\"font-size: 0.8em; font-weight: bold; line-height: 1; border-radius: 0.35em; vertical-align: middle; margin-left: 0.5rem\">CUE</span>\n</mark>\n, Fragment, Destination, etc.   \n<mark class=\"entity\" style=\"background: #ddd; padding: 0.45em 0.6em; margin: 0 0.25em; line-height: 1; border-radius: 0.35em;\">\n    The extension headers are placed between the fixed header and the payload\n    <span style=\"font-size: 0.8em; font-weight: bold; line-height: 1; border-radius: 0.35em; vertical-align: middle; margin-left: 0.5rem\">CUE</span>\n</mark>\n. \n<mark class=\"entity\" style=\"background: #ddd; padding: 0.45em 0.6em; margin: 0 0.25em; line-height: 1; border-radius: 0.35em;\">\n    Every extension header points to the next header\n    <span style=\"font-size: 0.8em; font-weight: bold; line-height: 1; border-radius: 0.35em; vertical-align: middle; margin-left: 0.5rem\">CUE</span>\n</mark>\n. \n<mark class=\"entity\" style=\"background: #ddd; padding: 0.45em 0.6em; margin: 0 0.25em; line-height: 1; border-radius: 0.35em;\">\n    There is also the possibility to refer to a &quot;No Next Header&quot; which is only to show that nothing else follows\n    <span style=\"font-size: 0.8em; font-weight: bold; line-height: 1; border-radius: 0.35em; vertical-align: middle; margin-left: 0.5rem\">CUE</span>\n</mark>\n. It creates a chain, at the end of which is usually the TCP or UDP header.   Extension \n<mark class=\"entity\" style=\"background: #ddd; padding: 0.45em 0.6em; margin: 0 0.25em; line-height: 1; border-radius: 0.35em;\">\n    headers are a way to extend the header and put additional information between the payload and the\n    <span style=\"font-size: 0.8em; font-weight: bold; line-height: 1; border-radius: 0.35em; vertical-align: middle; margin-left: 0.5rem\">CUE</span>\n</mark>\n header. They are optional, and that's why we have an absolute efficiency gain comparing to IPv4. Because in IPv4, we had at least one part for the option reserved, but in IPv6, we can say there are no extension headers, and so we have a smaller header and, therefore, much more space for the payload. Also, extension headers result in a significant improvement in router performance for packets containing options. In contrast to IPv4, the extension headers are only examined by a router when a packet arrives at its final destination and not along their delivery path.</div></span>"
     },
     "metadata": {},
     "output_type": "display_data"
    },
    {
     "name": "stdout",
     "output_type": "stream",
     "text": [
      "PARTIAL_CORRECT\n"
     ]
    },
    {
     "data": {
      "text/plain": "<IPython.core.display.HTML object>",
      "text/html": "<span class=\"tex2jax_ignore\"><div class=\"entities\" style=\"line-height: 2.5; direction: ltr\">\n<mark class=\"entity\" style=\"background: #ddd; padding: 0.45em 0.6em; margin: 0 0.25em; line-height: 1; border-radius: 0.35em;\">\n    Ich gebe mich zu erkennen und zeige das Schreiben vor\n    <span style=\"font-size: 0.8em; font-weight: bold; line-height: 1; border-radius: 0.35em; vertical-align: middle; margin-left: 0.5rem\">CUE</span>\n</mark>\n. \n<mark class=\"entity\" style=\"background: #ddd; padding: 0.45em 0.6em; margin: 0 0.25em; line-height: 1; border-radius: 0.35em;\">\n    Dann führe ich den Job mit Zustimmung weiter aus\n    <span style=\"font-size: 0.8em; font-weight: bold; line-height: 1; border-radius: 0.35em; vertical-align: middle; margin-left: 0.5rem\">CUE</span>\n</mark>\n. \n<mark class=\"entity\" style=\"background: #ddd; padding: 0.45em 0.6em; margin: 0 0.25em; line-height: 1; border-radius: 0.35em;\">\n    Zudem vermerke ich das bei der Jobausführung\n    <span style=\"font-size: 0.8em; font-weight: bold; line-height: 1; border-radius: 0.35em; vertical-align: middle; margin-left: 0.5rem\">CUE</span>\n</mark>\n.</div></span>"
     },
     "metadata": {},
     "output_type": "display_data"
    },
    {
     "name": "stdout",
     "output_type": "stream",
     "text": [
      "CORRECT\n"
     ]
    },
    {
     "data": {
      "text/plain": "<IPython.core.display.HTML object>",
      "text/html": "<span class=\"tex2jax_ignore\"><div class=\"entities\" style=\"line-height: 2.5; direction: ltr\">\n<mark class=\"entity\" style=\"background: #ddd; padding: 0.45em 0.6em; margin: 0 0.25em; line-height: 1; border-radius: 0.35em;\">\n    Piggybacking only makes sense if there is a full-duplex or semi-duplex connection between sender and receiver\n    <span style=\"font-size: 0.8em; font-weight: bold; line-height: 1; border-radius: 0.35em; vertical-align: middle; margin-left: 0.5rem\">CUE</span>\n</mark>\n. Therefore, \n<mark class=\"entity\" style=\"background: #ddd; padding: 0.45em 0.6em; margin: 0 0.25em; line-height: 1; border-radius: 0.35em;\">\n    the ACK for a data frame from a sender is sent in one frame with the next data frame issued by the receiver\n    <span style=\"font-size: 0.8em; font-weight: bold; line-height: 1; border-radius: 0.35em; vertical-align: middle; margin-left: 0.5rem\">CUE</span>\n</mark>\n. Thus, the requirement for piggybacking is a duplex connection (and the need of sending an ACK).</div></span>"
     },
     "metadata": {},
     "output_type": "display_data"
    },
    {
     "name": "stdout",
     "output_type": "stream",
     "text": [
      "CORRECT\n"
     ]
    },
    {
     "data": {
      "text/plain": "<IPython.core.display.HTML object>",
      "text/html": "<span class=\"tex2jax_ignore\"><div class=\"entities\" style=\"line-height: 2.5; direction: ltr\">The first phase, slow start, \n<mark class=\"entity\" style=\"background: #ddd; padding: 0.45em 0.6em; margin: 0 0.25em; line-height: 1; border-radius: 0.35em;\">\n    will double cwnd every round-trip time by increasing it by 1 for each received ACK\n    <span style=\"font-size: 0.8em; font-weight: bold; line-height: 1; border-radius: 0.35em; vertical-align: middle; margin-left: 0.5rem\">CUE</span>\n</mark>\n. \n<mark class=\"entity\" style=\"background: #ddd; padding: 0.45em 0.6em; margin: 0 0.25em; line-height: 1; border-radius: 0.35em;\">\n    When cwnd reaches ss_thresh, the congestion avoidance phase is entered\n    <span style=\"font-size: 0.8em; font-weight: bold; line-height: 1; border-radius: 0.35em; vertical-align: middle; margin-left: 0.5rem\">CUE</span>\n</mark>\n. \n<mark class=\"entity\" style=\"background: #ddd; padding: 0.45em 0.6em; margin: 0 0.25em; line-height: 1; border-radius: 0.35em;\">\n    The congestion avoidance phase will additively increase cwnd by 1 every round-trip time\n    <span style=\"font-size: 0.8em; font-weight: bold; line-height: 1; border-radius: 0.35em; vertical-align: middle; margin-left: 0.5rem\">CUE</span>\n</mark>\n. \n<mark class=\"entity\" style=\"background: #ddd; padding: 0.45em 0.6em; margin: 0 0.25em; line-height: 1; border-radius: 0.35em;\">\n    If congestion is encountered in any of the phases, ss_thresh is set to half the value of cwnd, cwnd is set to 1 and the slow start phase is entered\n    <span style=\"font-size: 0.8em; font-weight: bold; line-height: 1; border-radius: 0.35em; vertical-align: middle; margin-left: 0.5rem\">CUE</span>\n</mark>\n.</div></span>"
     },
     "metadata": {},
     "output_type": "display_data"
    },
    {
     "name": "stdout",
     "output_type": "stream",
     "text": [
      "CORRECT\n"
     ]
    },
    {
     "data": {
      "text/plain": "<IPython.core.display.HTML object>",
      "text/html": "<span class=\"tex2jax_ignore\"><div class=\"entities\" style=\"line-height: 2.5; direction: ltr\">\n<mark class=\"entity\" style=\"background: #ddd; padding: 0.45em 0.6em; margin: 0 0.25em; line-height: 1; border-radius: 0.35em;\">\n    A duplex operation mode is required\n    <span style=\"font-size: 0.8em; font-weight: bold; line-height: 1; border-radius: 0.35em; vertical-align: middle; margin-left: 0.5rem\">CUE</span>\n</mark>\n, so that both communication partners can send data frames with piggybacked acknowledgments. (Efficient if window size greater than 1 only.)</div></span>"
     },
     "metadata": {},
     "output_type": "display_data"
    },
    {
     "name": "stdout",
     "output_type": "stream",
     "text": [
      "CORRECT\n"
     ]
    },
    {
     "data": {
      "text/plain": "<IPython.core.display.HTML object>",
      "text/html": "<span class=\"tex2jax_ignore\"><div class=\"entities\" style=\"line-height: 2.5; direction: ltr\">\n<mark class=\"entity\" style=\"background: #ddd; padding: 0.45em 0.6em; margin: 0 0.25em; line-height: 1; border-radius: 0.35em;\">\n    Ich gebe mich zu erkennen und lege dem Mitarbeiter das Informationsschreiben vor\n    <span style=\"font-size: 0.8em; font-weight: bold; line-height: 1; border-radius: 0.35em; vertical-align: middle; margin-left: 0.5rem\">CUE</span>\n</mark>\n, welches ich von Ihnen erhalten habe.</div></span>"
     },
     "metadata": {},
     "output_type": "display_data"
    },
    {
     "name": "stdout",
     "output_type": "stream",
     "text": [
      "PARTIAL_CORRECT\n"
     ]
    },
    {
     "data": {
      "text/plain": "<IPython.core.display.HTML object>",
      "text/html": "<span class=\"tex2jax_ignore\"><div class=\"entities\" style=\"line-height: 2.5; direction: ltr\">\n<mark class=\"entity\" style=\"background: #ddd; padding: 0.45em 0.6em; margin: 0 0.25em; line-height: 1; border-radius: 0.35em;\">\n    Reverse Path Forwarding: Used for ensuring loop-free forwarding of multicast packets in multicast routing and to help prevent IP address spoofing in unicast routing\n    <span style=\"font-size: 0.8em; font-weight: bold; line-height: 1; border-radius: 0.35em; vertical-align: middle; margin-left: 0.5rem\">CUE</span>\n</mark>\n.  Checks if the packet arrived at the IS entry port over which the packets for this station/source are usually sent. \n<mark class=\"entity\" style=\"background: #ddd; padding: 0.45em 0.6em; margin: 0 0.25em; line-height: 1; border-radius: 0.35em;\">\n    If packet is assumed taking the best route: resend over all edges (not including the incoming one)\n    <span style=\"font-size: 0.8em; font-weight: bold; line-height: 1; border-radius: 0.35em; vertical-align: middle; margin-left: 0.5rem\">CUE</span>\n</mark>\n. \n<mark class=\"entity\" style=\"background: #ddd; padding: 0.45em 0.6em; margin: 0 0.25em; line-height: 1; border-radius: 0.35em;\">\n    If packet is assumed not taking the best route: discard packet\n    <span style=\"font-size: 0.8em; font-weight: bold; line-height: 1; border-radius: 0.35em; vertical-align: middle; margin-left: 0.5rem\">CUE</span>\n</mark>\n.  \n<mark class=\"entity\" style=\"background: #ddd; padding: 0.45em 0.6em; margin: 0 0.25em; line-height: 1; border-radius: 0.35em;\">\n    Reverse Path Broadcast: Used to check if the set of shortest paths to a node forms a tree that spans the network\n    <span style=\"font-size: 0.8em; font-weight: bold; line-height: 1; border-radius: 0.35em; vertical-align: middle; margin-left: 0.5rem\">CUE</span>\n</mark>\n.  \n<mark class=\"entity\" style=\"background: #ddd; padding: 0.45em 0.6em; margin: 0 0.25em; line-height: 1; border-radius: 0.35em;\">\n    If the packet arrives at the IS entry over which the packets for this station/source are usually sent: Checks if Packet used the BEST route until now: if yes, select the edge at which the packets arrived and from which they are then rerouted to source\n    <span style=\"font-size: 0.8em; font-weight: bold; line-height: 1; border-radius: 0.35em; vertical-align: middle; margin-left: 0.5rem\">CUE</span>\n</mark>\n. If no, do not send over all edges (without the incoming one). If the packet is not for this station/source: discard packet.</div></span>"
     },
     "metadata": {},
     "output_type": "display_data"
    },
    {
     "name": "stdout",
     "output_type": "stream",
     "text": [
      "PARTIAL_CORRECT\n"
     ]
    },
    {
     "data": {
      "text/plain": "<IPython.core.display.HTML object>",
      "text/html": "<span class=\"tex2jax_ignore\"><div class=\"entities\" style=\"line-height: 2.5; direction: ltr\">\n<mark class=\"entity\" style=\"background: #ddd; padding: 0.45em 0.6em; margin: 0 0.25em; line-height: 1; border-radius: 0.35em;\">\n    Ob der Gesamteindruck gepflegt und einen sicheren Eindruck machte\n    <span style=\"font-size: 0.8em; font-weight: bold; line-height: 1; border-radius: 0.35em; vertical-align: middle; margin-left: 0.5rem\">CUE</span>\n</mark>\n.</div></span>"
     },
     "metadata": {},
     "output_type": "display_data"
    },
    {
     "name": "stdout",
     "output_type": "stream",
     "text": [
      "PARTIAL_CORRECT\n"
     ]
    },
    {
     "data": {
      "text/plain": "<IPython.core.display.HTML object>",
      "text/html": "<span class=\"tex2jax_ignore\"><div class=\"entities\" style=\"line-height: 2.5; direction: ltr\">\n<mark class=\"entity\" style=\"background: #ddd; padding: 0.45em 0.6em; margin: 0 0.25em; line-height: 1; border-radius: 0.35em;\">\n    Zu achten ist über die Art der Ansprache und Verabschiedung\n    <span style=\"font-size: 0.8em; font-weight: bold; line-height: 1; border-radius: 0.35em; vertical-align: middle; margin-left: 0.5rem\">CUE</span>\n</mark>\n. Erfolgte diese ggf. mit persönlichen Worten. Wurde ich freundlich bedient und wurden mir weitere Angebote unterbreitet.</div></span>"
     },
     "metadata": {},
     "output_type": "display_data"
    },
    {
     "name": "stdout",
     "output_type": "stream",
     "text": [
      "PARTIAL_CORRECT\n"
     ]
    },
    {
     "data": {
      "text/plain": "<IPython.core.display.HTML object>",
      "text/html": "<span class=\"tex2jax_ignore\"><div class=\"entities\" style=\"line-height: 2.5; direction: ltr\">\n<mark class=\"entity\" style=\"background: #ddd; padding: 0.45em 0.6em; margin: 0 0.25em; line-height: 1; border-radius: 0.35em;\">\n    Network Topology and Access Points- Network topology and Access Points changes faster when the devices are moving around which is not the case in fixed network\n    <span style=\"font-size: 0.8em; font-weight: bold; line-height: 1; border-radius: 0.35em; vertical-align: middle; margin-left: 0.5rem\">CUE</span>\n</mark>\n. \n<mark class=\"entity\" style=\"background: #ddd; padding: 0.45em 0.6em; margin: 0 0.25em; line-height: 1; border-radius: 0.35em;\">\n    Security - As the network could be available even inside and outside the building, it possesses a threat to security\n    <span style=\"font-size: 0.8em; font-weight: bold; line-height: 1; border-radius: 0.35em; vertical-align: middle; margin-left: 0.5rem\">CUE</span>\n</mark>\n. User Mobility: The users can be moving from one network to another and want to communicate anytime with anyone without losing the network.  Device Portability: The device can change in a period of time but having the portability with the other device to connect anytime and anywhere to the network.</div></span>"
     },
     "metadata": {},
     "output_type": "display_data"
    },
    {
     "name": "stdout",
     "output_type": "stream",
     "text": [
      "PARTIAL_CORRECT\n"
     ]
    }
   ],
   "source": [
    "sample_size = 10\n",
    "i = 0\n",
    "for doc, d in zip(docs, data):\n",
    "    if i < sample_size:\n",
    "        skweak.utils.display_entities(doc, 'hmm')\n",
    "\n",
    "        print(d['label'])\n",
    "    i+=1"
   ]
  },
  {
   "cell_type": "code",
   "execution_count": 7,
   "outputs": [],
   "source": [
    "def relation(spans, doc):\n",
    "    spans = [len(s) for s in spans]\n",
    "    return sum(spans)/len(doc)"
   ],
   "metadata": {
    "collapsed": false,
    "pycharm": {
     "name": "#%%\n"
    }
   }
  },
  {
   "cell_type": "code",
   "execution_count": 12,
   "metadata": {
    "pycharm": {
     "name": "#%%\n"
    }
   },
   "outputs": [
    {
     "name": "stdout",
     "output_type": "stream",
     "text": [
      "DE\n",
      "AVERAGE NUMBER OF KEY ELEMENTS\n",
      "1.4036036036036037 1.1666666666666667 0.9404761904761905\n",
      "AVERAGE NUMBER OF TOKENS PER KEY ELEMENT\n",
      "9.06 7.833333333333333 5.259920634920634\n",
      "AVERAGE RELATION OF I-CUE TO OUT\n",
      "0.7820578182741155 0.7791386483633941 0.6948670832209384\n",
      "----------\n",
      "EN\n",
      "AVERAGE NUMBER OF KEY ELEMENTS\n",
      "2.783661119515885 2.963963963963964 0.8229166666666666\n",
      "AVERAGE NUMBER OF TOKENS PER KEY ELEMENT\n",
      "22.21207962486329 20.18655321988655 5.722371031746032\n",
      "AVERAGE RELATION OF I-CUE TO OUT\n",
      "0.6381925669334025 0.6096819641151562 0.33625420539665996\n",
      "----------\n",
      "COMBINED\n",
      "AVERAGE NUMBER OF KEY ELEMENTS\n",
      "2.153782894736842 1.8868832731648617 0.8777777777777778\n",
      "AVERAGE NUMBER OF TOKENS PER KEY ELEMENT\n",
      "16.20928012502848 12.783540580291485 5.506560846560847\n",
      "AVERAGE RELATION OF I-CUE TO OUT\n",
      "0.7038547499055208 0.7112336232675298 0.5036068817146565\n",
      "----------\n"
     ]
    }
   ],
   "source": [
    "disable_lang_filter = False\n",
    "for language in ['de', 'en', 'combined']:\n",
    "    relations_correct, relations_partial, relations_incorrect = [], [], []\n",
    "    len_rubrics_correct, len_rubrics_partial, len_rubrics_incorrect = [], [], []\n",
    "    len_rubrics_average_correct, len_rubrics_average_partial, len_rubrics_average_incorrect = [], [], []\n",
    "    if language == 'combined':\n",
    "        disable_lang_filter = True\n",
    "    for doc, d in zip(docs, data):\n",
    "        c = d['label']\n",
    "        lang = d['lang']\n",
    "        spans = skweak.utils.get_spans(doc, [\"hmm\"])\n",
    "        if lang == language or disable_lang_filter:\n",
    "            rel = relation(spans, doc)\n",
    "            len_rubrics = [len(s) for s in spans]\n",
    "            if len(len_rubrics) > 0:\n",
    "                len_rubrics_average = np.average(len_rubrics)\n",
    "            else:\n",
    "                len_rubrics_average = 0\n",
    "            if c == 'CORRECT':\n",
    "                relations_correct.append(rel)\n",
    "                len_rubrics_correct.append(len(len_rubrics))\n",
    "                len_rubrics_average_correct.append(len_rubrics_average)\n",
    "            elif c == 'PARTIAL_CORRECT':\n",
    "                relations_partial.append(rel)\n",
    "                len_rubrics_partial.append(len(len_rubrics))\n",
    "                len_rubrics_average_partial.append(len_rubrics_average)\n",
    "            elif c == 'INCORRECT':\n",
    "                relations_incorrect.append(rel)\n",
    "                len_rubrics_incorrect.append(len(len_rubrics))\n",
    "                len_rubrics_average_incorrect.append(len_rubrics_average)\n",
    "    print(language.upper())\n",
    "    print('AVERAGE NUMBER OF KEY ELEMENTS')\n",
    "    print(np.average(len_rubrics_correct), np.average(len_rubrics_partial), np.average(len_rubrics_incorrect))\n",
    "    print('AVERAGE NUMBER OF TOKENS PER KEY ELEMENT')\n",
    "    print(np.average(len_rubrics_average_correct), np.average(len_rubrics_average_partial), np.average(len_rubrics_average_incorrect))\n",
    "    print('AVERAGE RELATION OF I-CUE TO OUT')\n",
    "    print(np.average(relations_correct), np.average(relations_partial), np.average(relations_incorrect))\n",
    "    print(10*'-')"
   ]
  },
  {
   "cell_type": "code",
   "execution_count": 29,
   "outputs": [],
   "source": [
    "labels = []\n",
    "for doc, d in zip(docs, data):\n",
    "    label = np.zeros((len(doc)))\n",
    "    probs = doc.spans[\"hmm\"].attrs['probs']\n",
    "    for k,v in probs.items():\n",
    "        label[int(k)] = v['I-CUE']\n",
    "    labels.append(label.tolist())"
   ],
   "metadata": {
    "collapsed": false,
    "pycharm": {
     "name": "#%%\n"
    }
   }
  },
  {
   "cell_type": "code",
   "execution_count": 37,
   "outputs": [
    {
     "name": "stdout",
     "output_type": "stream",
     "text": [
      "Ich 0.9999121144286632\n",
      "zeige 0.9999819354349667\n",
      "mein 0.9999824318914303\n",
      "informationsschreiben 1.0\n"
     ]
    }
   ],
   "source": [
    "for t,l in zip(docs[100], labels[100]):\n",
    "    print(t,l)"
   ],
   "metadata": {
    "collapsed": false,
    "pycharm": {
     "name": "#%%\n"
    }
   }
  },
  {
   "cell_type": "code",
   "execution_count": 35,
   "outputs": [
    {
     "data": {
      "text/plain": "{'lang': 'de',\n 'question_id': '1',\n 'question': 'Frage 1: Wie reagierst du, wenn du auf deine Tätigkeit angesprochen wirst?',\n 'reference_answer': 'Der Jobber soll sich in diesem Fall dem Personal gegenüber zu erkennen geben (0.25 P) und das entsprechende Informationsschreiben in der App vorzeigen (0.25 P). Zusätzlich muss notiert werden, zu welchem Zeitpunkt (0.25 P) des Jobs der Jobber enttarnt wurde. Zentrale Frage ist dabei, ob ein neutrales, unvoreingenommenes Verkaufsgespräch stattgefunden hat. Der Job soll mit Erlaubnis der Mitarbeiter bis zum Ende durchgeführt (0.25 P) werden.',\n 'score': 0.25,\n 'label': 'PARTIAL_CORRECT',\n 'student_answer': 'Ich zeige mein informationsschreiben',\n 'labeling_functions': {'LF_noun_phrases': [0.0, 0.0, 0.0, 0.0],\n  'LF_lemma_match': [0.0, 0.0, 0.0, 0.0],\n  'LF_pos_match': [0.0, 0.0, 0.0, 0.0],\n  'LF_lemma_match_without_stopwords': [0.0, 0.0, 0.0, 0.0],\n  'LF_pos_match_without_stopwords': [0.0, 1.0, 1.0, 0.0],\n  'LF_shape_match': [0.0, 0.0, 0.0, 0.0],\n  'LF_stem_match': [0.0, 0.0, 0.0, 0.0],\n  'LF_tag_match': [0.0, 0.0, 0.0, 0.0],\n  'LF_dep_match': [0.0, 0.0, 0.0, 0.0],\n  'LF_dep_match_without_stopwords': [0.0, 0.0, 0.0, 0.0],\n  'LF_bi_gram_overlap': [0.0, 0.0, 0.0, 0.0],\n  'LF_tri_gram_overlap': [0.0, 0.0, 0.0, 0.0],\n  'LF_tetra_gram_overlap': [0.0, 0.0, 0.0, 0.0],\n  'LF_penta_gram_overlap': [0.0, 0.0, 0.0, 0.0],\n  'LF_rouge_1_candidate': [0.0, 0.0, 0.0, 0.0],\n  'LF_rouge_2_candidate': [0.0, 0.0, 0.0, 0.0],\n  'LF_rouge_L_candidate': [0.0, 0.0, 0.0, 0.0],\n  'LF_rouge_L_sentences': [0.0, 0.0, 0.0, 0.0],\n  'LF_word_alignment': [0.0, 0.0, 0.0, 1.0],\n  'LF_edit_distance': [0.03225806451612903,\n   0.03225806451612903,\n   0.03225806451612903,\n   0.03225806451612903],\n  'LF_parahrase_detection_sentences': [0.5624517202377319,\n   0.5624517202377319,\n   0.5624517202377319,\n   0.5624517202377319],\n  'LF_parahrase_detection_candidates': [0.5624517202377319,\n   0.5624517202377319,\n   0.5624517202377319,\n   0.5624517202377319],\n  'LF_bleu_candidates': [0.752428199902768,\n   0.752428199902768,\n   0.752428199902768,\n   0.752428199902768],\n  'LF_meteor_candidates': [0.12195121951219512,\n   0.12195121951219512,\n   0.12195121951219512,\n   0.12195121951219512],\n  'LF_meteor_sentences': [0.12195121951219512,\n   0.12195121951219512,\n   0.12195121951219512,\n   0.12195121951219512],\n  'LF_jaccard_similarity': [0.0, 0.0, 0.0, 0.0]}}"
     },
     "execution_count": 35,
     "metadata": {},
     "output_type": "execute_result"
    }
   ],
   "source": [
    "data[100]"
   ],
   "metadata": {
    "collapsed": false,
    "pycharm": {
     "name": "#%%\n"
    }
   }
  },
  {
   "cell_type": "code",
   "execution_count": 39,
   "outputs": [
    {
     "data": {
      "text/plain": "<IPython.core.display.HTML object>",
      "text/html": "<span class=\"tex2jax_ignore\"><div class=\"entities\" style=\"line-height: 2.5; direction: ltr\">\n<mark class=\"entity\" style=\"background: #ddd; padding: 0.45em 0.6em; margin: 0 0.25em; line-height: 1; border-radius: 0.35em;\">\n    The functionality of options in\n    <span style=\"font-size: 0.8em; font-weight: bold; line-height: 1; border-radius: 0.35em; vertical-align: middle; margin-left: 0.5rem\">CUE</span>\n</mark>\n IPv4 headers is removed and replaced from the main header through a set of so-called extension headers. They are additional headers in the IPv6 which are used for implementing more extensions. \n<mark class=\"entity\" style=\"background: #ddd; padding: 0.45em 0.6em; margin: 0 0.25em; line-height: 1; border-radius: 0.35em;\">\n    The main header has a fixed size of 40 bytes; the extensions headers\n    <span style=\"font-size: 0.8em; font-weight: bold; line-height: 1; border-radius: 0.35em; vertical-align: middle; margin-left: 0.5rem\">CUE</span>\n</mark>\n, on the other hand, \n<mark class=\"entity\" style=\"background: #ddd; padding: 0.45em 0.6em; margin: 0 0.25em; line-height: 1; border-radius: 0.35em;\">\n    are optional and are added as needed\n    <span style=\"font-size: 0.8em; font-weight: bold; line-height: 1; border-radius: 0.35em; vertical-align: middle; margin-left: 0.5rem\">CUE</span>\n</mark>\n. That means you can add extensions without planning it. \n<mark class=\"entity\" style=\"background: #ddd; padding: 0.45em 0.6em; margin: 0 0.25em; line-height: 1; border-radius: 0.35em;\">\n    There are several extension headers: Routing\n    <span style=\"font-size: 0.8em; font-weight: bold; line-height: 1; border-radius: 0.35em; vertical-align: middle; margin-left: 0.5rem\">CUE</span>\n</mark>\n, Fragment, Destination, etc.   \n<mark class=\"entity\" style=\"background: #ddd; padding: 0.45em 0.6em; margin: 0 0.25em; line-height: 1; border-radius: 0.35em;\">\n    The extension headers are placed between the fixed header and the payload\n    <span style=\"font-size: 0.8em; font-weight: bold; line-height: 1; border-radius: 0.35em; vertical-align: middle; margin-left: 0.5rem\">CUE</span>\n</mark>\n. \n<mark class=\"entity\" style=\"background: #ddd; padding: 0.45em 0.6em; margin: 0 0.25em; line-height: 1; border-radius: 0.35em;\">\n    Every extension header points to the next header\n    <span style=\"font-size: 0.8em; font-weight: bold; line-height: 1; border-radius: 0.35em; vertical-align: middle; margin-left: 0.5rem\">CUE</span>\n</mark>\n. \n<mark class=\"entity\" style=\"background: #ddd; padding: 0.45em 0.6em; margin: 0 0.25em; line-height: 1; border-radius: 0.35em;\">\n    There is also the possibility to refer to a &quot;No Next Header&quot; which is only to show that nothing else follows\n    <span style=\"font-size: 0.8em; font-weight: bold; line-height: 1; border-radius: 0.35em; vertical-align: middle; margin-left: 0.5rem\">CUE</span>\n</mark>\n. It creates a chain, at the end of which is usually the TCP or UDP header.   Extension \n<mark class=\"entity\" style=\"background: #ddd; padding: 0.45em 0.6em; margin: 0 0.25em; line-height: 1; border-radius: 0.35em;\">\n    headers are a way to extend the header and put additional information between the payload and the\n    <span style=\"font-size: 0.8em; font-weight: bold; line-height: 1; border-radius: 0.35em; vertical-align: middle; margin-left: 0.5rem\">CUE</span>\n</mark>\n header. They are optional, and that's why we have an absolute efficiency gain comparing to IPv4. Because in IPv4, we had at least one part for the option reserved, but in IPv6, we can say there are no extension headers, and so we have a smaller header and, therefore, much more space for the payload. Also, extension headers result in a significant improvement in router performance for packets containing options. In contrast to IPv4, the extension headers are only examined by a router when a packet arrives at its final destination and not along their delivery path.</div></span>"
     },
     "metadata": {},
     "output_type": "display_data"
    },
    {
     "name": "stdout",
     "output_type": "stream",
     "text": [
      "[0.6783796984540141, 0.6291256290976186, 0.5850250739548654, 0.545424470259314, 0.509736943764081, 0.4774336113641682, 0.44803574313836547, 0.42110766765314567, 0.39625031538576977, 0.37309530458085904, 0.3512994818958464, 0.3305398369258068, 0.3105087152444384, 0.2909092590173608, 0.2714510076192552, 0.25184559305625864, 0.231802466401457, 0.21102459190877979, 0.18920404499343016, 0.16601744884175135, 0.14112118202158558, 0.11414628607059749, 0.0, 0.0, 0.0, 0.0, 0.0, 0.0, 0.0, 0.0, 0.0, 0.0, 0.0, 0.0, 0.0, 0.0, 0.0, 0.0, 0.0, 0.0, 1.0, 1.0, 1.0, 1.0, 1.0, 1.0, 1.0, 1.0, 1.0, 1.0, 0.6360403616122355, 0.8036668348974945, 0.8132866313597135, 0.7104784675677673, 0.0, 0.0, 0.0, 0.0, 0.0, 0.0, 0.848724541556727, 0.9761042426066322, 0.9953779103424634, 0.9978644247853713, 0.9953449226233314, 0.9758819709410539, 0.8472598599985052, 0.0, 0.0, 0.0, 0.0, 0.0, 0.0, 0.0, 0.0, 0.0, 0.0, 0.0, 0.8475042555417195, 0.97617017161929, 0.9956839061082632, 0.998501778325434, 0.9979749022588701, 0.9916069324807629, 0.8618879824917256, 0.0, 0.0, 0.0, 0.0, 0.0, 0.0, 0.0, 0.0, 0.5021188200224723, 0.7496145133953802, 0.8715621396349221, 0.9315412246923984, 0.9608229126856209, 0.9746737233414604, 0.9803150188357274, 0.9806879871551444, 0.9494810336187298, 0.8882808776697655, 0.7651797485431187, 0.515996721400254, 0.0, 0.8492034279892227, 0.9764968799504228, 0.9958142020958087, 0.9986811095863765, 0.9986810461535411, 0.9958137112514395, 0.9764936360690356, 0.8491820615193624, 0.0, 0.5092423078212538, 0.7550406686567738, 0.8762215001608084, 0.9359645464490964, 0.965417888702659, 0.9799375415966202, 0.9870935798952523, 0.9906169292161827, 0.9923445492978673, 0.9931771650595769, 0.9935488752783281, 0.993653477572084, 0.9935455081750492, 0.9931686753552585, 0.9923265107368804, 0.9905799370794875, 0.9870183476859604, 0.9797848456873378, 0.9651081184132634, 0.9353361976258493, 0.8749469721642398, 0.7524554640442064, 0.503998584991432, 0.0, 0.0, 0.0, 0.0, 0.0, 0.0, 0.0, 0.0, 0.0, 0.0, 0.0, 0.0, 0.0, 0.0, 0.0, 0.0, 0.0, 0.0, 0.0, 0.0, 0.3061667325214395, 0.5161647885569175, 0.6614265542047337, 0.7619828815366023, 0.8316999720865058, 0.8801914548881025, 0.9141440565854763, 0.9382396667245823, 0.9558009462975312, 0.9692495056412302, 0.9804398320778289, 0.9909150141999232, 0.9901965231843359, 0.9765776537385508, 0.9177081105257578, 0.8374369809571336, 0.7246952881766403, 0.5639365312841214, 0.33299290263823084, 0.0, 0.0, 0.0, 0.0, 0.0, 0.0, 0.0, 0.0, 0.0, 0.0, 0.0, 0.0, 0.0, 0.0, 0.0, 0.0, 0.0, 0.0, 0.0, 0.0, 0.0, 0.0, 0.0, 0.0, 0.0, 0.0, 0.0, 0.0, 0.0, 0.0, 0.0, 0.0, 0.0, 0.0, 0.0, 0.0, 0.0, 0.0, 0.0, 0.0, 0.0, 0.0, 0.0, 0.0, 0.0, 0.0, 0.0, 0.0, 0.0, 0.0, 0.0, 0.0, 0.0, 0.0, 0.0, 0.0, 0.0, 0.0, 0.0, 0.0, 0.0, 0.0, 0.0, 0.0, 0.0, 0.0, 0.0, 0.0, 0.0, 0.0, 0.0, 0.0, 0.0, 0.0, 0.0, 0.0, 0.0, 0.0, 0.0, 0.0, 0.0, 0.0, 0.0, 0.0, 0.0, 0.0, 0.0, 0.0, 0.0, 0.0, 0.0, 0.0, 0.0, 0.0, 0.0, 0.0, 0.0, 0.0, 0.0, 0.0, 0.0, 0.0, 0.0, 0.0, 0.0, 0.0, 0.0, 0.0, 0.0, 0.0, 0.0]\n",
      "PARTIAL_CORRECT\n"
     ]
    },
    {
     "data": {
      "text/plain": "<IPython.core.display.HTML object>",
      "text/html": "<span class=\"tex2jax_ignore\"><div class=\"entities\" style=\"line-height: 2.5; direction: ltr\">\n<mark class=\"entity\" style=\"background: #ddd; padding: 0.45em 0.6em; margin: 0 0.25em; line-height: 1; border-radius: 0.35em;\">\n    Ich gebe mich zu erkennen und zeige das Schreiben vor\n    <span style=\"font-size: 0.8em; font-weight: bold; line-height: 1; border-radius: 0.35em; vertical-align: middle; margin-left: 0.5rem\">CUE</span>\n</mark>\n. \n<mark class=\"entity\" style=\"background: #ddd; padding: 0.45em 0.6em; margin: 0 0.25em; line-height: 1; border-radius: 0.35em;\">\n    Dann führe ich den Job mit Zustimmung weiter aus\n    <span style=\"font-size: 0.8em; font-weight: bold; line-height: 1; border-radius: 0.35em; vertical-align: middle; margin-left: 0.5rem\">CUE</span>\n</mark>\n. \n<mark class=\"entity\" style=\"background: #ddd; padding: 0.45em 0.6em; margin: 0 0.25em; line-height: 1; border-radius: 0.35em;\">\n    Zudem vermerke ich das bei der Jobausführung\n    <span style=\"font-size: 0.8em; font-weight: bold; line-height: 1; border-radius: 0.35em; vertical-align: middle; margin-left: 0.5rem\">CUE</span>\n</mark>\n.</div></span>"
     },
     "metadata": {},
     "output_type": "display_data"
    },
    {
     "name": "stdout",
     "output_type": "stream",
     "text": [
      "[0.9998637844349085, 0.9999798397309179, 0.9999727117628431, 0.9999936679976386, 0.9999905426128917, 0.999972619715912, 0.9999724560375514, 0.9999717790447015, 0.9998950114040581, 0.9911720573049806, 0.0, 0.9911720573451099, 0.9998950114587641, 0.9999717807157655, 0.9999726413715676, 0.9999936743089092, 0.9999936925754549, 0.9999816345586859, 0.9999605900409969, 0.9963974969144082, 0.3911019142515997, 0.9963974964354859, 0.9999605891457057, 0.9999815634066009, 0.9999816862562872, 0.9999815823332064, 0.9999638044943377, 0.9912225201091761, 0.0]\n",
      "CORRECT\n"
     ]
    },
    {
     "data": {
      "text/plain": "<IPython.core.display.HTML object>",
      "text/html": "<span class=\"tex2jax_ignore\"><div class=\"entities\" style=\"line-height: 2.5; direction: ltr\">\n<mark class=\"entity\" style=\"background: #ddd; padding: 0.45em 0.6em; margin: 0 0.25em; line-height: 1; border-radius: 0.35em;\">\n    Piggybacking only makes sense if there is a full-duplex or semi-duplex connection between sender and receiver\n    <span style=\"font-size: 0.8em; font-weight: bold; line-height: 1; border-radius: 0.35em; vertical-align: middle; margin-left: 0.5rem\">CUE</span>\n</mark>\n. Therefore, \n<mark class=\"entity\" style=\"background: #ddd; padding: 0.45em 0.6em; margin: 0 0.25em; line-height: 1; border-radius: 0.35em;\">\n    the ACK for a data frame from a sender is sent in one frame with the next data frame issued by the receiver\n    <span style=\"font-size: 0.8em; font-weight: bold; line-height: 1; border-radius: 0.35em; vertical-align: middle; margin-left: 0.5rem\">CUE</span>\n</mark>\n. Thus, the requirement for piggybacking is a duplex connection (and the need of sending an ACK).</div></span>"
     },
     "metadata": {},
     "output_type": "display_data"
    },
    {
     "name": "stdout",
     "output_type": "stream",
     "text": [
      "[0.9997638243777301, 0.9999576080198113, 0.9999600589325544, 0.999959989649165, 0.9999520627407832, 0.9999519425583334, 0.9999519407361915, 0.999951940708567, 0.9999519407081406, 0.9999519407081691, 0.9999519407093912, 0.9999519407911849, 0.9999519461858493, 0.9999523020032721, 0.9999757707540133, 0.9999758315165376, 0.9999602530178114, 0.9999570915072008, 0.9997227916668668, 0.9847919182272886, 0.0, 0.15448353999001263, 0.44399776559159365, 0.9940029527594669, 0.9999023413102313, 0.9999656191446377, 0.9999663575205935, 0.9999719270470989, 0.999971976461658, 0.999971927112865, 0.9999663648661078, 0.9999663051878703, 0.9999663029378563, 0.9999661528219581, 0.9999521580240651, 0.9999520659867279, 0.9999599888580216, 0.9999599933202503, 0.9999524231328167, 0.999975773515485, 0.9999760672185567, 0.9999908553491579, 0.999973624869488, 0.9999671977437116, 0.9998657260018384, 0.989865206144759, 0.0, 0.0, 0.0, 0.0, 0.0, 0.0, 0.0, 0.0, 0.0, 0.0, 0.0, 0.0, 0.0, 0.0, 0.0, 0.0, 0.0, 0.0, 0.0, 0.0, 0.0]\n",
      "CORRECT\n"
     ]
    },
    {
     "data": {
      "text/plain": "<IPython.core.display.HTML object>",
      "text/html": "<span class=\"tex2jax_ignore\"><div class=\"entities\" style=\"line-height: 2.5; direction: ltr\">The first phase, slow start, \n<mark class=\"entity\" style=\"background: #ddd; padding: 0.45em 0.6em; margin: 0 0.25em; line-height: 1; border-radius: 0.35em;\">\n    will double cwnd every round-trip time by increasing it by 1 for each received ACK\n    <span style=\"font-size: 0.8em; font-weight: bold; line-height: 1; border-radius: 0.35em; vertical-align: middle; margin-left: 0.5rem\">CUE</span>\n</mark>\n. \n<mark class=\"entity\" style=\"background: #ddd; padding: 0.45em 0.6em; margin: 0 0.25em; line-height: 1; border-radius: 0.35em;\">\n    When cwnd reaches ss_thresh, the congestion avoidance phase is entered\n    <span style=\"font-size: 0.8em; font-weight: bold; line-height: 1; border-radius: 0.35em; vertical-align: middle; margin-left: 0.5rem\">CUE</span>\n</mark>\n. \n<mark class=\"entity\" style=\"background: #ddd; padding: 0.45em 0.6em; margin: 0 0.25em; line-height: 1; border-radius: 0.35em;\">\n    The congestion avoidance phase will additively increase cwnd by 1 every round-trip time\n    <span style=\"font-size: 0.8em; font-weight: bold; line-height: 1; border-radius: 0.35em; vertical-align: middle; margin-left: 0.5rem\">CUE</span>\n</mark>\n. \n<mark class=\"entity\" style=\"background: #ddd; padding: 0.45em 0.6em; margin: 0 0.25em; line-height: 1; border-radius: 0.35em;\">\n    If congestion is encountered in any of the phases, ss_thresh is set to half the value of cwnd, cwnd is set to 1 and the slow start phase is entered\n    <span style=\"font-size: 0.8em; font-weight: bold; line-height: 1; border-radius: 0.35em; vertical-align: middle; margin-left: 0.5rem\">CUE</span>\n</mark>\n.</div></span>"
     },
     "metadata": {},
     "output_type": "display_data"
    },
    {
     "name": "stdout",
     "output_type": "stream",
     "text": [
      "[0.0, 0.0, 0.0, 0.0, 0.0, 0.0, 0.10764716945579399, 0.9857491821202613, 0.9997234901994588, 0.9999458804041453, 0.9999494195706408, 0.9999494758937097, 0.9999494767900283, 0.9999494768042952, 0.9999494768045226, 0.999949476805489, 0.9999494768647736, 0.9999494805904441, 0.9999497146999173, 0.9999644254105062, 0.9999645791110189, 0.9999635218178966, 0.9998694473733029, 0.9915137476328928, 0.24935998943992835, 0.9915145583992838, 0.9998705676811281, 0.9999913283303642, 0.9998778223242856, 0.986795419106859, 0.9999952063726099, 0.9999990930798068, 0.9999990942242344, 0.999999094207693, 0.9999990367197803, 0.9998037999800453, 0.33675322730049484, 0.9998037999970382, 0.9999990370034286, 1.0, 0.9999990944912845, 0.9999990942246891, 0.9999990942245754, 0.9999990942246891, 0.9999990944912845, 1.0, 0.9999990947579368, 1.0, 0.9999990944912845, 0.999999094224746, 0.9999990944912845, 1.0, 0.33520642925657185, 0.9949948958185513, 0.9999788369861216, 0.9999764403752579, 0.9999669025915404, 0.9999884402333473, 0.9999667981729026, 0.9999665625539821, 0.9999660674322524, 0.9999197847082784, 0.9814432412037715, 0.9999197847075963, 0.99996606740548, 0.999966560074953, 0.9999665653192652, 0.9999665653750835, 0.9999665653732077, 0.9999665651407259, 0.999966543299259, 0.9999644914544704, 0.9935053822990143, 0.9999647381431661, 0.9999884330720119, 0.9999670302226273, 0.9999885212077405, 0.9999885203601012, 0.9999667990818555, 0.9999665678625252, 0.9999665653164799, 0.9999665573246194, 0.9999658090093292, 0.9998955102767203, 0.9842001165986429, 0.0]\n",
      "CORRECT\n"
     ]
    },
    {
     "data": {
      "text/plain": "<IPython.core.display.HTML object>",
      "text/html": "<span class=\"tex2jax_ignore\"><div class=\"entities\" style=\"line-height: 2.5; direction: ltr\">\n<mark class=\"entity\" style=\"background: #ddd; padding: 0.45em 0.6em; margin: 0 0.25em; line-height: 1; border-radius: 0.35em;\">\n    A duplex operation mode is required\n    <span style=\"font-size: 0.8em; font-weight: bold; line-height: 1; border-radius: 0.35em; vertical-align: middle; margin-left: 0.5rem\">CUE</span>\n</mark>\n, so that both communication partners can send data frames with piggybacked acknowledgments. (Efficient if window size greater than 1 only.)</div></span>"
     },
     "metadata": {},
     "output_type": "display_data"
    },
    {
     "name": "stdout",
     "output_type": "stream",
     "text": [
      "[0.9998498779645272, 1.0, 0.9999927597178616, 0.9999880064886371, 0.9999701257000276, 0.9966151833155192, 0.2701969588081753, 0.0, 0.0, 0.0, 0.0, 0.0, 0.0, 0.0, 0.0, 0.0, 0.0, 0.0, 0.0, 0.0, 0.0, 0.0, 0.0, 0.0, 0.0, 0.0, 0.0, 0.0, 0.0, 0.0, 0.0]\n",
      "CORRECT\n"
     ]
    },
    {
     "data": {
      "text/plain": "<IPython.core.display.HTML object>",
      "text/html": "<span class=\"tex2jax_ignore\"><div class=\"entities\" style=\"line-height: 2.5; direction: ltr\">\n<mark class=\"entity\" style=\"background: #ddd; padding: 0.45em 0.6em; margin: 0 0.25em; line-height: 1; border-radius: 0.35em;\">\n    Ich gebe mich zu erkennen und lege dem Mitarbeiter das Informationsschreiben vor\n    <span style=\"font-size: 0.8em; font-weight: bold; line-height: 1; border-radius: 0.35em; vertical-align: middle; margin-left: 0.5rem\">CUE</span>\n</mark>\n, welches ich von Ihnen erhalten habe.</div></span>"
     },
     "metadata": {},
     "output_type": "display_data"
    },
    {
     "name": "stdout",
     "output_type": "stream",
     "text": [
      "[0.9998637844349227, 0.9999798397312873, 0.9999727118195144, 0.9999936744528074, 0.999993692828165, 0.9999817585824888, 0.9999817402540608, 0.9999905607718761, 0.9999905331137642, 0.9999726231218196, 0.9999728548362501, 0.9942138855904814, 0.3418628239185951, 0.21699802531015006, 0.13729239460152773, 0.0, 0.0, 0.0, 0.0, 0.0]\n",
      "PARTIAL_CORRECT\n"
     ]
    },
    {
     "data": {
      "text/plain": "<IPython.core.display.HTML object>",
      "text/html": "<span class=\"tex2jax_ignore\"><div class=\"entities\" style=\"line-height: 2.5; direction: ltr\">\n<mark class=\"entity\" style=\"background: #ddd; padding: 0.45em 0.6em; margin: 0 0.25em; line-height: 1; border-radius: 0.35em;\">\n    Reverse Path Forwarding: Used for ensuring loop-free forwarding of multicast packets in multicast routing and to help prevent IP address spoofing in unicast routing\n    <span style=\"font-size: 0.8em; font-weight: bold; line-height: 1; border-radius: 0.35em; vertical-align: middle; margin-left: 0.5rem\">CUE</span>\n</mark>\n.  Checks if the packet arrived at the IS entry port over which the packets for this station/source are usually sent. \n<mark class=\"entity\" style=\"background: #ddd; padding: 0.45em 0.6em; margin: 0 0.25em; line-height: 1; border-radius: 0.35em;\">\n    If packet is assumed taking the best route: resend over all edges (not including the incoming one)\n    <span style=\"font-size: 0.8em; font-weight: bold; line-height: 1; border-radius: 0.35em; vertical-align: middle; margin-left: 0.5rem\">CUE</span>\n</mark>\n. \n<mark class=\"entity\" style=\"background: #ddd; padding: 0.45em 0.6em; margin: 0 0.25em; line-height: 1; border-radius: 0.35em;\">\n    If packet is assumed not taking the best route: discard packet\n    <span style=\"font-size: 0.8em; font-weight: bold; line-height: 1; border-radius: 0.35em; vertical-align: middle; margin-left: 0.5rem\">CUE</span>\n</mark>\n.  \n<mark class=\"entity\" style=\"background: #ddd; padding: 0.45em 0.6em; margin: 0 0.25em; line-height: 1; border-radius: 0.35em;\">\n    Reverse Path Broadcast: Used to check if the set of shortest paths to a node forms a tree that spans the network\n    <span style=\"font-size: 0.8em; font-weight: bold; line-height: 1; border-radius: 0.35em; vertical-align: middle; margin-left: 0.5rem\">CUE</span>\n</mark>\n.  \n<mark class=\"entity\" style=\"background: #ddd; padding: 0.45em 0.6em; margin: 0 0.25em; line-height: 1; border-radius: 0.35em;\">\n    If the packet arrives at the IS entry over which the packets for this station/source are usually sent: Checks if Packet used the BEST route until now: if yes, select the edge at which the packets arrived and from which they are then rerouted to source\n    <span style=\"font-size: 0.8em; font-weight: bold; line-height: 1; border-radius: 0.35em; vertical-align: middle; margin-left: 0.5rem\">CUE</span>\n</mark>\n. If no, do not send over all edges (without the incoming one). If the packet is not for this station/source: discard packet.</div></span>"
     },
     "metadata": {},
     "output_type": "display_data"
    },
    {
     "name": "stdout",
     "output_type": "stream",
     "text": [
      "[0.9999530508846491, 0.9999904734713876, 0.999990532836101, 0.9999726196823753, 0.9999724620350632, 0.9999724606476672, 0.9999724606410167, 0.9999724612725865, 0.9999725330485028, 0.9999806888022421, 1.0, 0.9999871435078327, 0.9999870899679336, 0.9999870897449398, 0.9999870897440303, 0.9999870897440303, 0.9999870897440303, 0.9999870897440303, 0.9999870897440303, 0.9999870897440303, 0.9999870897440303, 0.9999870897440303, 0.9999870897427797, 0.9999870894441282, 0.9999870177261699, 0.9999697961598366, 0.99583439570739, 0.0, 0.0, 0.0, 0.0, 0.0, 0.0, 0.0, 0.0, 0.0, 0.0, 0.0, 0.0, 0.0, 0.0, 0.0, 0.0, 0.0, 0.0, 0.0, 0.0, 0.0, 0.0, 0.0, 0.0, 0.0, 0.9958344701530383, 0.9999697964698513, 0.9999870177274773, 0.9999870894441282, 0.9999870897427797, 0.9999870897440303, 0.9999870897440303, 0.9999870897440303, 0.9999870897440303, 0.9999870897440303, 0.9999870897440303, 0.9999870897440303, 0.9999870897440303, 0.9999870897440303, 0.9999870897440303, 0.9999870897433482, 0.9999870895866328, 0.9999870519542182, 0.9999780153025569, 0.9978080516450157, 0.47673647815501247, 0.9978080516450157, 0.9999780153025569, 0.9999870519542182, 0.9999870895866328, 0.9999870897433482, 0.9999870897440303, 0.9999870897440303, 0.9999870897430639, 0.9999870895075078, 0.9999870329413642, 0.9999734497687658, 0.9967117337964243, 0.21347858237308945, 0.4435591969392487, 1.0, 1.0, 1.0, 0.9999871435078327, 0.9999870899679336, 0.9999870897449398, 0.9999870897440303, 0.9999870897449398, 0.9999870899679336, 0.9999871435078327, 1.0, 0.9999871437307697, 0.9999871437307697, 1.0, 0.9999871970477345, 1.0, 1.0, 1.0, 1.0, 1.0, 1.0, 0.999973551886626, 0.996709753789262, 0.2129894796968994, 0.44252944974288244, 0.9976655990295232, 0.9999774220693206, 0.9999870494837215, 0.9999870895760032, 0.999987089650183, 0.9999870673791056, 0.9999817192752719, 0.9999816877935184, 0.9999816876081553, 0.9999816876070753, 0.9999816876070753, 0.9999816876070753, 0.9999816876070753, 0.9999816876070753, 0.9999816876070753, 0.9999816876070753, 0.9999816876070753, 0.9999816876070753, 0.9999816876070753, 0.9999816876070753, 0.9999816876070753, 0.9999816876070753, 0.9999816876070753, 0.9999816876070753, 0.9999816876070753, 0.9999816876070753, 0.9999816876070753, 0.9999816876070753, 0.9999816876070184, 0.9999816875946268, 0.9999816854910041, 0.9999813281344072, 0.999920620656884, 0.9896076787977235, 0.999920620656884, 0.9999813281344072, 0.9999816854910609, 0.9999816875970711, 0.9999816880221384, 0.999981758132894, 0.9999936684805346, 0.999981758132894, 0.9999816880222521, 0.9999816876119638, 0.9999816880222521, 0.999981758132894, 0.9999936684805346, 0.9999817581336898, 0.9999816881618001, 0.9999817113168272, 0.994129481922871, 0.0, 0.0, 0.0, 0.0, 0.0, 0.0, 0.0, 0.0, 0.0, 0.0, 0.0, 0.0, 0.0, 0.0, 0.0, 0.0, 0.0, 0.0, 0.0, 0.0, 0.0, 0.0, 0.0, 0.0, 0.0, 0.0, 0.0, 0.0, 0.0, 0.0, 0.0]\n",
      "PARTIAL_CORRECT\n"
     ]
    },
    {
     "data": {
      "text/plain": "<IPython.core.display.HTML object>",
      "text/html": "<span class=\"tex2jax_ignore\"><div class=\"entities\" style=\"line-height: 2.5; direction: ltr\">\n<mark class=\"entity\" style=\"background: #ddd; padding: 0.45em 0.6em; margin: 0 0.25em; line-height: 1; border-radius: 0.35em;\">\n    Ob der Gesamteindruck gepflegt und einen sicheren Eindruck machte\n    <span style=\"font-size: 0.8em; font-weight: bold; line-height: 1; border-radius: 0.35em; vertical-align: middle; margin-left: 0.5rem\">CUE</span>\n</mark>\n.</div></span>"
     },
     "metadata": {},
     "output_type": "display_data"
    },
    {
     "name": "stdout",
     "output_type": "stream",
     "text": [
      "[0.99986449203515, 0.9999719760136485, 1.0, 0.9999729126737841, 0.9999726760861698, 0.9999726721071432, 0.9999724530620828, 0.9999473745080786, 0.9912765955030386, 0.0]\n",
      "PARTIAL_CORRECT\n"
     ]
    },
    {
     "data": {
      "text/plain": "<IPython.core.display.HTML object>",
      "text/html": "<span class=\"tex2jax_ignore\"><div class=\"entities\" style=\"line-height: 2.5; direction: ltr\">\n<mark class=\"entity\" style=\"background: #ddd; padding: 0.45em 0.6em; margin: 0 0.25em; line-height: 1; border-radius: 0.35em;\">\n    Zu achten ist über die Art der Ansprache und Verabschiedung\n    <span style=\"font-size: 0.8em; font-weight: bold; line-height: 1; border-radius: 0.35em; vertical-align: middle; margin-left: 0.5rem\">CUE</span>\n</mark>\n. Erfolgte diese ggf. mit persönlichen Worten. Wurde ich freundlich bedient und wurden mir weitere Angebote unterbreitet.</div></span>"
     },
     "metadata": {},
     "output_type": "display_data"
    },
    {
     "name": "stdout",
     "output_type": "stream",
     "text": [
      "[0.9998837476826398, 0.9999759635835527, 0.9999859412605501, 0.9999767726555518, 0.9999919291286529, 0.9999858218472018, 0.9999767431911378, 0.9999881087633918, 0.9999768474692631, 0.9999997744886683, 0.0, 0.0, 0.0, 0.0, 0.0, 0.0, 0.0, 0.0, 0.0, 0.0, 0.0, 0.0, 0.0, 0.0, 0.0, 0.0, 0.0, 0.0, 0.0]\n",
      "PARTIAL_CORRECT\n"
     ]
    },
    {
     "data": {
      "text/plain": "<IPython.core.display.HTML object>",
      "text/html": "<span class=\"tex2jax_ignore\"><div class=\"entities\" style=\"line-height: 2.5; direction: ltr\">\n<mark class=\"entity\" style=\"background: #ddd; padding: 0.45em 0.6em; margin: 0 0.25em; line-height: 1; border-radius: 0.35em;\">\n    Network Topology and Access Points- Network topology and Access Points changes faster when the devices are moving around which is not the case in fixed network\n    <span style=\"font-size: 0.8em; font-weight: bold; line-height: 1; border-radius: 0.35em; vertical-align: middle; margin-left: 0.5rem\">CUE</span>\n</mark>\n. \n<mark class=\"entity\" style=\"background: #ddd; padding: 0.45em 0.6em; margin: 0 0.25em; line-height: 1; border-radius: 0.35em;\">\n    Security - As the network could be available even inside and outside the building, it possesses a threat to security\n    <span style=\"font-size: 0.8em; font-weight: bold; line-height: 1; border-radius: 0.35em; vertical-align: middle; margin-left: 0.5rem\">CUE</span>\n</mark>\n. User Mobility: The users can be moving from one network to another and want to communicate anytime with anyone without losing the network.  Device Portability: The device can change in a period of time but having the portability with the other device to connect anytime and anywhere to the network.</div></span>"
     },
     "metadata": {},
     "output_type": "display_data"
    },
    {
     "name": "stdout",
     "output_type": "stream",
     "text": [
      "[0.9999086652951362, 0.9999810987706326, 0.9999638434016109, 0.9999815105406396, 0.9999780361993301, 0.9999870556620664, 0.9999964082182645, 0.9999830588650142, 0.9999970118728094, 0.9999970253757529, 0.9999970548353927, 0.9999858118842834, 0.9999857474942816, 0.9999829599846681, 0.9999896351246762, 0.9999941083392132, 0.9999857984212244, 0.999985760458887, 0.9999857984603889, 0.9999941168727813, 0.9999941115731867, 0.9999830056712201, 0.9999895976378539, 0.9999828846500074, 0.9999720549909172, 0.9980092217069735, 0.409478747616983, 0.9999758648185586, 0.9999940979867803, 0.9999941115372051, 0.9999830056720728, 0.9999895978378269, 0.9999829442847834, 0.9999829234610639, 0.9999857898834074, 0.9999950765213285, 0.999985789882441, 0.9999829232581933, 0.9999829073584511, 0.999982882360621, 0.9999783520076005, 0.9966297487151765, 0.9999645471766652, 0.9999896773153011, 0.9999829813434463, 0.9999895980668467, 0.9999830368995547, 0.9999998026396691, 0.0, 0.0, 0.0, 0.0, 0.0, 0.0, 0.0, 0.0, 0.0, 0.0, 0.0, 0.0, 0.0, 0.0, 0.0, 0.0, 0.0, 0.0, 0.0, 0.0, 0.0, 0.0, 0.0, 0.0, 0.0, 0.0, 0.0, 0.0, 0.0, 0.0, 0.0, 0.0, 0.0, 0.0, 0.0, 0.0, 0.0, 0.0, 0.0, 0.0, 0.0, 0.0, 0.0, 0.0, 0.0, 0.0, 0.0, 0.0, 0.0, 0.0, 0.0, 0.0, 0.0, 0.0, 0.0, 0.0]\n",
      "PARTIAL_CORRECT\n"
     ]
    }
   ],
   "source": [
    "sample_size = 10\n",
    "i = 0\n",
    "for doc, d, l in zip(docs, data, labels):\n",
    "    if i < sample_size:\n",
    "        skweak.utils.display_entities(doc, 'hmm')\n",
    "        print(l)\n",
    "        print(d['label'])\n",
    "    i+=1"
   ],
   "metadata": {
    "collapsed": false,
    "pycharm": {
     "name": "#%%\n"
    }
   }
  },
  {
   "cell_type": "code",
   "execution_count": null,
   "outputs": [],
   "source": [],
   "metadata": {
    "collapsed": false,
    "pycharm": {
     "name": "#%%\n"
    }
   }
  }
 ],
 "metadata": {
  "kernelspec": {
   "display_name": "Python 3 (ipykernel)",
   "language": "python",
   "name": "python3"
  },
  "language_info": {
   "codemirror_mode": {
    "name": "ipython",
    "version": 3
   },
   "file_extension": ".py",
   "mimetype": "text/x-python",
   "name": "python",
   "nbconvert_exporter": "python",
   "pygments_lexer": "ipython3",
   "version": "3.7.16"
  }
 },
 "nbformat": 4,
 "nbformat_minor": 1
}