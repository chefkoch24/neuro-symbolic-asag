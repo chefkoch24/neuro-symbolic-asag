{
 "cells": [
  {
   "cell_type": "code",
   "execution_count": null,
   "outputs": [],
   "source": [
    "import pandas as pd\n",
    "import os\n",
    "import sys\n",
    "import csv\n",
    "import numpy as np\n",
    "# Get the parent directory of the current directory\n",
    "parent_dir = os.path.abspath(os.path.join(os.getcwd(), '..'))\n",
    "\n",
    "# Add the parent directory to the Python path\n",
    "sys.path.append(parent_dir)\n",
    "import myutils\n",
    "from config import Config"
   ],
   "metadata": {
    "collapsed": false,
    "pycharm": {
     "name": "#%%\n"
    }
   }
  },
  {
   "cell_type": "code",
   "execution_count": null,
   "outputs": [],
   "source": [
    "config = Config()\n",
    "rubrics = myutils.load_rubrics('../' + config.PATH_RUBRIC)\n",
    "\n",
    "# are long rubrics an issue?\n",
    "lens = {}\n",
    "for k,v in rubrics.items():\n",
    "    lens[k] = len(v['key_element'].tolist())\n",
    "\n",
    "sorted_lens = sorted(lens.items(), key=lambda x: x[1], reverse=True)\n",
    "print(sorted_lens)"
   ],
   "metadata": {
    "collapsed": false,
    "pycharm": {
     "name": "#%%\n"
    }
   }
  },
  {
   "cell_type": "code",
   "execution_count": null,
   "outputs": [],
   "source": [
    "# how much similar spans do we predict?\n",
    "\n",
    "duplicates = []\n",
    "differences = []\n",
    "# Open the CSV file and read its contents\n",
    "with open('../results/grading_final_decision_tree_span_prediction_regression/final_prediction.csv', 'r') as csv_file:\n",
    "    reader = csv.DictReader(csv_file)\n",
    "\n",
    "    # Iterate over each row in the CSV file\n",
    "    for row in reader:\n",
    "        # Extract the justification_cues column as a string\n",
    "        justification_cues_str = row['justification_cues']\n",
    "        \n",
    "        # Convert the string representation of the list of tuples to an actual list\n",
    "        justification_cues = eval(justification_cues_str)\n",
    "        \n",
    "        duplicates.append(len(justification_cues) != len(set(justification_cues)))\n",
    "        differences.append(len(justification_cues) - len(set(justification_cues)))\n",
    "        lengths.append(len(justification_cues))\n",
    "print(len([d for d in duplicates if d==True]))\n",
    "print(np.average(differences))\n",
    "        "
   ],
   "metadata": {
    "collapsed": false,
    "pycharm": {
     "name": "#%%\n"
    }
   }
  },
  {
   "cell_type": "code",
   "execution_count": null,
   "outputs": [],
   "source": [],
   "metadata": {
    "collapsed": false,
    "pycharm": {
     "name": "#%%\n"
    }
   }
  },
  {
   "cell_type": "code",
   "execution_count": null,
   "metadata": {},
   "outputs": [],
   "source": []
  }
 ],
 "metadata": {
  "kernelspec": {
   "display_name": "Python 3 (ipykernel)",
   "language": "python",
   "name": "python3"
  },
  "language_info": {
   "codemirror_mode": {
    "name": "ipython",
    "version": 3
   },
   "file_extension": ".py",
   "mimetype": "text/x-python",
   "name": "python",
   "nbconvert_exporter": "python",
   "pygments_lexer": "ipython3",
   "version": "3.9.16"
  }
 },
 "nbformat": 4,
 "nbformat_minor": 1
}